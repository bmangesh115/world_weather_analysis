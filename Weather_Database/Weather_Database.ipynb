{
 "cells": [
  {
   "cell_type": "code",
   "execution_count": 1,
   "id": "6bd33ef3",
   "metadata": {},
   "outputs": [],
   "source": [
    "# Import dependencies\n",
    "import pandas as pd\n",
    "import matplotlib.pyplot as plt\n",
    "import numpy as np"
   ]
  },
  {
   "cell_type": "code",
   "execution_count": 2,
   "id": "c816e3d7",
   "metadata": {},
   "outputs": [
    {
     "data": {
      "text/plain": [
       "<zip at 0x212e4ec4ec8>"
      ]
     },
     "execution_count": 2,
     "metadata": {},
     "output_type": "execute_result"
    }
   ],
   "source": [
    "# Creat a set of random latitudes and longitudes combinations.\n",
    "lats = np.random.uniform(low = -90.000, high = 90.000, size = 2000)\n",
    "lngs = np.random.uniform(low = -180.000, high = 180.000, size = 2000)\n",
    "lat_lngs = zip(lats, lngs)\n",
    "lat_lngs"
   ]
  },
  {
   "cell_type": "code",
   "execution_count": 3,
   "id": "024786b9",
   "metadata": {},
   "outputs": [],
   "source": [
    "# Add the latitudes and longitudes to a list\n",
    "coordinates = list(lat_lngs)"
   ]
  },
  {
   "cell_type": "code",
   "execution_count": 4,
   "id": "12b35803",
   "metadata": {},
   "outputs": [],
   "source": [
    "# Import citipy\n",
    "from citipy import citipy"
   ]
  },
  {
   "cell_type": "code",
   "execution_count": 5,
   "id": "4d71cd23",
   "metadata": {},
   "outputs": [
    {
     "data": {
      "text/plain": [
       "757"
      ]
     },
     "execution_count": 5,
     "metadata": {},
     "output_type": "execute_result"
    }
   ],
   "source": [
    "# Create a list for holding the cities.\n",
    "cities = []\n",
    "\n",
    "# Identify the nearest city for each latitude and longitude combinations.\n",
    "for coordinate in coordinates:\n",
    "    city = citipy.nearest_city(coordinate[0], coordinate[1]).city_name\n",
    "    \n",
    "    #If the city is unique, then we will add it to the cities list.\n",
    "    if city not in cities:\n",
    "        cities.append(city)\n",
    "\n",
    "# Print the city count to confirm sufficient count.\n",
    "len(cities)"
   ]
  },
  {
   "cell_type": "code",
   "execution_count": 6,
   "id": "462deb48",
   "metadata": {},
   "outputs": [],
   "source": [
    "# Import requests library\n",
    "import requests\n",
    "\n",
    "# Import the API key.\n",
    "from config import weather_api_key"
   ]
  },
  {
   "cell_type": "code",
   "execution_count": 7,
   "id": "3d7363bc",
   "metadata": {},
   "outputs": [],
   "source": [
    "# Import the time library and the datetime module from the datetime library\n",
    "import time\n",
    "from datetime import datetime"
   ]
  },
  {
   "cell_type": "code",
   "execution_count": 8,
   "id": "ac7ea0c4",
   "metadata": {},
   "outputs": [],
   "source": [
    "import traceback"
   ]
  },
  {
   "cell_type": "code",
   "execution_count": 11,
   "id": "bc710c3e",
   "metadata": {},
   "outputs": [
    {
     "name": "stdout",
     "output_type": "stream",
     "text": [
      "Beginning Data Retrieval     \n",
      "-----------------------------\n",
      "Processing Record 1 of Set 1 | coquimbo\n",
      "Processing Record 2 of Set 1 | torbay\n",
      "Processing Record 3 of Set 1 | bintulu\n",
      "Processing Record 4 of Set 1 | busselton\n",
      "Processing Record 5 of Set 1 | punta arenas\n",
      "Processing Record 6 of Set 1 | bethel\n",
      "Processing Record 7 of Set 1 | parthenay\n",
      "Processing Record 8 of Set 1 | mataura\n",
      "Processing Record 9 of Set 1 | naqadeh\n",
      "Processing Record 10 of Set 1 | illoqqortoormiut\n",
      "City not found. Skipping...\n",
      "Processing Record 11 of Set 1 | trojes\n",
      "Processing Record 12 of Set 1 | kunda\n"
     ]
    },
    {
     "name": "stderr",
     "output_type": "stream",
     "text": [
      "Traceback (most recent call last):\n",
      "  File \"C:\\Users\\mbore\\AppData\\Local\\Temp\\ipykernel_7440\\1490894619.py\", line 37, in <module>\n",
      "    city_lat = city_weather[\"coord\"][\"lat\"]\n",
      "KeyError: 'coord'\n"
     ]
    },
    {
     "name": "stdout",
     "output_type": "stream",
     "text": [
      "Processing Record 13 of Set 1 | hobart\n",
      "Processing Record 14 of Set 1 | kyakhta\n",
      "Processing Record 15 of Set 1 | clyde river\n",
      "Processing Record 16 of Set 1 | taolanaro\n",
      "City not found. Skipping...\n",
      "Processing Record 17 of Set 1 | rikitea\n",
      "Processing Record 18 of Set 1 | nikolskoye\n"
     ]
    },
    {
     "name": "stderr",
     "output_type": "stream",
     "text": [
      "Traceback (most recent call last):\n",
      "  File \"C:\\Users\\mbore\\AppData\\Local\\Temp\\ipykernel_7440\\1490894619.py\", line 37, in <module>\n",
      "    city_lat = city_weather[\"coord\"][\"lat\"]\n",
      "KeyError: 'coord'\n"
     ]
    },
    {
     "name": "stdout",
     "output_type": "stream",
     "text": [
      "Processing Record 19 of Set 1 | hilo\n",
      "Processing Record 20 of Set 1 | walvis bay\n",
      "Processing Record 21 of Set 1 | henties bay\n",
      "Processing Record 22 of Set 1 | havoysund\n",
      "Processing Record 23 of Set 1 | gari\n",
      "Processing Record 24 of Set 1 | ushuaia\n",
      "Processing Record 25 of Set 1 | tiksi\n",
      "Processing Record 26 of Set 1 | chuy\n",
      "Processing Record 27 of Set 1 | kruisfontein\n",
      "Processing Record 28 of Set 1 | poum\n",
      "Processing Record 29 of Set 1 | ixtapa\n",
      "Processing Record 30 of Set 1 | cape town\n",
      "Processing Record 31 of Set 1 | yellowknife\n",
      "Processing Record 32 of Set 1 | atuona\n",
      "Processing Record 33 of Set 1 | petropavlovsk-kamchatskiy\n",
      "Processing Record 34 of Set 1 | hermanus\n",
      "Processing Record 35 of Set 1 | laguna\n",
      "Processing Record 36 of Set 1 | faanui\n",
      "Processing Record 37 of Set 1 | grand river south east\n",
      "City not found. Skipping...\n",
      "Processing Record 38 of Set 1 | saleaula\n",
      "City not found. Skipping...\n",
      "Processing Record 39 of Set 1 | svetlogorsk\n"
     ]
    },
    {
     "name": "stderr",
     "output_type": "stream",
     "text": [
      "Traceback (most recent call last):\n",
      "  File \"C:\\Users\\mbore\\AppData\\Local\\Temp\\ipykernel_7440\\1490894619.py\", line 37, in <module>\n",
      "    city_lat = city_weather[\"coord\"][\"lat\"]\n",
      "KeyError: 'coord'\n",
      "Traceback (most recent call last):\n",
      "  File \"C:\\Users\\mbore\\AppData\\Local\\Temp\\ipykernel_7440\\1490894619.py\", line 37, in <module>\n",
      "    city_lat = city_weather[\"coord\"][\"lat\"]\n",
      "KeyError: 'coord'\n"
     ]
    },
    {
     "name": "stdout",
     "output_type": "stream",
     "text": [
      "Processing Record 40 of Set 1 | flinders\n",
      "Processing Record 41 of Set 1 | kabare\n",
      "Processing Record 42 of Set 1 | tasiilaq\n",
      "Processing Record 43 of Set 1 | puerto cabezas\n",
      "Processing Record 44 of Set 1 | port-cartier\n",
      "Processing Record 45 of Set 1 | bluff\n",
      "Processing Record 46 of Set 1 | albany\n",
      "Processing Record 47 of Set 1 | kimbe\n",
      "Processing Record 48 of Set 1 | barrow\n",
      "Processing Record 49 of Set 1 | new norfolk\n",
      "Processing Record 50 of Set 1 | sakakah\n",
      "Processing Record 1 of Set 2 | hobyo\n",
      "Processing Record 2 of Set 2 | novobureyskiy\n",
      "Processing Record 3 of Set 2 | srednekolymsk\n",
      "Processing Record 4 of Set 2 | ondjiva\n",
      "Processing Record 5 of Set 2 | marawi\n",
      "Processing Record 6 of Set 2 | puerto ayora\n",
      "Processing Record 7 of Set 2 | talaya\n",
      "Processing Record 8 of Set 2 | norman wells\n",
      "Processing Record 9 of Set 2 | hithadhoo\n",
      "Processing Record 10 of Set 2 | oktyabrskoye\n",
      "Processing Record 11 of Set 2 | ribeira grande\n",
      "Processing Record 12 of Set 2 | markapur\n",
      "Processing Record 13 of Set 2 | lagoa\n",
      "Processing Record 14 of Set 2 | saint anthony\n",
      "Processing Record 15 of Set 2 | touros\n",
      "Processing Record 16 of Set 2 | waingapu\n",
      "Processing Record 17 of Set 2 | port alfred\n",
      "Processing Record 18 of Set 2 | upernavik\n",
      "Processing Record 19 of Set 2 | palabuhanratu\n",
      "City not found. Skipping...\n",
      "Processing Record 20 of Set 2 | thompson\n"
     ]
    },
    {
     "name": "stderr",
     "output_type": "stream",
     "text": [
      "Traceback (most recent call last):\n",
      "  File \"C:\\Users\\mbore\\AppData\\Local\\Temp\\ipykernel_7440\\1490894619.py\", line 37, in <module>\n",
      "    city_lat = city_weather[\"coord\"][\"lat\"]\n",
      "KeyError: 'coord'\n"
     ]
    },
    {
     "name": "stdout",
     "output_type": "stream",
     "text": [
      "Processing Record 21 of Set 2 | katsuura\n",
      "Processing Record 22 of Set 2 | luderitz\n",
      "Processing Record 23 of Set 2 | antalaha\n",
      "Processing Record 24 of Set 2 | opuwo\n",
      "Processing Record 25 of Set 2 | toliary\n",
      "City not found. Skipping...\n",
      "Processing Record 26 of Set 2 | kargopol\n"
     ]
    },
    {
     "name": "stderr",
     "output_type": "stream",
     "text": [
      "Traceback (most recent call last):\n",
      "  File \"C:\\Users\\mbore\\AppData\\Local\\Temp\\ipykernel_7440\\1490894619.py\", line 37, in <module>\n",
      "    city_lat = city_weather[\"coord\"][\"lat\"]\n",
      "KeyError: 'coord'\n"
     ]
    },
    {
     "name": "stdout",
     "output_type": "stream",
     "text": [
      "Processing Record 27 of Set 2 | linxia\n",
      "Processing Record 28 of Set 2 | mehamn\n",
      "Processing Record 29 of Set 2 | butaritari\n",
      "Processing Record 30 of Set 2 | barentsburg\n",
      "City not found. Skipping...\n",
      "Processing Record 31 of Set 2 | amderma\n",
      "City not found. Skipping...\n",
      "Processing Record 32 of Set 2 | vardo\n"
     ]
    },
    {
     "name": "stderr",
     "output_type": "stream",
     "text": [
      "Traceback (most recent call last):\n",
      "  File \"C:\\Users\\mbore\\AppData\\Local\\Temp\\ipykernel_7440\\1490894619.py\", line 37, in <module>\n",
      "    city_lat = city_weather[\"coord\"][\"lat\"]\n",
      "KeyError: 'coord'\n",
      "Traceback (most recent call last):\n",
      "  File \"C:\\Users\\mbore\\AppData\\Local\\Temp\\ipykernel_7440\\1490894619.py\", line 37, in <module>\n",
      "    city_lat = city_weather[\"coord\"][\"lat\"]\n",
      "KeyError: 'coord'\n"
     ]
    },
    {
     "name": "stdout",
     "output_type": "stream",
     "text": [
      "Processing Record 33 of Set 2 | matara\n",
      "Processing Record 34 of Set 2 | kapaa\n",
      "Processing Record 35 of Set 2 | vaini\n",
      "Processing Record 36 of Set 2 | los llanos de aridane\n",
      "Processing Record 37 of Set 2 | samusu\n",
      "City not found. Skipping...\n",
      "Processing Record 38 of Set 2 | airai\n"
     ]
    },
    {
     "name": "stderr",
     "output_type": "stream",
     "text": [
      "Traceback (most recent call last):\n",
      "  File \"C:\\Users\\mbore\\AppData\\Local\\Temp\\ipykernel_7440\\1490894619.py\", line 37, in <module>\n",
      "    city_lat = city_weather[\"coord\"][\"lat\"]\n",
      "KeyError: 'coord'\n"
     ]
    },
    {
     "name": "stdout",
     "output_type": "stream",
     "text": [
      "Processing Record 39 of Set 2 | cidreira\n",
      "Processing Record 40 of Set 2 | ambovombe\n",
      "Processing Record 41 of Set 2 | lakatoro\n",
      "Processing Record 42 of Set 2 | hailar\n",
      "Processing Record 43 of Set 2 | provideniya\n",
      "Processing Record 44 of Set 2 | mar del plata\n",
      "Processing Record 45 of Set 2 | abeche\n",
      "Processing Record 46 of Set 2 | kangaatsiaq\n",
      "Processing Record 47 of Set 2 | tabas\n",
      "Processing Record 48 of Set 2 | casablanca\n",
      "Processing Record 49 of Set 2 | berbera\n",
      "Processing Record 50 of Set 2 | xining\n",
      "Processing Record 1 of Set 3 | sobolevo\n",
      "Processing Record 2 of Set 3 | bengkulu\n",
      "Processing Record 3 of Set 3 | lebu\n",
      "Processing Record 4 of Set 3 | nogales\n",
      "Processing Record 5 of Set 3 | nome\n",
      "Processing Record 6 of Set 3 | manyana\n",
      "Processing Record 7 of Set 3 | georgetown\n",
      "Processing Record 8 of Set 3 | bredasdorp\n",
      "Processing Record 9 of Set 3 | kununurra\n",
      "Processing Record 10 of Set 3 | jamestown\n",
      "Processing Record 11 of Set 3 | santa barbara\n",
      "Processing Record 12 of Set 3 | porto real\n",
      "Processing Record 13 of Set 3 | bandarbeyla\n",
      "Processing Record 14 of Set 3 | nanortalik\n",
      "Processing Record 15 of Set 3 | arraial do cabo\n",
      "Processing Record 16 of Set 3 | abu samrah\n",
      "Processing Record 17 of Set 3 | kodiak\n",
      "Processing Record 18 of Set 3 | kalaleh\n",
      "Processing Record 19 of Set 3 | fortuna\n",
      "Processing Record 20 of Set 3 | bay city\n",
      "Processing Record 21 of Set 3 | saskylakh\n",
      "Processing Record 22 of Set 3 | xichang\n",
      "Processing Record 23 of Set 3 | quatre cocos\n",
      "Processing Record 24 of Set 3 | east london\n",
      "Processing Record 25 of Set 3 | erenhot\n",
      "Processing Record 26 of Set 3 | tual\n",
      "Processing Record 27 of Set 3 | college\n",
      "Processing Record 28 of Set 3 | cortez\n",
      "Processing Record 29 of Set 3 | klaksvik\n",
      "Processing Record 30 of Set 3 | kaitangata\n",
      "Processing Record 31 of Set 3 | constitucion\n",
      "Processing Record 32 of Set 3 | avarua\n",
      "Processing Record 33 of Set 3 | huesca\n",
      "Processing Record 34 of Set 3 | leningradskiy\n",
      "Processing Record 35 of Set 3 | tonota\n",
      "Processing Record 36 of Set 3 | port elizabeth\n",
      "Processing Record 37 of Set 3 | novaya igirma\n",
      "Processing Record 38 of Set 3 | nelson bay\n",
      "Processing Record 39 of Set 3 | tubruq\n",
      "City not found. Skipping...\n"
     ]
    },
    {
     "name": "stderr",
     "output_type": "stream",
     "text": [
      "Traceback (most recent call last):\n",
      "  File \"C:\\Users\\mbore\\AppData\\Local\\Temp\\ipykernel_7440\\1490894619.py\", line 37, in <module>\n",
      "    city_lat = city_weather[\"coord\"][\"lat\"]\n",
      "KeyError: 'coord'\n"
     ]
    },
    {
     "name": "stdout",
     "output_type": "stream",
     "text": [
      "Processing Record 40 of Set 3 | celestun\n",
      "Processing Record 41 of Set 3 | carnarvon\n",
      "Processing Record 42 of Set 3 | rawson\n",
      "Processing Record 43 of Set 3 | mvuma\n",
      "Processing Record 44 of Set 3 | roma\n",
      "Processing Record 45 of Set 3 | victoria\n",
      "Processing Record 46 of Set 3 | sao joao da barra\n",
      "Processing Record 47 of Set 3 | haibowan\n",
      "City not found. Skipping...\n",
      "Processing Record 48 of Set 3 | castro\n"
     ]
    },
    {
     "name": "stderr",
     "output_type": "stream",
     "text": [
      "Traceback (most recent call last):\n",
      "  File \"C:\\Users\\mbore\\AppData\\Local\\Temp\\ipykernel_7440\\1490894619.py\", line 37, in <module>\n",
      "    city_lat = city_weather[\"coord\"][\"lat\"]\n",
      "KeyError: 'coord'\n"
     ]
    },
    {
     "name": "stdout",
     "output_type": "stream",
     "text": [
      "Processing Record 49 of Set 3 | hamilton\n",
      "Processing Record 50 of Set 3 | krasnoselkup\n",
      "Processing Record 1 of Set 4 | pisco\n",
      "Processing Record 2 of Set 4 | tawkar\n",
      "City not found. Skipping...\n",
      "Processing Record 3 of Set 4 | oudtshoorn\n"
     ]
    },
    {
     "name": "stderr",
     "output_type": "stream",
     "text": [
      "Traceback (most recent call last):\n",
      "  File \"C:\\Users\\mbore\\AppData\\Local\\Temp\\ipykernel_7440\\1490894619.py\", line 37, in <module>\n",
      "    city_lat = city_weather[\"coord\"][\"lat\"]\n",
      "KeyError: 'coord'\n"
     ]
    },
    {
     "name": "stdout",
     "output_type": "stream",
     "text": [
      "Processing Record 4 of Set 4 | naze\n",
      "Processing Record 5 of Set 4 | artigas\n",
      "Processing Record 6 of Set 4 | itoman\n",
      "Processing Record 7 of Set 4 | padang\n",
      "Processing Record 8 of Set 4 | pacific grove\n",
      "Processing Record 9 of Set 4 | nouadhibou\n",
      "Processing Record 10 of Set 4 | viedma\n",
      "Processing Record 11 of Set 4 | sayyan\n",
      "Processing Record 12 of Set 4 | skjervoy\n",
      "Processing Record 13 of Set 4 | mananara\n",
      "Processing Record 14 of Set 4 | belaya gora\n",
      "Processing Record 15 of Set 4 | cristobal obregon\n",
      "Processing Record 16 of Set 4 | yomitan\n",
      "City not found. Skipping...\n",
      "Processing Record 17 of Set 4 | dikson\n"
     ]
    },
    {
     "name": "stderr",
     "output_type": "stream",
     "text": [
      "Traceback (most recent call last):\n",
      "  File \"C:\\Users\\mbore\\AppData\\Local\\Temp\\ipykernel_7440\\1490894619.py\", line 37, in <module>\n",
      "    city_lat = city_weather[\"coord\"][\"lat\"]\n",
      "KeyError: 'coord'\n"
     ]
    },
    {
     "name": "stdout",
     "output_type": "stream",
     "text": [
      "Processing Record 18 of Set 4 | qaanaaq\n",
      "Processing Record 19 of Set 4 | attawapiskat\n",
      "City not found. Skipping...\n",
      "Processing Record 20 of Set 4 | itaqui\n"
     ]
    },
    {
     "name": "stderr",
     "output_type": "stream",
     "text": [
      "Traceback (most recent call last):\n",
      "  File \"C:\\Users\\mbore\\AppData\\Local\\Temp\\ipykernel_7440\\1490894619.py\", line 37, in <module>\n",
      "    city_lat = city_weather[\"coord\"][\"lat\"]\n",
      "KeyError: 'coord'\n"
     ]
    },
    {
     "name": "stdout",
     "output_type": "stream",
     "text": [
      "Processing Record 21 of Set 4 | nador\n",
      "Processing Record 22 of Set 4 | porto novo\n",
      "Processing Record 23 of Set 4 | coachella\n",
      "Processing Record 24 of Set 4 | chicama\n",
      "Processing Record 25 of Set 4 | ahipara\n",
      "Processing Record 26 of Set 4 | geraldton\n",
      "Processing Record 27 of Set 4 | qasigiannguit\n",
      "Processing Record 28 of Set 4 | pevek\n",
      "Processing Record 29 of Set 4 | chokurdakh\n",
      "Processing Record 30 of Set 4 | jiddah\n",
      "City not found. Skipping...\n",
      "Processing Record 31 of Set 4 | ilulissat\n"
     ]
    },
    {
     "name": "stderr",
     "output_type": "stream",
     "text": [
      "Traceback (most recent call last):\n",
      "  File \"C:\\Users\\mbore\\AppData\\Local\\Temp\\ipykernel_7440\\1490894619.py\", line 37, in <module>\n",
      "    city_lat = city_weather[\"coord\"][\"lat\"]\n",
      "KeyError: 'coord'\n"
     ]
    },
    {
     "name": "stdout",
     "output_type": "stream",
     "text": [
      "Processing Record 32 of Set 4 | dzhusaly\n",
      "City not found. Skipping...\n",
      "Processing Record 33 of Set 4 | upington\n"
     ]
    },
    {
     "name": "stderr",
     "output_type": "stream",
     "text": [
      "Traceback (most recent call last):\n",
      "  File \"C:\\Users\\mbore\\AppData\\Local\\Temp\\ipykernel_7440\\1490894619.py\", line 37, in <module>\n",
      "    city_lat = city_weather[\"coord\"][\"lat\"]\n",
      "KeyError: 'coord'\n"
     ]
    },
    {
     "name": "stdout",
     "output_type": "stream",
     "text": [
      "Processing Record 34 of Set 4 | taksimo\n",
      "Processing Record 35 of Set 4 | cherskiy\n",
      "Processing Record 36 of Set 4 | kavieng\n",
      "Processing Record 37 of Set 4 | slave lake\n",
      "Processing Record 38 of Set 4 | moree\n",
      "Processing Record 39 of Set 4 | ayan\n",
      "Processing Record 40 of Set 4 | sentyabrskiy\n",
      "City not found. Skipping...\n",
      "Processing Record 41 of Set 4 | souillac\n"
     ]
    },
    {
     "name": "stderr",
     "output_type": "stream",
     "text": [
      "Traceback (most recent call last):\n",
      "  File \"C:\\Users\\mbore\\AppData\\Local\\Temp\\ipykernel_7440\\1490894619.py\", line 37, in <module>\n",
      "    city_lat = city_weather[\"coord\"][\"lat\"]\n",
      "KeyError: 'coord'\n"
     ]
    },
    {
     "name": "stdout",
     "output_type": "stream",
     "text": [
      "Processing Record 42 of Set 4 | mys shmidta\n",
      "City not found. Skipping...\n",
      "Processing Record 43 of Set 4 | olavarria\n"
     ]
    },
    {
     "name": "stderr",
     "output_type": "stream",
     "text": [
      "Traceback (most recent call last):\n",
      "  File \"C:\\Users\\mbore\\AppData\\Local\\Temp\\ipykernel_7440\\1490894619.py\", line 37, in <module>\n",
      "    city_lat = city_weather[\"coord\"][\"lat\"]\n",
      "KeyError: 'coord'\n"
     ]
    },
    {
     "name": "stdout",
     "output_type": "stream",
     "text": [
      "Processing Record 44 of Set 4 | yulara\n",
      "Processing Record 45 of Set 4 | avera\n",
      "Processing Record 46 of Set 4 | wanning\n",
      "Processing Record 47 of Set 4 | sezana\n",
      "Processing Record 48 of Set 4 | umzimvubu\n",
      "City not found. Skipping...\n",
      "Processing Record 49 of Set 4 | matinhos\n"
     ]
    },
    {
     "name": "stderr",
     "output_type": "stream",
     "text": [
      "Traceback (most recent call last):\n",
      "  File \"C:\\Users\\mbore\\AppData\\Local\\Temp\\ipykernel_7440\\1490894619.py\", line 37, in <module>\n",
      "    city_lat = city_weather[\"coord\"][\"lat\"]\n",
      "KeyError: 'coord'\n"
     ]
    },
    {
     "name": "stdout",
     "output_type": "stream",
     "text": [
      "Processing Record 50 of Set 4 | mersing\n",
      "Processing Record 1 of Set 5 | piacabucu\n",
      "Processing Record 2 of Set 5 | khatanga\n",
      "Processing Record 3 of Set 5 | itarema\n",
      "Processing Record 4 of Set 5 | lagos\n",
      "Processing Record 5 of Set 5 | bur gabo\n",
      "City not found. Skipping...\n",
      "Processing Record 6 of Set 5 | parry sound\n"
     ]
    },
    {
     "name": "stderr",
     "output_type": "stream",
     "text": [
      "Traceback (most recent call last):\n",
      "  File \"C:\\Users\\mbore\\AppData\\Local\\Temp\\ipykernel_7440\\1490894619.py\", line 37, in <module>\n",
      "    city_lat = city_weather[\"coord\"][\"lat\"]\n",
      "KeyError: 'coord'\n"
     ]
    },
    {
     "name": "stdout",
     "output_type": "stream",
     "text": [
      "Processing Record 7 of Set 5 | olafsvik\n",
      "Processing Record 8 of Set 5 | mali\n",
      "Processing Record 9 of Set 5 | juba\n",
      "Processing Record 10 of Set 5 | haapiti\n",
      "Processing Record 11 of Set 5 | mezen\n",
      "Processing Record 12 of Set 5 | saint george\n",
      "Processing Record 13 of Set 5 | saldanha\n",
      "Processing Record 14 of Set 5 | itaituba\n",
      "Processing Record 15 of Set 5 | berveni\n",
      "Processing Record 16 of Set 5 | tsihombe\n",
      "City not found. Skipping...\n"
     ]
    },
    {
     "name": "stderr",
     "output_type": "stream",
     "text": [
      "Traceback (most recent call last):\n",
      "  File \"C:\\Users\\mbore\\AppData\\Local\\Temp\\ipykernel_7440\\1490894619.py\", line 37, in <module>\n",
      "    city_lat = city_weather[\"coord\"][\"lat\"]\n",
      "KeyError: 'coord'\n"
     ]
    },
    {
     "name": "stdout",
     "output_type": "stream",
     "text": [
      "Processing Record 17 of Set 5 | iqaluit\n",
      "Processing Record 18 of Set 5 | xudat\n",
      "Processing Record 19 of Set 5 | haines junction\n",
      "Processing Record 20 of Set 5 | vanavara\n",
      "Processing Record 21 of Set 5 | magadan\n",
      "Processing Record 22 of Set 5 | guaratuba\n",
      "Processing Record 23 of Set 5 | matagami\n",
      "Processing Record 24 of Set 5 | longyearbyen\n",
      "Processing Record 25 of Set 5 | benton harbor\n",
      "Processing Record 26 of Set 5 | lasa\n",
      "Processing Record 27 of Set 5 | manicaragua\n",
      "Processing Record 28 of Set 5 | skovorodino\n",
      "Processing Record 29 of Set 5 | ayr\n",
      "Processing Record 30 of Set 5 | la ronge\n",
      "Processing Record 31 of Set 5 | esperance\n",
      "Processing Record 32 of Set 5 | meulaboh\n",
      "Processing Record 33 of Set 5 | korla\n",
      "Processing Record 34 of Set 5 | vao\n",
      "Processing Record 35 of Set 5 | sao filipe\n",
      "Processing Record 36 of Set 5 | belushya guba\n",
      "City not found. Skipping...\n",
      "Processing Record 37 of Set 5 | lolua\n",
      "City not found. Skipping...\n",
      "Processing Record 38 of Set 5 | aklavik\n"
     ]
    },
    {
     "name": "stderr",
     "output_type": "stream",
     "text": [
      "Traceback (most recent call last):\n",
      "  File \"C:\\Users\\mbore\\AppData\\Local\\Temp\\ipykernel_7440\\1490894619.py\", line 37, in <module>\n",
      "    city_lat = city_weather[\"coord\"][\"lat\"]\n",
      "KeyError: 'coord'\n",
      "Traceback (most recent call last):\n",
      "  File \"C:\\Users\\mbore\\AppData\\Local\\Temp\\ipykernel_7440\\1490894619.py\", line 37, in <module>\n",
      "    city_lat = city_weather[\"coord\"][\"lat\"]\n",
      "KeyError: 'coord'\n"
     ]
    },
    {
     "name": "stdout",
     "output_type": "stream",
     "text": [
      "Processing Record 39 of Set 5 | bacolod\n",
      "Processing Record 40 of Set 5 | hami\n",
      "Processing Record 41 of Set 5 | karasuk\n",
      "Processing Record 42 of Set 5 | port lincoln\n",
      "Processing Record 43 of Set 5 | isangel\n",
      "Processing Record 44 of Set 5 | atar\n",
      "Processing Record 45 of Set 5 | lugovoy\n",
      "Processing Record 46 of Set 5 | sioux lookout\n",
      "Processing Record 47 of Set 5 | samalaeulu\n",
      "City not found. Skipping...\n",
      "Processing Record 48 of Set 5 | ermelo\n"
     ]
    },
    {
     "name": "stderr",
     "output_type": "stream",
     "text": [
      "Traceback (most recent call last):\n",
      "  File \"C:\\Users\\mbore\\AppData\\Local\\Temp\\ipykernel_7440\\1490894619.py\", line 37, in <module>\n",
      "    city_lat = city_weather[\"coord\"][\"lat\"]\n",
      "KeyError: 'coord'\n"
     ]
    },
    {
     "name": "stdout",
     "output_type": "stream",
     "text": [
      "Processing Record 49 of Set 5 | morgaushi\n",
      "Processing Record 50 of Set 5 | maraa\n",
      "Processing Record 1 of Set 6 | moskovskiy\n",
      "Processing Record 2 of Set 6 | bathsheba\n",
      "Processing Record 3 of Set 6 | oranjemund\n",
      "Processing Record 4 of Set 6 | taltal\n",
      "Processing Record 5 of Set 6 | namibe\n",
      "Processing Record 6 of Set 6 | simoes\n",
      "Processing Record 7 of Set 6 | warqla\n",
      "City not found. Skipping...\n",
      "Processing Record 8 of Set 6 | vila\n"
     ]
    },
    {
     "name": "stderr",
     "output_type": "stream",
     "text": [
      "Traceback (most recent call last):\n",
      "  File \"C:\\Users\\mbore\\AppData\\Local\\Temp\\ipykernel_7440\\1490894619.py\", line 37, in <module>\n",
      "    city_lat = city_weather[\"coord\"][\"lat\"]\n",
      "KeyError: 'coord'\n"
     ]
    },
    {
     "name": "stdout",
     "output_type": "stream",
     "text": [
      "Processing Record 9 of Set 6 | neringa\n",
      "Processing Record 10 of Set 6 | rizhao\n",
      "Processing Record 11 of Set 6 | kota kinabalu\n",
      "Processing Record 12 of Set 6 | manbij\n",
      "Processing Record 13 of Set 6 | vagur\n",
      "Processing Record 14 of Set 6 | saint-philippe\n",
      "Processing Record 15 of Set 6 | fort nelson\n",
      "Processing Record 16 of Set 6 | puerto el triunfo\n",
      "Processing Record 17 of Set 6 | baykit\n",
      "Processing Record 18 of Set 6 | ancud\n",
      "Processing Record 19 of Set 6 | mozarlandia\n",
      "Processing Record 20 of Set 6 | pasighat\n",
      "Processing Record 21 of Set 6 | do gonbadan\n",
      "Processing Record 22 of Set 6 | qianan\n",
      "Processing Record 23 of Set 6 | belokurikha\n",
      "Processing Record 24 of Set 6 | corner brook\n",
      "Processing Record 25 of Set 6 | glendive\n",
      "City not found. Skipping...\n",
      "Processing Record 26 of Set 6 | tumannyy\n"
     ]
    },
    {
     "name": "stderr",
     "output_type": "stream",
     "text": [
      "Traceback (most recent call last):\n",
      "  File \"C:\\Users\\mbore\\Anaconda3\\envs\\PythonData\\lib\\site-packages\\urllib3\\connectionpool.py\", line 710, in urlopen\n",
      "    chunked=chunked,\n",
      "  File \"C:\\Users\\mbore\\Anaconda3\\envs\\PythonData\\lib\\site-packages\\urllib3\\connectionpool.py\", line 449, in _make_request\n",
      "    six.raise_from(e, None)\n",
      "  File \"<string>\", line 3, in raise_from\n",
      "  File \"C:\\Users\\mbore\\Anaconda3\\envs\\PythonData\\lib\\site-packages\\urllib3\\connectionpool.py\", line 444, in _make_request\n",
      "    httplib_response = conn.getresponse()\n",
      "  File \"C:\\Users\\mbore\\Anaconda3\\envs\\PythonData\\lib\\http\\client.py\", line 1373, in getresponse\n",
      "    response.begin()\n",
      "  File \"C:\\Users\\mbore\\Anaconda3\\envs\\PythonData\\lib\\http\\client.py\", line 319, in begin\n",
      "    version, status, reason = self._read_status()\n",
      "  File \"C:\\Users\\mbore\\Anaconda3\\envs\\PythonData\\lib\\http\\client.py\", line 288, in _read_status\n",
      "    raise RemoteDisconnected(\"Remote end closed connection without\"\n",
      "http.client.RemoteDisconnected: Remote end closed connection without response\n",
      "\n",
      "During handling of the above exception, another exception occurred:\n",
      "\n",
      "Traceback (most recent call last):\n",
      "  File \"C:\\Users\\mbore\\Anaconda3\\envs\\PythonData\\lib\\site-packages\\requests\\adapters.py\", line 450, in send\n",
      "    timeout=timeout\n",
      "  File \"C:\\Users\\mbore\\Anaconda3\\envs\\PythonData\\lib\\site-packages\\urllib3\\connectionpool.py\", line 786, in urlopen\n",
      "    method, url, error=e, _pool=self, _stacktrace=sys.exc_info()[2]\n",
      "  File \"C:\\Users\\mbore\\Anaconda3\\envs\\PythonData\\lib\\site-packages\\urllib3\\util\\retry.py\", line 550, in increment\n",
      "    raise six.reraise(type(error), error, _stacktrace)\n",
      "  File \"C:\\Users\\mbore\\Anaconda3\\envs\\PythonData\\lib\\site-packages\\urllib3\\packages\\six.py\", line 769, in reraise\n",
      "    raise value.with_traceback(tb)\n",
      "  File \"C:\\Users\\mbore\\Anaconda3\\envs\\PythonData\\lib\\site-packages\\urllib3\\connectionpool.py\", line 710, in urlopen\n",
      "    chunked=chunked,\n",
      "  File \"C:\\Users\\mbore\\Anaconda3\\envs\\PythonData\\lib\\site-packages\\urllib3\\connectionpool.py\", line 449, in _make_request\n",
      "    six.raise_from(e, None)\n",
      "  File \"<string>\", line 3, in raise_from\n",
      "  File \"C:\\Users\\mbore\\Anaconda3\\envs\\PythonData\\lib\\site-packages\\urllib3\\connectionpool.py\", line 444, in _make_request\n",
      "    httplib_response = conn.getresponse()\n",
      "  File \"C:\\Users\\mbore\\Anaconda3\\envs\\PythonData\\lib\\http\\client.py\", line 1373, in getresponse\n",
      "    response.begin()\n",
      "  File \"C:\\Users\\mbore\\Anaconda3\\envs\\PythonData\\lib\\http\\client.py\", line 319, in begin\n",
      "    version, status, reason = self._read_status()\n",
      "  File \"C:\\Users\\mbore\\Anaconda3\\envs\\PythonData\\lib\\http\\client.py\", line 288, in _read_status\n",
      "    raise RemoteDisconnected(\"Remote end closed connection without\"\n",
      "urllib3.exceptions.ProtocolError: ('Connection aborted.', RemoteDisconnected('Remote end closed connection without response'))\n",
      "\n",
      "During handling of the above exception, another exception occurred:\n",
      "\n",
      "Traceback (most recent call last):\n",
      "  File \"C:\\Users\\mbore\\AppData\\Local\\Temp\\ipykernel_7440\\1490894619.py\", line 35, in <module>\n",
      "    city_weather = requests.get(city_url).json()\n",
      "  File \"C:\\Users\\mbore\\Anaconda3\\envs\\PythonData\\lib\\site-packages\\requests\\api.py\", line 75, in get\n",
      "    return request('get', url, params=params, **kwargs)\n",
      "  File \"C:\\Users\\mbore\\Anaconda3\\envs\\PythonData\\lib\\site-packages\\requests\\api.py\", line 61, in request\n",
      "    return session.request(method=method, url=url, **kwargs)\n",
      "  File \"C:\\Users\\mbore\\Anaconda3\\envs\\PythonData\\lib\\site-packages\\requests\\sessions.py\", line 529, in request\n",
      "    resp = self.send(prep, **send_kwargs)\n",
      "  File \"C:\\Users\\mbore\\Anaconda3\\envs\\PythonData\\lib\\site-packages\\requests\\sessions.py\", line 645, in send\n",
      "    r = adapter.send(request, **kwargs)\n",
      "  File \"C:\\Users\\mbore\\Anaconda3\\envs\\PythonData\\lib\\site-packages\\requests\\adapters.py\", line 501, in send\n",
      "    raise ConnectionError(err, request=request)\n",
      "requests.exceptions.ConnectionError: ('Connection aborted.', RemoteDisconnected('Remote end closed connection without response'))\n"
     ]
    },
    {
     "name": "stdout",
     "output_type": "stream",
     "text": [
      "City not found. Skipping...\n",
      "Processing Record 27 of Set 6 | alyangula\n"
     ]
    },
    {
     "name": "stderr",
     "output_type": "stream",
     "text": [
      "Traceback (most recent call last):\n",
      "  File \"C:\\Users\\mbore\\AppData\\Local\\Temp\\ipykernel_7440\\1490894619.py\", line 37, in <module>\n",
      "    city_lat = city_weather[\"coord\"][\"lat\"]\n",
      "KeyError: 'coord'\n"
     ]
    },
    {
     "name": "stdout",
     "output_type": "stream",
     "text": [
      "Processing Record 28 of Set 6 | daru\n",
      "Processing Record 29 of Set 6 | mpanda\n",
      "Processing Record 30 of Set 6 | jumla\n",
      "Processing Record 31 of Set 6 | gaoua\n",
      "Processing Record 32 of Set 6 | pangkalanbuun\n",
      "Processing Record 33 of Set 6 | erzin\n",
      "Processing Record 34 of Set 6 | tuatapere\n",
      "Processing Record 35 of Set 6 | tungor\n",
      "Processing Record 36 of Set 6 | florianopolis\n",
      "Processing Record 37 of Set 6 | maraba\n",
      "Processing Record 38 of Set 6 | horki\n",
      "Processing Record 39 of Set 6 | san marco in lamis\n",
      "Processing Record 40 of Set 6 | saint-joseph\n",
      "Processing Record 41 of Set 6 | nishihara\n",
      "Processing Record 42 of Set 6 | port hedland\n",
      "Processing Record 43 of Set 6 | mindelo\n",
      "Processing Record 44 of Set 6 | camacha\n",
      "Processing Record 45 of Set 6 | kinkala\n",
      "Processing Record 46 of Set 6 | trelew\n",
      "Processing Record 47 of Set 6 | marcona\n",
      "City not found. Skipping...\n",
      "Processing Record 48 of Set 6 | kamenka\n"
     ]
    },
    {
     "name": "stderr",
     "output_type": "stream",
     "text": [
      "Traceback (most recent call last):\n",
      "  File \"C:\\Users\\mbore\\AppData\\Local\\Temp\\ipykernel_7440\\1490894619.py\", line 37, in <module>\n",
      "    city_lat = city_weather[\"coord\"][\"lat\"]\n",
      "KeyError: 'coord'\n"
     ]
    },
    {
     "name": "stdout",
     "output_type": "stream",
     "text": [
      "Processing Record 49 of Set 6 | tabou\n",
      "Processing Record 50 of Set 6 | pozo colorado\n",
      "Processing Record 1 of Set 7 | dunedin\n",
      "Processing Record 2 of Set 7 | mahebourg\n",
      "Processing Record 3 of Set 7 | hasaki\n",
      "Processing Record 4 of Set 7 | port hardy\n",
      "Processing Record 5 of Set 7 | charagua\n",
      "Processing Record 6 of Set 7 | svetlaya\n",
      "Processing Record 7 of Set 7 | nizhneyansk\n",
      "City not found. Skipping...\n",
      "Processing Record 8 of Set 7 | san vicente\n"
     ]
    },
    {
     "name": "stderr",
     "output_type": "stream",
     "text": [
      "Traceback (most recent call last):\n",
      "  File \"C:\\Users\\mbore\\AppData\\Local\\Temp\\ipykernel_7440\\1490894619.py\", line 37, in <module>\n",
      "    city_lat = city_weather[\"coord\"][\"lat\"]\n",
      "KeyError: 'coord'\n"
     ]
    },
    {
     "name": "stdout",
     "output_type": "stream",
     "text": [
      "Processing Record 9 of Set 7 | yasnyy\n",
      "Processing Record 10 of Set 7 | nalut\n",
      "Processing Record 11 of Set 7 | fairbanks\n",
      "Processing Record 12 of Set 7 | vila franca do campo\n",
      "Processing Record 13 of Set 7 | macaboboni\n",
      "City not found. Skipping...\n",
      "Processing Record 14 of Set 7 | cabo san lucas\n"
     ]
    },
    {
     "name": "stderr",
     "output_type": "stream",
     "text": [
      "Traceback (most recent call last):\n",
      "  File \"C:\\Users\\mbore\\AppData\\Local\\Temp\\ipykernel_7440\\1490894619.py\", line 37, in <module>\n",
      "    city_lat = city_weather[\"coord\"][\"lat\"]\n",
      "KeyError: 'coord'\n"
     ]
    },
    {
     "name": "stdout",
     "output_type": "stream",
     "text": [
      "Processing Record 15 of Set 7 | peterhead\n",
      "Processing Record 16 of Set 7 | russell\n",
      "Processing Record 17 of Set 7 | dingle\n",
      "Processing Record 18 of Set 7 | brae\n",
      "Processing Record 19 of Set 7 | pingliang\n",
      "Processing Record 20 of Set 7 | san antero\n",
      "Processing Record 21 of Set 7 | lata\n",
      "Processing Record 22 of Set 7 | gisborne\n",
      "Processing Record 23 of Set 7 | mayo\n",
      "Processing Record 24 of Set 7 | los algarrobos\n",
      "Processing Record 25 of Set 7 | andevoranto\n",
      "City not found. Skipping...\n",
      "Processing Record 26 of Set 7 | talladega\n"
     ]
    },
    {
     "name": "stderr",
     "output_type": "stream",
     "text": [
      "Traceback (most recent call last):\n",
      "  File \"C:\\Users\\mbore\\AppData\\Local\\Temp\\ipykernel_7440\\1490894619.py\", line 37, in <module>\n",
      "    city_lat = city_weather[\"coord\"][\"lat\"]\n",
      "KeyError: 'coord'\n"
     ]
    },
    {
     "name": "stdout",
     "output_type": "stream",
     "text": [
      "Processing Record 27 of Set 7 | tokmak\n",
      "Processing Record 28 of Set 7 | mahajanga\n",
      "Processing Record 29 of Set 7 | codrington\n",
      "Processing Record 30 of Set 7 | tuktoyaktuk\n",
      "Processing Record 31 of Set 7 | dmitriyevka\n",
      "Processing Record 32 of Set 7 | port blair\n",
      "Processing Record 33 of Set 7 | beloha\n",
      "Processing Record 34 of Set 7 | lavrentiya\n",
      "Processing Record 35 of Set 7 | tura\n",
      "Processing Record 36 of Set 7 | kuala lipis\n",
      "Processing Record 37 of Set 7 | mariental\n",
      "Processing Record 38 of Set 7 | jatai\n",
      "Processing Record 39 of Set 7 | przeworsk\n",
      "Processing Record 40 of Set 7 | pringsewu\n",
      "Processing Record 41 of Set 7 | kalmunai\n",
      "Processing Record 42 of Set 7 | plettenberg bay\n",
      "Processing Record 43 of Set 7 | abu zabad\n",
      "Processing Record 44 of Set 7 | manjeshwar\n",
      "Processing Record 45 of Set 7 | san patricio\n",
      "Processing Record 46 of Set 7 | bantry\n",
      "Processing Record 47 of Set 7 | severo-kurilsk\n",
      "Processing Record 48 of Set 7 | beringovskiy\n",
      "Processing Record 49 of Set 7 | rio gallegos\n",
      "Processing Record 50 of Set 7 | man\n",
      "Processing Record 1 of Set 8 | canico\n",
      "Processing Record 2 of Set 8 | praia da vitoria\n",
      "Processing Record 3 of Set 8 | inirida\n",
      "Processing Record 4 of Set 8 | sidi ali\n",
      "Processing Record 5 of Set 8 | qaqortoq\n",
      "Processing Record 6 of Set 8 | podyuga\n",
      "Processing Record 7 of Set 8 | tazovskiy\n",
      "Processing Record 8 of Set 8 | sisimiut\n",
      "Processing Record 9 of Set 8 | carutapera\n",
      "Processing Record 10 of Set 8 | kodinsk\n",
      "Processing Record 11 of Set 8 | gizo\n",
      "Processing Record 12 of Set 8 | ures\n",
      "Processing Record 13 of Set 8 | manicore\n",
      "Processing Record 14 of Set 8 | dogondoutchi\n",
      "Processing Record 15 of Set 8 | norwich\n",
      "Processing Record 16 of Set 8 | rayadrug\n",
      "Processing Record 17 of Set 8 | mettlach\n",
      "Processing Record 18 of Set 8 | goderich\n",
      "Processing Record 19 of Set 8 | safranbolu\n",
      "Processing Record 20 of Set 8 | douglas\n",
      "Processing Record 21 of Set 8 | manaus\n",
      "Processing Record 22 of Set 8 | trinidad\n",
      "Processing Record 23 of Set 8 | ingleside\n",
      "Processing Record 24 of Set 8 | saravan\n",
      "Processing Record 25 of Set 8 | tondano\n",
      "Processing Record 26 of Set 8 | praxedis guerrero\n",
      "Processing Record 27 of Set 8 | formoso do araguaia\n",
      "City not found. Skipping...\n",
      "Processing Record 28 of Set 8 | lock haven\n"
     ]
    },
    {
     "name": "stderr",
     "output_type": "stream",
     "text": [
      "Traceback (most recent call last):\n",
      "  File \"C:\\Users\\mbore\\AppData\\Local\\Temp\\ipykernel_7440\\1490894619.py\", line 37, in <module>\n",
      "    city_lat = city_weather[\"coord\"][\"lat\"]\n",
      "KeyError: 'coord'\n"
     ]
    },
    {
     "name": "stdout",
     "output_type": "stream",
     "text": [
      "Processing Record 29 of Set 8 | boa vista\n",
      "Processing Record 30 of Set 8 | mamallapuram\n",
      "Processing Record 31 of Set 8 | nyurba\n",
      "Processing Record 32 of Set 8 | barra\n",
      "Processing Record 33 of Set 8 | redmond\n",
      "Processing Record 34 of Set 8 | tursunzoda\n",
      "Processing Record 35 of Set 8 | meyungs\n",
      "City not found. Skipping...\n",
      "Processing Record 36 of Set 8 | haverfordwest\n"
     ]
    },
    {
     "name": "stderr",
     "output_type": "stream",
     "text": [
      "Traceback (most recent call last):\n",
      "  File \"C:\\Users\\mbore\\AppData\\Local\\Temp\\ipykernel_7440\\1490894619.py\", line 37, in <module>\n",
      "    city_lat = city_weather[\"coord\"][\"lat\"]\n",
      "KeyError: 'coord'\n"
     ]
    },
    {
     "name": "stdout",
     "output_type": "stream",
     "text": [
      "Processing Record 37 of Set 8 | vestmannaeyjar\n",
      "Processing Record 38 of Set 8 | abu jubayhah\n",
      "City not found. Skipping...\n",
      "Processing Record 39 of Set 8 | urdzhar\n"
     ]
    },
    {
     "name": "stderr",
     "output_type": "stream",
     "text": [
      "Traceback (most recent call last):\n",
      "  File \"C:\\Users\\mbore\\AppData\\Local\\Temp\\ipykernel_7440\\1490894619.py\", line 37, in <module>\n",
      "    city_lat = city_weather[\"coord\"][\"lat\"]\n",
      "KeyError: 'coord'\n",
      "Traceback (most recent call last):\n",
      "  File \"C:\\Users\\mbore\\AppData\\Local\\Temp\\ipykernel_7440\\1490894619.py\", line 37, in <module>\n",
      "    city_lat = city_weather[\"coord\"][\"lat\"]\n",
      "KeyError: 'coord'\n"
     ]
    },
    {
     "name": "stdout",
     "output_type": "stream",
     "text": [
      "City not found. Skipping...\n",
      "Processing Record 40 of Set 8 | burica\n",
      "City not found. Skipping...\n"
     ]
    },
    {
     "name": "stderr",
     "output_type": "stream",
     "text": [
      "Traceback (most recent call last):\n",
      "  File \"C:\\Users\\mbore\\AppData\\Local\\Temp\\ipykernel_7440\\1490894619.py\", line 37, in <module>\n",
      "    city_lat = city_weather[\"coord\"][\"lat\"]\n",
      "KeyError: 'coord'\n"
     ]
    },
    {
     "name": "stdout",
     "output_type": "stream",
     "text": [
      "Processing Record 41 of Set 8 | samfya\n",
      "Processing Record 42 of Set 8 | dudinka\n",
      "Processing Record 43 of Set 8 | taburi\n",
      "City not found. Skipping...\n",
      "Processing Record 44 of Set 8 | vangaindrano\n"
     ]
    },
    {
     "name": "stderr",
     "output_type": "stream",
     "text": [
      "Traceback (most recent call last):\n",
      "  File \"C:\\Users\\mbore\\AppData\\Local\\Temp\\ipykernel_7440\\1490894619.py\", line 37, in <module>\n",
      "    city_lat = city_weather[\"coord\"][\"lat\"]\n",
      "KeyError: 'coord'\n"
     ]
    },
    {
     "name": "stdout",
     "output_type": "stream",
     "text": [
      "Processing Record 45 of Set 8 | faya\n",
      "Processing Record 46 of Set 8 | burns lake\n",
      "Processing Record 47 of Set 8 | yenagoa\n",
      "Processing Record 48 of Set 8 | tuskegee\n",
      "Processing Record 49 of Set 8 | aksarka\n",
      "Processing Record 50 of Set 8 | mandera\n",
      "Processing Record 1 of Set 9 | maarianhamina\n",
      "Processing Record 2 of Set 9 | shwebo\n",
      "Processing Record 3 of Set 9 | ketchikan\n",
      "Processing Record 4 of Set 9 | broome\n",
      "Processing Record 5 of Set 9 | pulandian\n",
      "Processing Record 6 of Set 9 | montornes del valles\n",
      "Processing Record 7 of Set 9 | les cayes\n",
      "Processing Record 8 of Set 9 | kutum\n",
      "Processing Record 9 of Set 9 | bahia honda\n",
      "Processing Record 10 of Set 9 | saint-marc\n",
      "Processing Record 11 of Set 9 | saint-pierre\n",
      "Processing Record 12 of Set 9 | sorvag\n",
      "City not found. Skipping...\n",
      "Processing Record 13 of Set 9 | curuguaty\n"
     ]
    },
    {
     "name": "stderr",
     "output_type": "stream",
     "text": [
      "Traceback (most recent call last):\n",
      "  File \"C:\\Users\\mbore\\AppData\\Local\\Temp\\ipykernel_7440\\1490894619.py\", line 37, in <module>\n",
      "    city_lat = city_weather[\"coord\"][\"lat\"]\n",
      "KeyError: 'coord'\n"
     ]
    },
    {
     "name": "stdout",
     "output_type": "stream",
     "text": [
      "Processing Record 14 of Set 9 | arlit\n",
      "Processing Record 15 of Set 9 | pasni\n",
      "Processing Record 16 of Set 9 | talnakh\n",
      "Processing Record 17 of Set 9 | jurm\n",
      "Processing Record 18 of Set 9 | maceio\n",
      "Processing Record 19 of Set 9 | kurtamysh\n",
      "Processing Record 20 of Set 9 | novobirilyussy\n",
      "Processing Record 21 of Set 9 | zlatoustovsk\n",
      "City not found. Skipping...\n",
      "Processing Record 22 of Set 9 | peace river\n"
     ]
    },
    {
     "name": "stderr",
     "output_type": "stream",
     "text": [
      "Traceback (most recent call last):\n",
      "  File \"C:\\Users\\mbore\\AppData\\Local\\Temp\\ipykernel_7440\\1490894619.py\", line 37, in <module>\n",
      "    city_lat = city_weather[\"coord\"][\"lat\"]\n",
      "KeyError: 'coord'\n"
     ]
    },
    {
     "name": "stdout",
     "output_type": "stream",
     "text": [
      "Processing Record 23 of Set 9 | panaba\n",
      "Processing Record 24 of Set 9 | louth\n",
      "Processing Record 25 of Set 9 | ambulu\n",
      "Processing Record 26 of Set 9 | xai-xai\n",
      "Processing Record 27 of Set 9 | zaruma\n",
      "Processing Record 28 of Set 9 | pudozh\n",
      "Processing Record 29 of Set 9 | sinkat\n",
      "City not found. Skipping...\n",
      "Processing Record 30 of Set 9 | papar\n"
     ]
    },
    {
     "name": "stderr",
     "output_type": "stream",
     "text": [
      "Traceback (most recent call last):\n",
      "  File \"C:\\Users\\mbore\\AppData\\Local\\Temp\\ipykernel_7440\\1490894619.py\", line 37, in <module>\n",
      "    city_lat = city_weather[\"coord\"][\"lat\"]\n",
      "KeyError: 'coord'\n"
     ]
    },
    {
     "name": "stdout",
     "output_type": "stream",
     "text": [
      "Processing Record 31 of Set 9 | strezhevoy\n",
      "Processing Record 32 of Set 9 | akyab\n",
      "Processing Record 33 of Set 9 | antofagasta\n",
      "Processing Record 34 of Set 9 | bolungarvik\n",
      "City not found. Skipping...\n",
      "Processing Record 35 of Set 9 | louisbourg\n",
      "City not found. Skipping...\n",
      "Processing Record 36 of Set 9 | akhtubinsk\n"
     ]
    },
    {
     "name": "stderr",
     "output_type": "stream",
     "text": [
      "Traceback (most recent call last):\n",
      "  File \"C:\\Users\\mbore\\AppData\\Local\\Temp\\ipykernel_7440\\1490894619.py\", line 37, in <module>\n",
      "    city_lat = city_weather[\"coord\"][\"lat\"]\n",
      "KeyError: 'coord'\n",
      "Traceback (most recent call last):\n",
      "  File \"C:\\Users\\mbore\\AppData\\Local\\Temp\\ipykernel_7440\\1490894619.py\", line 37, in <module>\n",
      "    city_lat = city_weather[\"coord\"][\"lat\"]\n",
      "KeyError: 'coord'\n"
     ]
    },
    {
     "name": "stdout",
     "output_type": "stream",
     "text": [
      "Processing Record 37 of Set 9 | san cristobal\n",
      "Processing Record 38 of Set 9 | tingo maria\n",
      "Processing Record 39 of Set 9 | dinar\n",
      "Processing Record 40 of Set 9 | sovetskiy\n",
      "Processing Record 41 of Set 9 | yatou\n",
      "Processing Record 42 of Set 9 | hirara\n",
      "Processing Record 43 of Set 9 | makakilo city\n",
      "Processing Record 44 of Set 9 | narsaq\n",
      "Processing Record 45 of Set 9 | manavalakurichi\n",
      "Processing Record 46 of Set 9 | bambous virieux\n",
      "Processing Record 47 of Set 9 | sao jose da coroa grande\n",
      "Processing Record 48 of Set 9 | lorengau\n",
      "Processing Record 49 of Set 9 | asilah\n",
      "Processing Record 50 of Set 9 | raga\n",
      "Processing Record 1 of Set 10 | magaria\n",
      "Processing Record 2 of Set 10 | sapa\n",
      "Processing Record 3 of Set 10 | vaitupu\n",
      "City not found. Skipping...\n",
      "Processing Record 4 of Set 10 | kayerkan\n"
     ]
    },
    {
     "name": "stderr",
     "output_type": "stream",
     "text": [
      "Traceback (most recent call last):\n",
      "  File \"C:\\Users\\mbore\\AppData\\Local\\Temp\\ipykernel_7440\\1490894619.py\", line 37, in <module>\n",
      "    city_lat = city_weather[\"coord\"][\"lat\"]\n",
      "KeyError: 'coord'\n"
     ]
    },
    {
     "name": "stdout",
     "output_type": "stream",
     "text": [
      "Processing Record 5 of Set 10 | celano\n",
      "Processing Record 6 of Set 10 | chik\n",
      "Processing Record 7 of Set 10 | umea\n",
      "Processing Record 8 of Set 10 | amuntai\n",
      "Processing Record 9 of Set 10 | peru\n",
      "Processing Record 10 of Set 10 | lauchhammer\n",
      "Processing Record 11 of Set 10 | wuwei\n",
      "Processing Record 12 of Set 10 | lac du bonnet\n",
      "Processing Record 13 of Set 10 | darnah\n",
      "Processing Record 14 of Set 10 | tinaquillo\n",
      "Processing Record 15 of Set 10 | bartica\n",
      "Processing Record 16 of Set 10 | flin flon\n",
      "Processing Record 17 of Set 10 | arnes\n",
      "Processing Record 18 of Set 10 | tunduru\n",
      "City not found. Skipping...\n",
      "Processing Record 19 of Set 10 | ust-nera\n"
     ]
    },
    {
     "name": "stderr",
     "output_type": "stream",
     "text": [
      "Traceback (most recent call last):\n",
      "  File \"C:\\Users\\mbore\\AppData\\Local\\Temp\\ipykernel_7440\\1490894619.py\", line 37, in <module>\n",
      "    city_lat = city_weather[\"coord\"][\"lat\"]\n",
      "KeyError: 'coord'\n"
     ]
    },
    {
     "name": "stdout",
     "output_type": "stream",
     "text": [
      "Processing Record 20 of Set 10 | peravurani\n",
      "Processing Record 21 of Set 10 | aakirkeby\n",
      "City not found. Skipping...\n",
      "Processing Record 22 of Set 10 | hihifo\n"
     ]
    },
    {
     "name": "stderr",
     "output_type": "stream",
     "text": [
      "Traceback (most recent call last):\n",
      "  File \"C:\\Users\\mbore\\AppData\\Local\\Temp\\ipykernel_7440\\1490894619.py\", line 37, in <module>\n",
      "    city_lat = city_weather[\"coord\"][\"lat\"]\n",
      "KeyError: 'coord'\n",
      "Traceback (most recent call last):\n",
      "  File \"C:\\Users\\mbore\\AppData\\Local\\Temp\\ipykernel_7440\\1490894619.py\", line 37, in <module>\n",
      "    city_lat = city_weather[\"coord\"][\"lat\"]\n",
      "KeyError: 'coord'\n"
     ]
    },
    {
     "name": "stdout",
     "output_type": "stream",
     "text": [
      "City not found. Skipping...\n",
      "Processing Record 23 of Set 10 | bani walid\n",
      "Processing Record 24 of Set 10 | bakaly\n",
      "Processing Record 25 of Set 10 | lieksa\n",
      "Processing Record 26 of Set 10 | tromso\n",
      "Processing Record 27 of Set 10 | huntsville\n",
      "Processing Record 28 of Set 10 | ostrovnoy\n",
      "Processing Record 29 of Set 10 | bandar-e torkaman\n",
      "City not found. Skipping...\n",
      "Processing Record 30 of Set 10 | coos bay\n",
      "Processing Record 31 of Set 10 | pochutla\n"
     ]
    },
    {
     "name": "stderr",
     "output_type": "stream",
     "text": [
      "Traceback (most recent call last):\n",
      "  File \"C:\\Users\\mbore\\AppData\\Local\\Temp\\ipykernel_7440\\1490894619.py\", line 37, in <module>\n",
      "    city_lat = city_weather[\"coord\"][\"lat\"]\n",
      "KeyError: 'coord'\n"
     ]
    },
    {
     "name": "stdout",
     "output_type": "stream",
     "text": [
      "Processing Record 32 of Set 10 | harper\n",
      "Processing Record 33 of Set 10 | kazalinsk\n",
      "City not found. Skipping...\n",
      "Processing Record 34 of Set 10 | guilin\n"
     ]
    },
    {
     "name": "stderr",
     "output_type": "stream",
     "text": [
      "Traceback (most recent call last):\n",
      "  File \"C:\\Users\\mbore\\AppData\\Local\\Temp\\ipykernel_7440\\1490894619.py\", line 37, in <module>\n",
      "    city_lat = city_weather[\"coord\"][\"lat\"]\n",
      "KeyError: 'coord'\n"
     ]
    },
    {
     "name": "stdout",
     "output_type": "stream",
     "text": [
      "Processing Record 35 of Set 10 | lida\n",
      "Processing Record 36 of Set 10 | villingen-schwenningen\n",
      "Processing Record 37 of Set 10 | gat\n",
      "Processing Record 38 of Set 10 | morondava\n",
      "Processing Record 39 of Set 10 | kedougou\n",
      "Processing Record 40 of Set 10 | marsa matruh\n",
      "Processing Record 41 of Set 10 | victor harbor\n",
      "Processing Record 42 of Set 10 | buzdyak\n",
      "Processing Record 43 of Set 10 | middelkerke\n",
      "Processing Record 44 of Set 10 | rybinsk\n",
      "Processing Record 45 of Set 10 | coihaique\n",
      "Processing Record 46 of Set 10 | gejiu\n",
      "Processing Record 47 of Set 10 | labuan\n",
      "Processing Record 48 of Set 10 | herford\n",
      "Processing Record 49 of Set 10 | ponta do sol\n",
      "Processing Record 50 of Set 10 | domoni\n",
      "Processing Record 1 of Set 11 | chapel hill\n",
      "Processing Record 2 of Set 11 | margate\n",
      "Processing Record 3 of Set 11 | borogontsy\n",
      "Processing Record 4 of Set 11 | natal\n",
      "Processing Record 5 of Set 11 | angoche\n",
      "Processing Record 6 of Set 11 | bokovskaya\n",
      "Processing Record 7 of Set 11 | kahului\n",
      "Processing Record 8 of Set 11 | puerto lopez\n",
      "Processing Record 9 of Set 11 | mamlyutka\n",
      "Processing Record 10 of Set 11 | mugur-aksy\n",
      "Processing Record 11 of Set 11 | yerbogachen\n",
      "Processing Record 12 of Set 11 | piraju\n",
      "Processing Record 13 of Set 11 | magnolia\n",
      "Processing Record 14 of Set 11 | sao desiderio\n",
      "Processing Record 15 of Set 11 | veraval\n",
      "Processing Record 16 of Set 11 | verkhnevilyuysk\n",
      "Processing Record 17 of Set 11 | esso\n",
      "Processing Record 18 of Set 11 | denpasar\n",
      "Processing Record 19 of Set 11 | cap malheureux\n",
      "Processing Record 20 of Set 11 | altay\n",
      "Processing Record 21 of Set 11 | moerai\n",
      "Processing Record 22 of Set 11 | benjamin hill\n",
      "Processing Record 23 of Set 11 | novyy urengoy\n",
      "Processing Record 24 of Set 11 | yar-sale\n",
      "Processing Record 25 of Set 11 | matamoros\n",
      "Processing Record 26 of Set 11 | aquiraz\n",
      "Processing Record 27 of Set 11 | marzuq\n",
      "Processing Record 28 of Set 11 | kotma\n",
      "Processing Record 29 of Set 11 | micheweni\n",
      "Processing Record 30 of Set 11 | shingu\n",
      "Processing Record 31 of Set 11 | ulladulla\n",
      "Processing Record 32 of Set 11 | tessalit\n",
      "Processing Record 33 of Set 11 | mentok\n",
      "City not found. Skipping...\n",
      "Processing Record 34 of Set 11 | ende\n"
     ]
    },
    {
     "name": "stderr",
     "output_type": "stream",
     "text": [
      "Traceback (most recent call last):\n",
      "  File \"C:\\Users\\mbore\\AppData\\Local\\Temp\\ipykernel_7440\\1490894619.py\", line 37, in <module>\n",
      "    city_lat = city_weather[\"coord\"][\"lat\"]\n",
      "KeyError: 'coord'\n"
     ]
    },
    {
     "name": "stdout",
     "output_type": "stream",
     "text": [
      "Processing Record 35 of Set 11 | labuhan\n",
      "Processing Record 36 of Set 11 | zhanatas\n",
      "City not found. Skipping...\n",
      "Processing Record 37 of Set 11 | comodoro rivadavia\n"
     ]
    },
    {
     "name": "stderr",
     "output_type": "stream",
     "text": [
      "Traceback (most recent call last):\n",
      "  File \"C:\\Users\\mbore\\AppData\\Local\\Temp\\ipykernel_7440\\1490894619.py\", line 37, in <module>\n",
      "    city_lat = city_weather[\"coord\"][\"lat\"]\n",
      "KeyError: 'coord'\n"
     ]
    },
    {
     "name": "stdout",
     "output_type": "stream",
     "text": [
      "Processing Record 38 of Set 11 | nago\n",
      "Processing Record 39 of Set 11 | hvide sande\n",
      "Processing Record 40 of Set 11 | barawe\n",
      "City not found. Skipping...\n",
      "Processing Record 41 of Set 11 | tiznit\n"
     ]
    },
    {
     "name": "stderr",
     "output_type": "stream",
     "text": [
      "Traceback (most recent call last):\n",
      "  File \"C:\\Users\\mbore\\AppData\\Local\\Temp\\ipykernel_7440\\1490894619.py\", line 37, in <module>\n",
      "    city_lat = city_weather[\"coord\"][\"lat\"]\n",
      "KeyError: 'coord'\n"
     ]
    },
    {
     "name": "stdout",
     "output_type": "stream",
     "text": [
      "Processing Record 42 of Set 11 | achacachi\n",
      "Processing Record 43 of Set 11 | colac\n",
      "Processing Record 44 of Set 11 | alofi\n",
      "Processing Record 45 of Set 11 | uusikaupunki\n",
      "Processing Record 46 of Set 11 | ijaki\n",
      "City not found. Skipping...\n",
      "Processing Record 47 of Set 11 | iracoubo\n"
     ]
    },
    {
     "name": "stderr",
     "output_type": "stream",
     "text": [
      "Traceback (most recent call last):\n",
      "  File \"C:\\Users\\mbore\\AppData\\Local\\Temp\\ipykernel_7440\\1490894619.py\", line 37, in <module>\n",
      "    city_lat = city_weather[\"coord\"][\"lat\"]\n",
      "KeyError: 'coord'\n"
     ]
    },
    {
     "name": "stdout",
     "output_type": "stream",
     "text": [
      "Processing Record 48 of Set 11 | khonuu\n",
      "City not found. Skipping...\n"
     ]
    },
    {
     "name": "stderr",
     "output_type": "stream",
     "text": [
      "Traceback (most recent call last):\n",
      "  File \"C:\\Users\\mbore\\AppData\\Local\\Temp\\ipykernel_7440\\1490894619.py\", line 37, in <module>\n",
      "    city_lat = city_weather[\"coord\"][\"lat\"]\n",
      "KeyError: 'coord'\n"
     ]
    },
    {
     "name": "stdout",
     "output_type": "stream",
     "text": [
      "Processing Record 49 of Set 11 | aykhal\n",
      "Processing Record 50 of Set 11 | kashi\n",
      "Processing Record 1 of Set 12 | huayang\n",
      "Processing Record 2 of Set 12 | puerto del rosario\n",
      "Processing Record 3 of Set 12 | pangnirtung\n",
      "Processing Record 4 of Set 12 | le mans\n",
      "Processing Record 5 of Set 12 | ye\n",
      "City not found. Skipping...\n",
      "Processing Record 6 of Set 12 | shelburne\n"
     ]
    },
    {
     "name": "stderr",
     "output_type": "stream",
     "text": [
      "Traceback (most recent call last):\n",
      "  File \"C:\\Users\\mbore\\AppData\\Local\\Temp\\ipykernel_7440\\1490894619.py\", line 37, in <module>\n",
      "    city_lat = city_weather[\"coord\"][\"lat\"]\n",
      "KeyError: 'coord'\n"
     ]
    },
    {
     "name": "stdout",
     "output_type": "stream",
     "text": [
      "Processing Record 7 of Set 12 | la gaulette\n",
      "City not found. Skipping...\n"
     ]
    },
    {
     "name": "stderr",
     "output_type": "stream",
     "text": [
      "Traceback (most recent call last):\n",
      "  File \"C:\\Users\\mbore\\AppData\\Local\\Temp\\ipykernel_7440\\1490894619.py\", line 37, in <module>\n",
      "    city_lat = city_weather[\"coord\"][\"lat\"]\n",
      "KeyError: 'coord'\n"
     ]
    },
    {
     "name": "stdout",
     "output_type": "stream",
     "text": [
      "Processing Record 8 of Set 12 | anzio\n",
      "Processing Record 9 of Set 12 | anadyr\n",
      "Processing Record 10 of Set 12 | hambantota\n",
      "Processing Record 11 of Set 12 | muros\n",
      "Processing Record 12 of Set 12 | torredonjimeno\n",
      "Processing Record 13 of Set 12 | havelock\n",
      "Processing Record 14 of Set 12 | camopi\n",
      "Processing Record 15 of Set 12 | tawnat\n",
      "City not found. Skipping...\n",
      "Processing Record 16 of Set 12 | buraydah\n"
     ]
    },
    {
     "name": "stderr",
     "output_type": "stream",
     "text": [
      "Traceback (most recent call last):\n",
      "  File \"C:\\Users\\mbore\\AppData\\Local\\Temp\\ipykernel_7440\\1490894619.py\", line 37, in <module>\n",
      "    city_lat = city_weather[\"coord\"][\"lat\"]\n",
      "KeyError: 'coord'\n"
     ]
    },
    {
     "name": "stdout",
     "output_type": "stream",
     "text": [
      "Processing Record 17 of Set 12 | cagayan de tawi-tawi\n",
      "City not found. Skipping...\n",
      "Processing Record 18 of Set 12 | komsomolets\n"
     ]
    },
    {
     "name": "stderr",
     "output_type": "stream",
     "text": [
      "Traceback (most recent call last):\n",
      "  File \"C:\\Users\\mbore\\AppData\\Local\\Temp\\ipykernel_7440\\1490894619.py\", line 37, in <module>\n",
      "    city_lat = city_weather[\"coord\"][\"lat\"]\n",
      "KeyError: 'coord'\n"
     ]
    },
    {
     "name": "stdout",
     "output_type": "stream",
     "text": [
      "Processing Record 19 of Set 12 | okhotsk\n",
      "Processing Record 20 of Set 12 | guayabetal\n",
      "Processing Record 21 of Set 12 | cine\n",
      "Processing Record 22 of Set 12 | beeskow\n",
      "Processing Record 23 of Set 12 | ampanihy\n",
      "Processing Record 24 of Set 12 | coswig\n",
      "Processing Record 25 of Set 12 | lebedinyy\n",
      "Processing Record 26 of Set 12 | umm lajj\n",
      "Processing Record 27 of Set 12 | nefteyugansk\n",
      "Processing Record 28 of Set 12 | teno\n",
      "Processing Record 29 of Set 12 | praia\n",
      "Processing Record 30 of Set 12 | vila velha\n",
      "Processing Record 31 of Set 12 | aksu\n",
      "Processing Record 32 of Set 12 | ouallam\n",
      "Processing Record 33 of Set 12 | lamu\n",
      "Processing Record 34 of Set 12 | rasova\n",
      "Processing Record 35 of Set 12 | juneau\n",
      "Processing Record 36 of Set 12 | ukiah\n",
      "Processing Record 37 of Set 12 | marsh harbour\n",
      "Processing Record 38 of Set 12 | mandalgovi\n",
      "Processing Record 39 of Set 12 | canon city\n",
      "Processing Record 40 of Set 12 | puerto baquerizo moreno\n",
      "Processing Record 41 of Set 12 | bose\n",
      "Processing Record 42 of Set 12 | yazman\n",
      "Processing Record 43 of Set 12 | ponta delgada\n",
      "Processing Record 44 of Set 12 | havre-saint-pierre\n",
      "Processing Record 45 of Set 12 | vega de alatorre\n",
      "Processing Record 46 of Set 12 | kharp\n",
      "Processing Record 47 of Set 12 | suleja\n",
      "Processing Record 48 of Set 12 | maniitsoq\n",
      "Processing Record 49 of Set 12 | cortland\n",
      "Processing Record 50 of Set 12 | xixiang\n",
      "Processing Record 1 of Set 13 | weihai\n",
      "Processing Record 2 of Set 13 | dolinsk\n",
      "Processing Record 3 of Set 13 | bossier city\n",
      "Processing Record 4 of Set 13 | coahuayana\n",
      "Processing Record 5 of Set 13 | keningau\n",
      "Processing Record 6 of Set 13 | toyooka\n",
      "Processing Record 7 of Set 13 | mergui\n",
      "City not found. Skipping...\n"
     ]
    },
    {
     "name": "stderr",
     "output_type": "stream",
     "text": [
      "Traceback (most recent call last):\n",
      "  File \"C:\\Users\\mbore\\AppData\\Local\\Temp\\ipykernel_7440\\1490894619.py\", line 37, in <module>\n",
      "    city_lat = city_weather[\"coord\"][\"lat\"]\n",
      "KeyError: 'coord'\n"
     ]
    },
    {
     "name": "stdout",
     "output_type": "stream",
     "text": [
      "Processing Record 8 of Set 13 | hit\n",
      "Processing Record 9 of Set 13 | egvekinot\n",
      "Processing Record 10 of Set 13 | nouakchott\n",
      "Processing Record 11 of Set 13 | phanat nikhom\n",
      "Processing Record 12 of Set 13 | mount isa\n",
      "Processing Record 13 of Set 13 | keti bandar\n",
      "Processing Record 14 of Set 13 | kuantan\n",
      "Processing Record 15 of Set 13 | boyuibe\n",
      "Processing Record 16 of Set 13 | inuvik\n",
      "Processing Record 17 of Set 13 | tigil\n",
      "Processing Record 18 of Set 13 | supe\n",
      "Processing Record 19 of Set 13 | narkanda\n",
      "Processing Record 20 of Set 13 | aleksandrov gay\n",
      "Processing Record 21 of Set 13 | ishigaki\n",
      "Processing Record 22 of Set 13 | velikooktyabrskiy\n",
      "Processing Record 23 of Set 13 | bud\n",
      "Processing Record 24 of Set 13 | cockburn town\n",
      "Processing Record 25 of Set 13 | samarai\n",
      "Processing Record 26 of Set 13 | charters towers\n",
      "Processing Record 27 of Set 13 | kiama\n",
      "Processing Record 28 of Set 13 | husavik\n",
      "Processing Record 29 of Set 13 | lompoc\n",
      "Processing Record 30 of Set 13 | mangrol\n",
      "Processing Record 31 of Set 13 | bababe\n",
      "City not found. Skipping...\n",
      "Processing Record 32 of Set 13 | plastun\n"
     ]
    },
    {
     "name": "stderr",
     "output_type": "stream",
     "text": [
      "Traceback (most recent call last):\n",
      "  File \"C:\\Users\\mbore\\AppData\\Local\\Temp\\ipykernel_7440\\1490894619.py\", line 37, in <module>\n",
      "    city_lat = city_weather[\"coord\"][\"lat\"]\n",
      "KeyError: 'coord'\n"
     ]
    },
    {
     "name": "stdout",
     "output_type": "stream",
     "text": [
      "Processing Record 33 of Set 13 | duluth\n",
      "Processing Record 34 of Set 13 | springbok\n",
      "Processing Record 35 of Set 13 | ahuimanu\n",
      "Processing Record 36 of Set 13 | katherine\n",
      "Processing Record 37 of Set 13 | cedar city\n",
      "Processing Record 38 of Set 13 | amahai\n",
      "Processing Record 39 of Set 13 | deer lake\n",
      "Processing Record 40 of Set 13 | mineral wells\n",
      "Processing Record 41 of Set 13 | inhambane\n",
      "Processing Record 42 of Set 13 | salisbury\n",
      "Processing Record 43 of Set 13 | port-gentil\n",
      "Processing Record 44 of Set 13 | skalistyy\n",
      "City not found. Skipping...\n"
     ]
    },
    {
     "name": "stderr",
     "output_type": "stream",
     "text": [
      "Traceback (most recent call last):\n",
      "  File \"C:\\Users\\mbore\\AppData\\Local\\Temp\\ipykernel_7440\\1490894619.py\", line 37, in <module>\n",
      "    city_lat = city_weather[\"coord\"][\"lat\"]\n",
      "KeyError: 'coord'\n"
     ]
    },
    {
     "name": "stdout",
     "output_type": "stream",
     "text": [
      "Processing Record 45 of Set 13 | goure\n",
      "Processing Record 46 of Set 13 | mutare\n",
      "Processing Record 47 of Set 13 | iralaya\n",
      "Processing Record 48 of Set 13 | iglesias\n",
      "Processing Record 49 of Set 13 | atasu\n",
      "Processing Record 50 of Set 13 | cairns\n",
      "Processing Record 1 of Set 14 | peleduy\n",
      "Processing Record 2 of Set 14 | rosarito\n",
      "Processing Record 3 of Set 14 | greencastle\n",
      "Processing Record 4 of Set 14 | badou\n",
      "Processing Record 5 of Set 14 | deep river\n",
      "Processing Record 6 of Set 14 | clarence town\n",
      "Processing Record 7 of Set 14 | nuevo progreso\n",
      "Processing Record 8 of Set 14 | hoquiam\n",
      "Processing Record 9 of Set 14 | la palma\n",
      "Processing Record 10 of Set 14 | gunjur\n",
      "Processing Record 11 of Set 14 | salta\n",
      "Processing Record 12 of Set 14 | alice town\n",
      "Processing Record 13 of Set 14 | vigrestad\n",
      "Processing Record 14 of Set 14 | saint-augustin\n",
      "Processing Record 15 of Set 14 | acarau\n",
      "Processing Record 16 of Set 14 | waipawa\n",
      "Processing Record 17 of Set 14 | severnyy\n",
      "Processing Record 18 of Set 14 | polson\n",
      "Processing Record 19 of Set 14 | nhulunbuy\n",
      "Processing Record 20 of Set 14 | chapais\n",
      "Processing Record 21 of Set 14 | yevsino\n",
      "Processing Record 22 of Set 14 | nioro\n",
      "Processing Record 23 of Set 14 | phan rang\n",
      "City not found. Skipping...\n",
      "Processing Record 24 of Set 14 | semenivka\n"
     ]
    },
    {
     "name": "stderr",
     "output_type": "stream",
     "text": [
      "Traceback (most recent call last):\n",
      "  File \"C:\\Users\\mbore\\AppData\\Local\\Temp\\ipykernel_7440\\1490894619.py\", line 37, in <module>\n",
      "    city_lat = city_weather[\"coord\"][\"lat\"]\n",
      "KeyError: 'coord'\n"
     ]
    },
    {
     "name": "stdout",
     "output_type": "stream",
     "text": [
      "Processing Record 25 of Set 14 | xingyi\n",
      "Processing Record 26 of Set 14 | ternate\n",
      "Processing Record 27 of Set 14 | dillon\n",
      "Processing Record 28 of Set 14 | tidore\n",
      "City not found. Skipping...\n",
      "Processing Record 29 of Set 14 | sergeyevka\n"
     ]
    },
    {
     "name": "stderr",
     "output_type": "stream",
     "text": [
      "Traceback (most recent call last):\n",
      "  File \"C:\\Users\\mbore\\AppData\\Local\\Temp\\ipykernel_7440\\1490894619.py\", line 37, in <module>\n",
      "    city_lat = city_weather[\"coord\"][\"lat\"]\n",
      "KeyError: 'coord'\n"
     ]
    },
    {
     "name": "stdout",
     "output_type": "stream",
     "text": [
      "Processing Record 30 of Set 14 | te anau\n",
      "Processing Record 31 of Set 14 | zaltan\n",
      "Processing Record 32 of Set 14 | popondetta\n",
      "Processing Record 33 of Set 14 | luanda\n",
      "Processing Record 34 of Set 14 | mitsamiouli\n",
      "Processing Record 35 of Set 14 | matadi\n",
      "Processing Record 36 of Set 14 | moron\n",
      "Processing Record 37 of Set 14 | grindavik\n",
      "Processing Record 38 of Set 14 | zhigansk\n",
      "Processing Record 39 of Set 14 | hay river\n",
      "Processing Record 40 of Set 14 | ust-maya\n",
      "Processing Record 41 of Set 14 | bilma\n",
      "Processing Record 42 of Set 14 | broken hill\n",
      "Processing Record 43 of Set 14 | halifax\n",
      "Processing Record 44 of Set 14 | kitimat\n",
      "Processing Record 45 of Set 14 | khovu-aksy\n",
      "Processing Record 46 of Set 14 | gigmoto\n",
      "Processing Record 47 of Set 14 | lixourion\n",
      "Processing Record 48 of Set 14 | sitionuevo\n",
      "Processing Record 49 of Set 14 | kysyl-syr\n",
      "Processing Record 50 of Set 14 | bongaigaon\n",
      "Processing Record 1 of Set 15 | sitka\n",
      "Processing Record 2 of Set 15 | caravelas\n",
      "Processing Record 3 of Set 15 | san andres\n",
      "Processing Record 4 of Set 15 | hurghada\n",
      "Processing Record 5 of Set 15 | oda\n",
      "Processing Record 6 of Set 15 | sri aman\n",
      "Processing Record 7 of Set 15 | kavaratti\n",
      "Processing Record 8 of Set 15 | thaba nchu\n",
      "Processing Record 9 of Set 15 | kamenskoye\n",
      "City not found. Skipping...\n",
      "Processing Record 10 of Set 15 | san quintin\n"
     ]
    },
    {
     "name": "stderr",
     "output_type": "stream",
     "text": [
      "Traceback (most recent call last):\n",
      "  File \"C:\\Users\\mbore\\AppData\\Local\\Temp\\ipykernel_7440\\1490894619.py\", line 37, in <module>\n",
      "    city_lat = city_weather[\"coord\"][\"lat\"]\n",
      "KeyError: 'coord'\n"
     ]
    },
    {
     "name": "stdout",
     "output_type": "stream",
     "text": [
      "Processing Record 11 of Set 15 | yunjinghong\n",
      "City not found. Skipping...\n",
      "Processing Record 12 of Set 15 | morant bay\n"
     ]
    },
    {
     "name": "stderr",
     "output_type": "stream",
     "text": [
      "Traceback (most recent call last):\n",
      "  File \"C:\\Users\\mbore\\AppData\\Local\\Temp\\ipykernel_7440\\1490894619.py\", line 37, in <module>\n",
      "    city_lat = city_weather[\"coord\"][\"lat\"]\n",
      "KeyError: 'coord'\n"
     ]
    },
    {
     "name": "stdout",
     "output_type": "stream",
     "text": [
      "Processing Record 13 of Set 15 | jiuquan\n",
      "Processing Record 14 of Set 15 | kargasok\n",
      "Processing Record 15 of Set 15 | dryden\n",
      "Processing Record 16 of Set 15 | margasari\n",
      "Processing Record 17 of Set 15 | svetlyy\n",
      "Processing Record 18 of Set 15 | brigantine\n",
      "Processing Record 19 of Set 15 | banda aceh\n",
      "Processing Record 20 of Set 15 | knysna\n",
      "Processing Record 21 of Set 15 | porkhov\n",
      "Processing Record 22 of Set 15 | ola\n",
      "Processing Record 23 of Set 15 | payo\n",
      "Processing Record 24 of Set 15 | mackenzie\n",
      "Processing Record 25 of Set 15 | weston\n",
      "Processing Record 26 of Set 15 | segou\n",
      "Processing Record 27 of Set 15 | carroll\n",
      "Processing Record 28 of Set 15 | pedernales\n",
      "Processing Record 29 of Set 15 | barra patuca\n",
      "Processing Record 30 of Set 15 | tirano\n",
      "Processing Record 31 of Set 15 | visby\n",
      "Processing Record 32 of Set 15 | zhezkazgan\n",
      "Processing Record 33 of Set 15 | komsomolskiy\n",
      "Processing Record 34 of Set 15 | sinop\n",
      "Processing Record 35 of Set 15 | matane\n",
      "Processing Record 36 of Set 15 | gasa\n",
      "Processing Record 37 of Set 15 | zemio\n",
      "Processing Record 38 of Set 15 | tevaitoa\n",
      "Processing Record 39 of Set 15 | george\n",
      "Processing Record 40 of Set 15 | shuyskoye\n",
      "Processing Record 41 of Set 15 | lerwick\n",
      "Processing Record 42 of Set 15 | araouane\n",
      "Processing Record 43 of Set 15 | kushima\n",
      "Processing Record 44 of Set 15 | shirvan\n",
      "Processing Record 45 of Set 15 | lakota\n",
      "Processing Record 46 of Set 15 | aflu\n",
      "City not found. Skipping...\n",
      "Processing Record 47 of Set 15 | tanggu\n"
     ]
    },
    {
     "name": "stderr",
     "output_type": "stream",
     "text": [
      "Traceback (most recent call last):\n",
      "  File \"C:\\Users\\mbore\\AppData\\Local\\Temp\\ipykernel_7440\\1490894619.py\", line 37, in <module>\n",
      "    city_lat = city_weather[\"coord\"][\"lat\"]\n",
      "KeyError: 'coord'\n"
     ]
    },
    {
     "name": "stdout",
     "output_type": "stream",
     "text": [
      "Processing Record 48 of Set 15 | graaff-reinet\n",
      "Processing Record 49 of Set 15 | beitbridge\n",
      "Processing Record 50 of Set 15 | severo-yeniseyskiy\n",
      "Processing Record 1 of Set 16 | dengzhou\n",
      "Processing Record 2 of Set 16 | bousse\n",
      "Processing Record 3 of Set 16 | ada\n",
      "Processing Record 4 of Set 16 | nova olimpia\n",
      "Processing Record 5 of Set 16 | myitkyina\n",
      "Processing Record 6 of Set 16 | liuzhou\n",
      "Processing Record 7 of Set 16 | mora\n",
      "-----------------------------\n",
      "Data Retrieval Complete      \n",
      "-----------------------------\n"
     ]
    }
   ],
   "source": [
    "# Create an empty list to hold the weather data.\n",
    "city_data = []\n",
    "\n",
    "# Print the beginning of the logging.\n",
    "print(\"Beginning Data Retrieval     \")\n",
    "print(\"-----------------------------\")\n",
    "\n",
    "# Create counters.\n",
    "record_count = 1\n",
    "set_count = 1\n",
    "\n",
    "# Starting URL for Weather Map API Call.\n",
    "url = \"http://api.openweathermap.org/data/2.5/weather?units=Imperial&APPID=\" + weather_api_key\n",
    "\n",
    "# Loop through all the cities in our list.\n",
    "for i, city in enumerate(cities):\n",
    "\n",
    "    # Group cities in sets of 50 for logging purposes.\n",
    "    if (i % 50 == 0 and i >= 50):\n",
    "        set_count += 1\n",
    "        record_count = 1\n",
    "        time.sleep(60)\n",
    "\n",
    "    # Create endpoint URL with each city.\n",
    "    city_url = url + \"&q=\" + city.replace(\" \",\"+\")\n",
    "    \n",
    "    # Log the URL, record, and set numbers and the city.\n",
    "    print(f\"Processing Record {record_count} of Set {set_count} | {city}\")\n",
    "    # Add 1 to the record count.\n",
    "    record_count += 1\n",
    "    \n",
    "    # Run an API request for each of the cities.\n",
    "    try:\n",
    "        # Parse the JSON and retrieve data.\n",
    "        city_weather = requests.get(city_url).json()\n",
    "        # Parse out the needed data.\n",
    "        city_lat = city_weather[\"coord\"][\"lat\"]\n",
    "        city_lng = city_weather[\"coord\"][\"lon\"]\n",
    "        city_max_temp = city_weather[\"main\"][\"temp_max\"]\n",
    "        city_humidity = city_weather[\"main\"][\"humidity\"]\n",
    "        city_clouds = city_weather[\"clouds\"][\"all\"]\n",
    "        city_wind = city_weather[\"wind\"][\"speed\"]\n",
    "        city_description = city_weather[\"weather\"][0][\"description\"]\n",
    "        city_country = city_weather[\"sys\"][\"country\"]\n",
    "        # Convert the date to ISO standard.\n",
    "        city_date = datetime.utcfromtimestamp(city_weather[\"dt\"]).strftime('%Y-%m-%d %H:%M:%S')\n",
    "        # Append the city information into city_data list.\n",
    "        city_data.append({\"City\": city.title(),\n",
    "                          \"Lat\": city_lat,\n",
    "                          \"Lng\": city_lng,\n",
    "                          \"Max Temp\": city_max_temp,\n",
    "                          \"Humidity\": city_humidity,\n",
    "                          \"Cloudiness\": city_clouds,\n",
    "                          \"Wind Speed\": city_wind,\n",
    "                          \"Country\": city_country,\n",
    "                          \"Date\": city_date,\n",
    "                          \"Current Description\" : city_description})\n",
    "\n",
    "# If an error is experienced, skip the city.\n",
    "    except Exception:\n",
    "        print(\"City not found. Skipping...\")\n",
    "        traceback.print_exc()\n",
    "        pass\n",
    "\n",
    "# Indicate that Data Loading is complete.\n",
    "print(\"-----------------------------\")\n",
    "print(\"Data Retrieval Complete      \")\n",
    "print(\"-----------------------------\")"
   ]
  },
  {
   "cell_type": "code",
   "execution_count": 12,
   "id": "cdadff9c",
   "metadata": {},
   "outputs": [
    {
     "data": {
      "text/plain": [
       "692"
      ]
     },
     "execution_count": 12,
     "metadata": {},
     "output_type": "execute_result"
    }
   ],
   "source": [
    "len(city_data)"
   ]
  },
  {
   "cell_type": "code",
   "execution_count": 13,
   "id": "4c125845",
   "metadata": {},
   "outputs": [
    {
     "data": {
      "text/html": [
       "<div>\n",
       "<style scoped>\n",
       "    .dataframe tbody tr th:only-of-type {\n",
       "        vertical-align: middle;\n",
       "    }\n",
       "\n",
       "    .dataframe tbody tr th {\n",
       "        vertical-align: top;\n",
       "    }\n",
       "\n",
       "    .dataframe thead th {\n",
       "        text-align: right;\n",
       "    }\n",
       "</style>\n",
       "<table border=\"1\" class=\"dataframe\">\n",
       "  <thead>\n",
       "    <tr style=\"text-align: right;\">\n",
       "      <th></th>\n",
       "      <th>City</th>\n",
       "      <th>Lat</th>\n",
       "      <th>Lng</th>\n",
       "      <th>Max Temp</th>\n",
       "      <th>Humidity</th>\n",
       "      <th>Cloudiness</th>\n",
       "      <th>Wind Speed</th>\n",
       "      <th>Country</th>\n",
       "      <th>Date</th>\n",
       "      <th>Current Description</th>\n",
       "    </tr>\n",
       "  </thead>\n",
       "  <tbody>\n",
       "    <tr>\n",
       "      <th>0</th>\n",
       "      <td>Coquimbo</td>\n",
       "      <td>-29.9533</td>\n",
       "      <td>-71.3436</td>\n",
       "      <td>53.33</td>\n",
       "      <td>76</td>\n",
       "      <td>40</td>\n",
       "      <td>3.44</td>\n",
       "      <td>CL</td>\n",
       "      <td>2022-07-09 02:51:08</td>\n",
       "      <td>scattered clouds</td>\n",
       "    </tr>\n",
       "    <tr>\n",
       "      <th>1</th>\n",
       "      <td>Torbay</td>\n",
       "      <td>47.6666</td>\n",
       "      <td>-52.7314</td>\n",
       "      <td>56.26</td>\n",
       "      <td>86</td>\n",
       "      <td>20</td>\n",
       "      <td>5.75</td>\n",
       "      <td>CA</td>\n",
       "      <td>2022-07-09 02:47:00</td>\n",
       "      <td>few clouds</td>\n",
       "    </tr>\n",
       "    <tr>\n",
       "      <th>2</th>\n",
       "      <td>Bintulu</td>\n",
       "      <td>3.1667</td>\n",
       "      <td>113.0333</td>\n",
       "      <td>82.81</td>\n",
       "      <td>83</td>\n",
       "      <td>20</td>\n",
       "      <td>3.44</td>\n",
       "      <td>MY</td>\n",
       "      <td>2022-07-09 02:51:10</td>\n",
       "      <td>few clouds</td>\n",
       "    </tr>\n",
       "    <tr>\n",
       "      <th>3</th>\n",
       "      <td>Busselton</td>\n",
       "      <td>-33.6500</td>\n",
       "      <td>115.3333</td>\n",
       "      <td>63.25</td>\n",
       "      <td>91</td>\n",
       "      <td>100</td>\n",
       "      <td>23.17</td>\n",
       "      <td>AU</td>\n",
       "      <td>2022-07-09 02:51:11</td>\n",
       "      <td>light rain</td>\n",
       "    </tr>\n",
       "    <tr>\n",
       "      <th>4</th>\n",
       "      <td>Punta Arenas</td>\n",
       "      <td>-53.1500</td>\n",
       "      <td>-70.9167</td>\n",
       "      <td>33.91</td>\n",
       "      <td>93</td>\n",
       "      <td>100</td>\n",
       "      <td>6.91</td>\n",
       "      <td>CL</td>\n",
       "      <td>2022-07-09 02:44:50</td>\n",
       "      <td>fog</td>\n",
       "    </tr>\n",
       "    <tr>\n",
       "      <th>5</th>\n",
       "      <td>Bethel</td>\n",
       "      <td>41.3712</td>\n",
       "      <td>-73.4140</td>\n",
       "      <td>73.04</td>\n",
       "      <td>86</td>\n",
       "      <td>100</td>\n",
       "      <td>2.93</td>\n",
       "      <td>US</td>\n",
       "      <td>2022-07-09 02:51:11</td>\n",
       "      <td>overcast clouds</td>\n",
       "    </tr>\n",
       "    <tr>\n",
       "      <th>6</th>\n",
       "      <td>Parthenay</td>\n",
       "      <td>46.6667</td>\n",
       "      <td>-0.4167</td>\n",
       "      <td>62.49</td>\n",
       "      <td>61</td>\n",
       "      <td>9</td>\n",
       "      <td>8.28</td>\n",
       "      <td>FR</td>\n",
       "      <td>2022-07-09 02:51:11</td>\n",
       "      <td>clear sky</td>\n",
       "    </tr>\n",
       "    <tr>\n",
       "      <th>7</th>\n",
       "      <td>Mataura</td>\n",
       "      <td>-46.1927</td>\n",
       "      <td>168.8643</td>\n",
       "      <td>43.48</td>\n",
       "      <td>94</td>\n",
       "      <td>100</td>\n",
       "      <td>8.46</td>\n",
       "      <td>NZ</td>\n",
       "      <td>2022-07-09 02:51:12</td>\n",
       "      <td>overcast clouds</td>\n",
       "    </tr>\n",
       "    <tr>\n",
       "      <th>8</th>\n",
       "      <td>Naqadeh</td>\n",
       "      <td>36.9553</td>\n",
       "      <td>45.3880</td>\n",
       "      <td>69.80</td>\n",
       "      <td>55</td>\n",
       "      <td>0</td>\n",
       "      <td>4.76</td>\n",
       "      <td>IR</td>\n",
       "      <td>2022-07-09 02:47:03</td>\n",
       "      <td>clear sky</td>\n",
       "    </tr>\n",
       "    <tr>\n",
       "      <th>9</th>\n",
       "      <td>Trojes</td>\n",
       "      <td>41.7560</td>\n",
       "      <td>19.9620</td>\n",
       "      <td>65.57</td>\n",
       "      <td>87</td>\n",
       "      <td>74</td>\n",
       "      <td>9.06</td>\n",
       "      <td>AL</td>\n",
       "      <td>2022-07-09 02:47:03</td>\n",
       "      <td>broken clouds</td>\n",
       "    </tr>\n",
       "  </tbody>\n",
       "</table>\n",
       "</div>"
      ],
      "text/plain": [
       "           City      Lat       Lng  Max Temp  Humidity  Cloudiness  \\\n",
       "0      Coquimbo -29.9533  -71.3436     53.33        76          40   \n",
       "1        Torbay  47.6666  -52.7314     56.26        86          20   \n",
       "2       Bintulu   3.1667  113.0333     82.81        83          20   \n",
       "3     Busselton -33.6500  115.3333     63.25        91         100   \n",
       "4  Punta Arenas -53.1500  -70.9167     33.91        93         100   \n",
       "5        Bethel  41.3712  -73.4140     73.04        86         100   \n",
       "6     Parthenay  46.6667   -0.4167     62.49        61           9   \n",
       "7       Mataura -46.1927  168.8643     43.48        94         100   \n",
       "8       Naqadeh  36.9553   45.3880     69.80        55           0   \n",
       "9        Trojes  41.7560   19.9620     65.57        87          74   \n",
       "\n",
       "   Wind Speed Country                 Date Current Description  \n",
       "0        3.44      CL  2022-07-09 02:51:08    scattered clouds  \n",
       "1        5.75      CA  2022-07-09 02:47:00          few clouds  \n",
       "2        3.44      MY  2022-07-09 02:51:10          few clouds  \n",
       "3       23.17      AU  2022-07-09 02:51:11          light rain  \n",
       "4        6.91      CL  2022-07-09 02:44:50                 fog  \n",
       "5        2.93      US  2022-07-09 02:51:11     overcast clouds  \n",
       "6        8.28      FR  2022-07-09 02:51:11           clear sky  \n",
       "7        8.46      NZ  2022-07-09 02:51:12     overcast clouds  \n",
       "8        4.76      IR  2022-07-09 02:47:03           clear sky  \n",
       "9        9.06      AL  2022-07-09 02:47:03       broken clouds  "
      ]
     },
     "execution_count": 13,
     "metadata": {},
     "output_type": "execute_result"
    }
   ],
   "source": [
    "# Covert the array of dictionaries to a Pandas DataFrame\n",
    "city_data_df = pd.DataFrame(city_data)\n",
    "city_data_df.head(10)"
   ]
  },
  {
   "cell_type": "code",
   "execution_count": 14,
   "id": "8e6ca1e2",
   "metadata": {},
   "outputs": [
    {
     "data": {
      "text/html": [
       "<div>\n",
       "<style scoped>\n",
       "    .dataframe tbody tr th:only-of-type {\n",
       "        vertical-align: middle;\n",
       "    }\n",
       "\n",
       "    .dataframe tbody tr th {\n",
       "        vertical-align: top;\n",
       "    }\n",
       "\n",
       "    .dataframe thead th {\n",
       "        text-align: right;\n",
       "    }\n",
       "</style>\n",
       "<table border=\"1\" class=\"dataframe\">\n",
       "  <thead>\n",
       "    <tr style=\"text-align: right;\">\n",
       "      <th></th>\n",
       "      <th>City</th>\n",
       "      <th>Country</th>\n",
       "      <th>Lat</th>\n",
       "      <th>Lng</th>\n",
       "      <th>Max Temp</th>\n",
       "      <th>Humidity</th>\n",
       "      <th>Cloudiness</th>\n",
       "      <th>Wind Speed</th>\n",
       "      <th>Current Description</th>\n",
       "    </tr>\n",
       "  </thead>\n",
       "  <tbody>\n",
       "    <tr>\n",
       "      <th>0</th>\n",
       "      <td>Coquimbo</td>\n",
       "      <td>CL</td>\n",
       "      <td>-29.9533</td>\n",
       "      <td>-71.3436</td>\n",
       "      <td>53.33</td>\n",
       "      <td>76</td>\n",
       "      <td>40</td>\n",
       "      <td>3.44</td>\n",
       "      <td>scattered clouds</td>\n",
       "    </tr>\n",
       "    <tr>\n",
       "      <th>1</th>\n",
       "      <td>Torbay</td>\n",
       "      <td>CA</td>\n",
       "      <td>47.6666</td>\n",
       "      <td>-52.7314</td>\n",
       "      <td>56.26</td>\n",
       "      <td>86</td>\n",
       "      <td>20</td>\n",
       "      <td>5.75</td>\n",
       "      <td>few clouds</td>\n",
       "    </tr>\n",
       "    <tr>\n",
       "      <th>2</th>\n",
       "      <td>Bintulu</td>\n",
       "      <td>MY</td>\n",
       "      <td>3.1667</td>\n",
       "      <td>113.0333</td>\n",
       "      <td>82.81</td>\n",
       "      <td>83</td>\n",
       "      <td>20</td>\n",
       "      <td>3.44</td>\n",
       "      <td>few clouds</td>\n",
       "    </tr>\n",
       "    <tr>\n",
       "      <th>3</th>\n",
       "      <td>Busselton</td>\n",
       "      <td>AU</td>\n",
       "      <td>-33.6500</td>\n",
       "      <td>115.3333</td>\n",
       "      <td>63.25</td>\n",
       "      <td>91</td>\n",
       "      <td>100</td>\n",
       "      <td>23.17</td>\n",
       "      <td>light rain</td>\n",
       "    </tr>\n",
       "    <tr>\n",
       "      <th>4</th>\n",
       "      <td>Punta Arenas</td>\n",
       "      <td>CL</td>\n",
       "      <td>-53.1500</td>\n",
       "      <td>-70.9167</td>\n",
       "      <td>33.91</td>\n",
       "      <td>93</td>\n",
       "      <td>100</td>\n",
       "      <td>6.91</td>\n",
       "      <td>fog</td>\n",
       "    </tr>\n",
       "    <tr>\n",
       "      <th>5</th>\n",
       "      <td>Bethel</td>\n",
       "      <td>US</td>\n",
       "      <td>41.3712</td>\n",
       "      <td>-73.4140</td>\n",
       "      <td>73.04</td>\n",
       "      <td>86</td>\n",
       "      <td>100</td>\n",
       "      <td>2.93</td>\n",
       "      <td>overcast clouds</td>\n",
       "    </tr>\n",
       "    <tr>\n",
       "      <th>6</th>\n",
       "      <td>Parthenay</td>\n",
       "      <td>FR</td>\n",
       "      <td>46.6667</td>\n",
       "      <td>-0.4167</td>\n",
       "      <td>62.49</td>\n",
       "      <td>61</td>\n",
       "      <td>9</td>\n",
       "      <td>8.28</td>\n",
       "      <td>clear sky</td>\n",
       "    </tr>\n",
       "    <tr>\n",
       "      <th>7</th>\n",
       "      <td>Mataura</td>\n",
       "      <td>NZ</td>\n",
       "      <td>-46.1927</td>\n",
       "      <td>168.8643</td>\n",
       "      <td>43.48</td>\n",
       "      <td>94</td>\n",
       "      <td>100</td>\n",
       "      <td>8.46</td>\n",
       "      <td>overcast clouds</td>\n",
       "    </tr>\n",
       "    <tr>\n",
       "      <th>8</th>\n",
       "      <td>Naqadeh</td>\n",
       "      <td>IR</td>\n",
       "      <td>36.9553</td>\n",
       "      <td>45.3880</td>\n",
       "      <td>69.80</td>\n",
       "      <td>55</td>\n",
       "      <td>0</td>\n",
       "      <td>4.76</td>\n",
       "      <td>clear sky</td>\n",
       "    </tr>\n",
       "    <tr>\n",
       "      <th>9</th>\n",
       "      <td>Trojes</td>\n",
       "      <td>AL</td>\n",
       "      <td>41.7560</td>\n",
       "      <td>19.9620</td>\n",
       "      <td>65.57</td>\n",
       "      <td>87</td>\n",
       "      <td>74</td>\n",
       "      <td>9.06</td>\n",
       "      <td>broken clouds</td>\n",
       "    </tr>\n",
       "  </tbody>\n",
       "</table>\n",
       "</div>"
      ],
      "text/plain": [
       "           City Country      Lat       Lng  Max Temp  Humidity  Cloudiness  \\\n",
       "0      Coquimbo      CL -29.9533  -71.3436     53.33        76          40   \n",
       "1        Torbay      CA  47.6666  -52.7314     56.26        86          20   \n",
       "2       Bintulu      MY   3.1667  113.0333     82.81        83          20   \n",
       "3     Busselton      AU -33.6500  115.3333     63.25        91         100   \n",
       "4  Punta Arenas      CL -53.1500  -70.9167     33.91        93         100   \n",
       "5        Bethel      US  41.3712  -73.4140     73.04        86         100   \n",
       "6     Parthenay      FR  46.6667   -0.4167     62.49        61           9   \n",
       "7       Mataura      NZ -46.1927  168.8643     43.48        94         100   \n",
       "8       Naqadeh      IR  36.9553   45.3880     69.80        55           0   \n",
       "9        Trojes      AL  41.7560   19.9620     65.57        87          74   \n",
       "\n",
       "   Wind Speed Current Description  \n",
       "0        3.44    scattered clouds  \n",
       "1        5.75          few clouds  \n",
       "2        3.44          few clouds  \n",
       "3       23.17          light rain  \n",
       "4        6.91                 fog  \n",
       "5        2.93     overcast clouds  \n",
       "6        8.28           clear sky  \n",
       "7        8.46     overcast clouds  \n",
       "8        4.76           clear sky  \n",
       "9        9.06       broken clouds  "
      ]
     },
     "execution_count": 14,
     "metadata": {},
     "output_type": "execute_result"
    }
   ],
   "source": [
    "# Reorder columns of city DataFrame\n",
    "new_column_order = [\"City\", \"Country\", \"Lat\", \"Lng\", \"Max Temp\", \"Humidity\", \"Cloudiness\", \"Wind Speed\", \"Current Description\"]\n",
    "city_data_df = city_data_df[new_column_order]\n",
    "city_data_df.head(10)"
   ]
  },
  {
   "cell_type": "code",
   "execution_count": 15,
   "id": "b497a950",
   "metadata": {},
   "outputs": [],
   "source": [
    "# Create the output file (csv).\n",
    "output_data_file = \"../Weather_Database/WeatherPy_Database.csv\"\n",
    "\n",
    "# Export the city_data into a csv\n",
    "city_data_df.to_csv(output_data_file, index_label = \"City_ID\")"
   ]
  }
 ],
 "metadata": {
  "kernelspec": {
   "display_name": "PythonData",
   "language": "python",
   "name": "pythondata"
  },
  "language_info": {
   "codemirror_mode": {
    "name": "ipython",
    "version": 3
   },
   "file_extension": ".py",
   "mimetype": "text/x-python",
   "name": "python",
   "nbconvert_exporter": "python",
   "pygments_lexer": "ipython3",
   "version": "3.7.13"
  }
 },
 "nbformat": 4,
 "nbformat_minor": 5
}
