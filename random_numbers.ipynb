{
 "cells": [
  {
   "cell_type": "code",
   "execution_count": 1,
   "id": "3a99f591",
   "metadata": {},
   "outputs": [],
   "source": [
    "# Import the random module.\n",
    "import random"
   ]
  },
  {
   "cell_type": "code",
   "execution_count": 2,
   "id": "5b5d8554",
   "metadata": {},
   "outputs": [
    {
     "data": {
      "text/plain": [
       "0.026869193807344982"
      ]
     },
     "execution_count": 2,
     "metadata": {},
     "output_type": "execute_result"
    }
   ],
   "source": [
    "random.random()"
   ]
  },
  {
   "cell_type": "code",
   "execution_count": 3,
   "id": "c9905af4",
   "metadata": {},
   "outputs": [
    {
     "data": {
      "text/plain": [
       "47"
      ]
     },
     "execution_count": 3,
     "metadata": {},
     "output_type": "execute_result"
    }
   ],
   "source": [
    "random.randint(-90,90)"
   ]
  },
  {
   "cell_type": "code",
   "execution_count": 4,
   "id": "17275691",
   "metadata": {},
   "outputs": [
    {
     "data": {
      "text/plain": [
       "-3.5831302568274803"
      ]
     },
     "execution_count": 4,
     "metadata": {},
     "output_type": "execute_result"
    }
   ],
   "source": [
    "random_number = random.randint(-90,89) + random.random()\n",
    "random_number"
   ]
  },
  {
   "cell_type": "code",
   "execution_count": 6,
   "id": "fe936e19",
   "metadata": {},
   "outputs": [
    {
     "data": {
      "text/plain": [
       "[-12.434795811270533,\n",
       " 2.452491728727022,\n",
       " -75.8193847378099,\n",
       " 50.76898902637764,\n",
       " 6.033552296216472,\n",
       " -25.077598954058576,\n",
       " 53.75877963105684,\n",
       " -73.20650622621875,\n",
       " 53.03180866831663,\n",
       " 16.4699542688366]"
      ]
     },
     "execution_count": 6,
     "metadata": {},
     "output_type": "execute_result"
    }
   ],
   "source": [
    "x = 1\n",
    "latitudes = []\n",
    "while x < 11:\n",
    "    random_lat = random.randint(-90,89) + random.random()\n",
    "    latitudes.append(random_lat)\n",
    "    x += 1\n",
    "latitudes"
   ]
  },
  {
   "cell_type": "code",
   "execution_count": 7,
   "id": "caa75b03",
   "metadata": {},
   "outputs": [
    {
     "data": {
      "text/plain": [
       "34"
      ]
     },
     "execution_count": 7,
     "metadata": {},
     "output_type": "execute_result"
    }
   ],
   "source": [
    "random.randrange(-90, 90, step = 1)"
   ]
  },
  {
   "cell_type": "code",
   "execution_count": 8,
   "id": "b1262902",
   "metadata": {},
   "outputs": [
    {
     "data": {
      "text/plain": [
       "66"
      ]
     },
     "execution_count": 8,
     "metadata": {},
     "output_type": "execute_result"
    }
   ],
   "source": [
    "random.randrange(-90, 90, step = 3)"
   ]
  },
  {
   "cell_type": "code",
   "execution_count": 9,
   "id": "ff1cb59f",
   "metadata": {},
   "outputs": [
    {
     "data": {
      "text/plain": [
       "-1.5552131525810182"
      ]
     },
     "execution_count": 9,
     "metadata": {},
     "output_type": "execute_result"
    }
   ],
   "source": [
    "random.uniform(-90,90)"
   ]
  },
  {
   "cell_type": "code",
   "execution_count": 10,
   "id": "2aa704bd",
   "metadata": {},
   "outputs": [],
   "source": [
    "# Import the Numpy module.\n",
    "import numpy as np"
   ]
  },
  {
   "cell_type": "code",
   "execution_count": 11,
   "id": "6625d5e0",
   "metadata": {},
   "outputs": [
    {
     "data": {
      "text/plain": [
       "46.146543102770664"
      ]
     },
     "execution_count": 11,
     "metadata": {},
     "output_type": "execute_result"
    }
   ],
   "source": [
    "np.random.uniform(-90.000,90.000)"
   ]
  },
  {
   "cell_type": "code",
   "execution_count": 12,
   "id": "ee9e19bc",
   "metadata": {},
   "outputs": [
    {
     "data": {
      "text/plain": [
       "array([ 87.90281152, -82.31380022,   8.57208818,  83.10066248,\n",
       "        43.45151022,  14.54106645,  53.00212544, -81.47891114,\n",
       "        -0.45582044, -74.33624046, -62.95578144, -85.44915024,\n",
       "        23.29032888, -21.77341159, -21.71170608,  -4.57721276,\n",
       "        61.93551325,  14.76500541,  51.70517384, -30.48994875,\n",
       "        45.76509325,  31.98948352, -44.3903716 , -71.12560601,\n",
       "       -25.33071103, -14.04028274,  -5.99582581,  53.865994  ,\n",
       "       -40.80845764,   4.45033236,  77.98612026,  -3.31722411,\n",
       "        39.63094019, -28.53922485,  83.35528316,  25.36404634,\n",
       "        72.53315644, -69.82566625,  24.05209409, -49.06524763,\n",
       "        54.4556002 , -72.91455836,  56.93831542,  68.04736264,\n",
       "       -60.52587214,   8.52687122,  50.05318818,  72.58385076,\n",
       "       -63.21444826,  59.55541737])"
      ]
     },
     "execution_count": 12,
     "metadata": {},
     "output_type": "execute_result"
    }
   ],
   "source": [
    "np.random.uniform(-90.000, 90.000, size = 50)"
   ]
  },
  {
   "cell_type": "code",
   "execution_count": 13,
   "id": "f62058f3",
   "metadata": {},
   "outputs": [],
   "source": [
    "# Import timeit\n",
    "import timeit"
   ]
  },
  {
   "cell_type": "code",
   "execution_count": 14,
   "id": "b29c5db6",
   "metadata": {},
   "outputs": [
    {
     "name": "stdout",
     "output_type": "stream",
     "text": [
      "15.7 µs ± 841 ns per loop (mean ± std. dev. of 7 runs, 100000 loops each)\n"
     ]
    }
   ],
   "source": [
    "%timeit np.random.uniform(-90.000, 90.000, size = 1500)"
   ]
  },
  {
   "cell_type": "code",
   "execution_count": 15,
   "id": "25b662cb",
   "metadata": {},
   "outputs": [
    {
     "name": "stdout",
     "output_type": "stream",
     "text": [
      "1.65 µs ± 102 ns per loop (mean ± std. dev. of 7 runs, 1000000 loops each)\n"
     ]
    }
   ],
   "source": [
    "def latitudes(size):\n",
    "    latitudes = []\n",
    "    x = 0\n",
    "    while x < (size):\n",
    "        random_lat = random.randint(-90, 90) + random.random()\n",
    "        latitudes.append(random_lat)\n",
    "        x+=1\n",
    "        return latitudes\n",
    "\n",
    "# Call the function with 1500\n",
    "\n",
    "%timeit latitudes(1500)"
   ]
  },
  {
   "cell_type": "code",
   "execution_count": null,
   "id": "c51e558d",
   "metadata": {},
   "outputs": [],
   "source": []
  }
 ],
 "metadata": {
  "kernelspec": {
   "display_name": "PythonData",
   "language": "python",
   "name": "pythondata"
  },
  "language_info": {
   "codemirror_mode": {
    "name": "ipython",
    "version": 3
   },
   "file_extension": ".py",
   "mimetype": "text/x-python",
   "name": "python",
   "nbconvert_exporter": "python",
   "pygments_lexer": "ipython3",
   "version": "3.7.13"
  }
 },
 "nbformat": 4,
 "nbformat_minor": 5
}
