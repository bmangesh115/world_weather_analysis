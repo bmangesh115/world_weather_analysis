{
 "cells": [
  {
   "cell_type": "code",
   "execution_count": 1,
   "id": "6bd33ef3",
   "metadata": {},
   "outputs": [],
   "source": [
    "# Import dependencies\n",
    "import pandas as pd\n",
    "import matplotlib.pyplot as plt\n",
    "import numpy as np"
   ]
  },
  {
   "cell_type": "code",
   "execution_count": 2,
   "id": "c816e3d7",
   "metadata": {},
   "outputs": [
    {
     "data": {
      "text/plain": [
       "<zip at 0x220109e2ec8>"
      ]
     },
     "execution_count": 2,
     "metadata": {},
     "output_type": "execute_result"
    }
   ],
   "source": [
    "# Creat a set of random latitudes and longitudes combinations.\n",
    "lats = np.random.uniform(low = -90.000, high = 90.000, size = 1500)\n",
    "lngs = np.random.uniform(low = -180.000, high = 180.000, size = 1500)\n",
    "lat_lngs = zip(lats, lngs)\n",
    "lat_lngs"
   ]
  },
  {
   "cell_type": "code",
   "execution_count": 3,
   "id": "024786b9",
   "metadata": {},
   "outputs": [],
   "source": [
    "# Add the latitudes and longitudes to a list\n",
    "coordinates = list(lat_lngs)"
   ]
  },
  {
   "cell_type": "code",
   "execution_count": 4,
   "id": "12b35803",
   "metadata": {},
   "outputs": [],
   "source": [
    "# Import citipy\n",
    "from citipy import citipy"
   ]
  },
  {
   "cell_type": "code",
   "execution_count": 5,
   "id": "4d71cd23",
   "metadata": {},
   "outputs": [
    {
     "data": {
      "text/plain": [
       "606"
      ]
     },
     "execution_count": 5,
     "metadata": {},
     "output_type": "execute_result"
    }
   ],
   "source": [
    "# Create a list for holding the cities.\n",
    "cities = []\n",
    "\n",
    "# Identify the nearest city for each latitude and longitude combinations.\n",
    "for coordinate in coordinates:\n",
    "    city = citipy.nearest_city(coordinate[0], coordinate[1]).city_name\n",
    "    \n",
    "    #If the city is unique, then we will add it to the cities list.\n",
    "    if city not in cities:\n",
    "        cities.append(city)\n",
    "\n",
    "# Print the city count to confirm sufficient count.\n",
    "len(cities)"
   ]
  },
  {
   "cell_type": "code",
   "execution_count": 6,
   "id": "462deb48",
   "metadata": {},
   "outputs": [],
   "source": [
    "# Import requests library\n",
    "import requests\n",
    "\n",
    "# Import the API key.\n",
    "from config import weather_api_key"
   ]
  },
  {
   "cell_type": "code",
   "execution_count": 7,
   "id": "3d7363bc",
   "metadata": {},
   "outputs": [],
   "source": [
    "# Import the time library and the datetime module from the datetime library\n",
    "import time\n",
    "from datetime import datetime"
   ]
  },
  {
   "cell_type": "code",
   "execution_count": 8,
   "id": "ac7ea0c4",
   "metadata": {},
   "outputs": [],
   "source": [
    "import traceback"
   ]
  },
  {
   "cell_type": "code",
   "execution_count": 9,
   "id": "bc710c3e",
   "metadata": {},
   "outputs": [
    {
     "name": "stdout",
     "output_type": "stream",
     "text": [
      "Beginning Data Retrieval     \n",
      "-----------------------------\n",
      "Processing Record 1 of Set 1 | dikson\n",
      "Processing Record 2 of Set 1 | busselton\n",
      "Processing Record 3 of Set 1 | bereznik\n",
      "Processing Record 4 of Set 1 | sao joao da barra\n",
      "Processing Record 5 of Set 1 | nikolskoye\n",
      "Processing Record 6 of Set 1 | tessalit\n",
      "Processing Record 7 of Set 1 | acapulco\n",
      "Processing Record 8 of Set 1 | san ignacio\n",
      "Processing Record 9 of Set 1 | butaritari\n",
      "Processing Record 10 of Set 1 | souillac\n",
      "Processing Record 11 of Set 1 | najran\n",
      "Processing Record 12 of Set 1 | rio grande\n",
      "Processing Record 13 of Set 1 | bargal\n",
      "City not found. Skipping...\n",
      "Processing Record 14 of Set 1 | saint-augustin\n"
     ]
    },
    {
     "name": "stderr",
     "output_type": "stream",
     "text": [
      "Traceback (most recent call last):\n",
      "  File \"C:\\Users\\mbore\\AppData\\Local\\Temp\\ipykernel_29204\\1813308146.py\", line 37, in <module>\n",
      "    city_lat = city_weather[\"coord\"][\"lat\"]\n",
      "KeyError: 'coord'\n"
     ]
    },
    {
     "name": "stdout",
     "output_type": "stream",
     "text": [
      "Processing Record 15 of Set 1 | saskylakh\n",
      "Processing Record 16 of Set 1 | clyde river\n",
      "Processing Record 17 of Set 1 | ust-tsilma\n",
      "Processing Record 18 of Set 1 | barentsburg\n",
      "City not found. Skipping...\n",
      "Processing Record 19 of Set 1 | horta\n"
     ]
    },
    {
     "name": "stderr",
     "output_type": "stream",
     "text": [
      "Traceback (most recent call last):\n",
      "  File \"C:\\Users\\mbore\\AppData\\Local\\Temp\\ipykernel_29204\\1813308146.py\", line 37, in <module>\n",
      "    city_lat = city_weather[\"coord\"][\"lat\"]\n",
      "KeyError: 'coord'\n"
     ]
    },
    {
     "name": "stdout",
     "output_type": "stream",
     "text": [
      "Processing Record 20 of Set 1 | rikitea\n",
      "Processing Record 21 of Set 1 | bethel\n",
      "Processing Record 22 of Set 1 | port alfred\n",
      "Processing Record 23 of Set 1 | illoqqortoormiut\n",
      "City not found. Skipping...\n",
      "Processing Record 24 of Set 1 | yellowknife\n",
      "Processing Record 25 of Set 1 | valparaiso\n"
     ]
    },
    {
     "name": "stderr",
     "output_type": "stream",
     "text": [
      "Traceback (most recent call last):\n",
      "  File \"C:\\Users\\mbore\\AppData\\Local\\Temp\\ipykernel_29204\\1813308146.py\", line 37, in <module>\n",
      "    city_lat = city_weather[\"coord\"][\"lat\"]\n",
      "KeyError: 'coord'\n"
     ]
    },
    {
     "name": "stdout",
     "output_type": "stream",
     "text": [
      "Processing Record 26 of Set 1 | cidreira\n",
      "Processing Record 27 of Set 1 | changping\n",
      "Processing Record 28 of Set 1 | kodiak\n",
      "Processing Record 29 of Set 1 | marcona\n",
      "City not found. Skipping...\n",
      "Processing Record 30 of Set 1 | kargasok\n"
     ]
    },
    {
     "name": "stderr",
     "output_type": "stream",
     "text": [
      "Traceback (most recent call last):\n",
      "  File \"C:\\Users\\mbore\\AppData\\Local\\Temp\\ipykernel_29204\\1813308146.py\", line 37, in <module>\n",
      "    city_lat = city_weather[\"coord\"][\"lat\"]\n",
      "KeyError: 'coord'\n"
     ]
    },
    {
     "name": "stdout",
     "output_type": "stream",
     "text": [
      "Processing Record 31 of Set 1 | mataura\n",
      "Processing Record 32 of Set 1 | padang\n",
      "Processing Record 33 of Set 1 | vaini\n",
      "Processing Record 34 of Set 1 | kuche\n",
      "City not found. Skipping...\n",
      "Processing Record 35 of Set 1 | oreanda\n"
     ]
    },
    {
     "name": "stderr",
     "output_type": "stream",
     "text": [
      "Traceback (most recent call last):\n",
      "  File \"C:\\Users\\mbore\\AppData\\Local\\Temp\\ipykernel_29204\\1813308146.py\", line 37, in <module>\n",
      "    city_lat = city_weather[\"coord\"][\"lat\"]\n",
      "KeyError: 'coord'\n"
     ]
    },
    {
     "name": "stdout",
     "output_type": "stream",
     "text": [
      "City not found. Skipping...\n",
      "Processing Record 36 of Set 1 | yangambi\n"
     ]
    },
    {
     "name": "stderr",
     "output_type": "stream",
     "text": [
      "Traceback (most recent call last):\n",
      "  File \"C:\\Users\\mbore\\AppData\\Local\\Temp\\ipykernel_29204\\1813308146.py\", line 37, in <module>\n",
      "    city_lat = city_weather[\"coord\"][\"lat\"]\n",
      "KeyError: 'coord'\n"
     ]
    },
    {
     "name": "stdout",
     "output_type": "stream",
     "text": [
      "Processing Record 37 of Set 1 | richards bay\n",
      "Processing Record 38 of Set 1 | abilene\n",
      "Processing Record 39 of Set 1 | kaitangata\n",
      "Processing Record 40 of Set 1 | inhambane\n",
      "Processing Record 41 of Set 1 | pimentel\n",
      "Processing Record 42 of Set 1 | lagoa\n",
      "Processing Record 43 of Set 1 | atuona\n",
      "Processing Record 44 of Set 1 | hithadhoo\n",
      "Processing Record 45 of Set 1 | kazalinsk\n",
      "City not found. Skipping...\n",
      "Processing Record 46 of Set 1 | punta arenas\n"
     ]
    },
    {
     "name": "stderr",
     "output_type": "stream",
     "text": [
      "Traceback (most recent call last):\n",
      "  File \"C:\\Users\\mbore\\AppData\\Local\\Temp\\ipykernel_29204\\1813308146.py\", line 37, in <module>\n",
      "    city_lat = city_weather[\"coord\"][\"lat\"]\n",
      "KeyError: 'coord'\n"
     ]
    },
    {
     "name": "stdout",
     "output_type": "stream",
     "text": [
      "Processing Record 47 of Set 1 | bluff\n",
      "Processing Record 48 of Set 1 | alofi\n",
      "Processing Record 49 of Set 1 | lavrentiya\n",
      "Processing Record 50 of Set 1 | alta floresta\n",
      "Processing Record 1 of Set 2 | westport\n",
      "Processing Record 2 of Set 2 | ilulissat\n",
      "Processing Record 3 of Set 2 | comodoro rivadavia\n",
      "Processing Record 4 of Set 2 | lebu\n",
      "Processing Record 5 of Set 2 | emba\n",
      "Processing Record 6 of Set 2 | ladario\n",
      "Processing Record 7 of Set 2 | kabale\n",
      "Processing Record 8 of Set 2 | talnakh\n",
      "Processing Record 9 of Set 2 | hofn\n",
      "Processing Record 10 of Set 2 | gorkovskoye\n",
      "City not found. Skipping...\n",
      "Processing Record 11 of Set 2 | ushuaia\n"
     ]
    },
    {
     "name": "stderr",
     "output_type": "stream",
     "text": [
      "Traceback (most recent call last):\n",
      "  File \"C:\\Users\\mbore\\AppData\\Local\\Temp\\ipykernel_29204\\1813308146.py\", line 37, in <module>\n",
      "    city_lat = city_weather[\"coord\"][\"lat\"]\n",
      "KeyError: 'coord'\n"
     ]
    },
    {
     "name": "stdout",
     "output_type": "stream",
     "text": [
      "Processing Record 12 of Set 2 | hilo\n",
      "Processing Record 13 of Set 2 | cape town\n",
      "Processing Record 14 of Set 2 | avarua\n",
      "Processing Record 15 of Set 2 | beeville\n",
      "Processing Record 16 of Set 2 | esperance\n",
      "Processing Record 17 of Set 2 | inta\n",
      "Processing Record 18 of Set 2 | greenville\n",
      "Processing Record 19 of Set 2 | santa maria\n",
      "Processing Record 20 of Set 2 | ponta do sol\n",
      "Processing Record 21 of Set 2 | mazagao\n",
      "Processing Record 22 of Set 2 | almeirim\n",
      "Processing Record 23 of Set 2 | juneau\n",
      "Processing Record 24 of Set 2 | tsihombe\n",
      "City not found. Skipping...\n",
      "Processing Record 25 of Set 2 | chokurdakh\n"
     ]
    },
    {
     "name": "stderr",
     "output_type": "stream",
     "text": [
      "Traceback (most recent call last):\n",
      "  File \"C:\\Users\\mbore\\AppData\\Local\\Temp\\ipykernel_29204\\1813308146.py\", line 37, in <module>\n",
      "    city_lat = city_weather[\"coord\"][\"lat\"]\n",
      "KeyError: 'coord'\n"
     ]
    },
    {
     "name": "stdout",
     "output_type": "stream",
     "text": [
      "Processing Record 26 of Set 2 | jacqueville\n",
      "Processing Record 27 of Set 2 | taolanaro\n",
      "City not found. Skipping...\n",
      "Processing Record 28 of Set 2 | sainte-marie\n"
     ]
    },
    {
     "name": "stderr",
     "output_type": "stream",
     "text": [
      "Traceback (most recent call last):\n",
      "  File \"C:\\Users\\mbore\\AppData\\Local\\Temp\\ipykernel_29204\\1813308146.py\", line 37, in <module>\n",
      "    city_lat = city_weather[\"coord\"][\"lat\"]\n",
      "KeyError: 'coord'\n"
     ]
    },
    {
     "name": "stdout",
     "output_type": "stream",
     "text": [
      "Processing Record 29 of Set 2 | mana\n",
      "Processing Record 30 of Set 2 | pevek\n",
      "Processing Record 31 of Set 2 | mahon\n",
      "Processing Record 32 of Set 2 | escarcega\n",
      "Processing Record 33 of Set 2 | samusu\n",
      "City not found. Skipping...\n",
      "Processing Record 34 of Set 2 | norman wells\n"
     ]
    },
    {
     "name": "stderr",
     "output_type": "stream",
     "text": [
      "Traceback (most recent call last):\n",
      "  File \"C:\\Users\\mbore\\AppData\\Local\\Temp\\ipykernel_29204\\1813308146.py\", line 37, in <module>\n",
      "    city_lat = city_weather[\"coord\"][\"lat\"]\n",
      "KeyError: 'coord'\n"
     ]
    },
    {
     "name": "stdout",
     "output_type": "stream",
     "text": [
      "Processing Record 35 of Set 2 | shingu\n",
      "Processing Record 36 of Set 2 | zambezi\n",
      "Processing Record 37 of Set 2 | kismayo\n",
      "Processing Record 38 of Set 2 | manaure\n",
      "Processing Record 39 of Set 2 | chuy\n",
      "Processing Record 40 of Set 2 | faanui\n",
      "Processing Record 41 of Set 2 | sao filipe\n",
      "Processing Record 42 of Set 2 | guerrero negro\n",
      "Processing Record 43 of Set 2 | tasiilaq\n",
      "Processing Record 44 of Set 2 | semey\n",
      "Processing Record 45 of Set 2 | lasa\n",
      "Processing Record 46 of Set 2 | torbay\n",
      "Processing Record 47 of Set 2 | arraial do cabo\n",
      "Processing Record 48 of Set 2 | qaanaaq\n",
      "Processing Record 49 of Set 2 | thompson\n",
      "Processing Record 50 of Set 2 | jamestown\n",
      "Processing Record 1 of Set 3 | chunoyar\n",
      "Processing Record 2 of Set 3 | berlevag\n",
      "Processing Record 3 of Set 3 | dores do indaia\n",
      "Processing Record 4 of Set 3 | kruisfontein\n",
      "Processing Record 5 of Set 3 | ballina\n",
      "Processing Record 6 of Set 3 | praia da vitoria\n",
      "Processing Record 7 of Set 3 | bedele\n",
      "Processing Record 8 of Set 3 | san-pedro\n",
      "Processing Record 9 of Set 3 | rio branco\n",
      "Processing Record 10 of Set 3 | kjopsvik\n",
      "Processing Record 11 of Set 3 | east london\n",
      "Processing Record 12 of Set 3 | satara\n",
      "Processing Record 13 of Set 3 | mys shmidta\n",
      "City not found. Skipping...\n",
      "Processing Record 14 of Set 3 | pemba\n"
     ]
    },
    {
     "name": "stderr",
     "output_type": "stream",
     "text": [
      "Traceback (most recent call last):\n",
      "  File \"C:\\Users\\mbore\\AppData\\Local\\Temp\\ipykernel_29204\\1813308146.py\", line 37, in <module>\n",
      "    city_lat = city_weather[\"coord\"][\"lat\"]\n",
      "KeyError: 'coord'\n"
     ]
    },
    {
     "name": "stdout",
     "output_type": "stream",
     "text": [
      "Processing Record 15 of Set 3 | saldanha\n",
      "Processing Record 16 of Set 3 | albany\n",
      "Processing Record 17 of Set 3 | new norfolk\n",
      "Processing Record 18 of Set 3 | andrushivka\n",
      "Processing Record 19 of Set 3 | husavik\n",
      "Processing Record 20 of Set 3 | akyab\n",
      "Processing Record 21 of Set 3 | tahta\n",
      "Processing Record 22 of Set 3 | axim\n",
      "Processing Record 23 of Set 3 | khatanga\n",
      "Processing Record 24 of Set 3 | kurilsk\n",
      "Processing Record 25 of Set 3 | auki\n",
      "Processing Record 26 of Set 3 | terrace\n",
      "Processing Record 27 of Set 3 | pringsewu\n",
      "Processing Record 28 of Set 3 | hermanus\n",
      "Processing Record 29 of Set 3 | skagastrond\n",
      "City not found. Skipping...\n",
      "Processing Record 30 of Set 3 | mayo\n"
     ]
    },
    {
     "name": "stderr",
     "output_type": "stream",
     "text": [
      "Traceback (most recent call last):\n",
      "  File \"C:\\Users\\mbore\\AppData\\Local\\Temp\\ipykernel_29204\\1813308146.py\", line 37, in <module>\n",
      "    city_lat = city_weather[\"coord\"][\"lat\"]\n",
      "KeyError: 'coord'\n"
     ]
    },
    {
     "name": "stdout",
     "output_type": "stream",
     "text": [
      "Processing Record 31 of Set 3 | vardo\n",
      "Processing Record 32 of Set 3 | margate\n",
      "Processing Record 33 of Set 3 | grasse\n",
      "Processing Record 34 of Set 3 | puerto ayora\n",
      "Processing Record 35 of Set 3 | anadyr\n",
      "Processing Record 36 of Set 3 | addis abeba\n",
      "Processing Record 37 of Set 3 | mareeba\n",
      "Processing Record 38 of Set 3 | vila velha\n",
      "Processing Record 39 of Set 3 | mount isa\n",
      "Processing Record 40 of Set 3 | college\n",
      "Processing Record 41 of Set 3 | teknaf\n",
      "Processing Record 42 of Set 3 | taksimo\n",
      "Processing Record 43 of Set 3 | flin flon\n",
      "Processing Record 44 of Set 3 | muravlenko\n",
      "Processing Record 45 of Set 3 | besikduzu\n",
      "Processing Record 46 of Set 3 | butte\n",
      "Processing Record 47 of Set 3 | kapaa\n",
      "Processing Record 48 of Set 3 | prince rupert\n",
      "Processing Record 49 of Set 3 | dunedin\n",
      "Processing Record 50 of Set 3 | vicuna\n",
      "Processing Record 1 of Set 4 | bredasdorp\n",
      "Processing Record 2 of Set 4 | cartagena\n",
      "Processing Record 3 of Set 4 | princeton\n",
      "Processing Record 4 of Set 4 | kerema\n",
      "Processing Record 5 of Set 4 | pangnirtung\n",
      "Processing Record 6 of Set 4 | sedelnikovo\n",
      "City not found. Skipping...\n",
      "Processing Record 7 of Set 4 | artyk\n",
      "City not found. Skipping...\n",
      "Processing Record 8 of Set 4 | sept-iles\n"
     ]
    },
    {
     "name": "stderr",
     "output_type": "stream",
     "text": [
      "Traceback (most recent call last):\n",
      "  File \"C:\\Users\\mbore\\AppData\\Local\\Temp\\ipykernel_29204\\1813308146.py\", line 37, in <module>\n",
      "    city_lat = city_weather[\"coord\"][\"lat\"]\n",
      "KeyError: 'coord'\n",
      "Traceback (most recent call last):\n",
      "  File \"C:\\Users\\mbore\\AppData\\Local\\Temp\\ipykernel_29204\\1813308146.py\", line 37, in <module>\n",
      "    city_lat = city_weather[\"coord\"][\"lat\"]\n",
      "KeyError: 'coord'\n"
     ]
    },
    {
     "name": "stdout",
     "output_type": "stream",
     "text": [
      "Processing Record 9 of Set 4 | caravelas\n",
      "Processing Record 10 of Set 4 | aklavik\n",
      "Processing Record 11 of Set 4 | arlit\n",
      "Processing Record 12 of Set 4 | louisbourg\n",
      "City not found. Skipping...\n",
      "Processing Record 13 of Set 4 | banyo\n"
     ]
    },
    {
     "name": "stderr",
     "output_type": "stream",
     "text": [
      "Traceback (most recent call last):\n",
      "  File \"C:\\Users\\mbore\\AppData\\Local\\Temp\\ipykernel_29204\\1813308146.py\", line 37, in <module>\n",
      "    city_lat = city_weather[\"coord\"][\"lat\"]\n",
      "KeyError: 'coord'\n"
     ]
    },
    {
     "name": "stdout",
     "output_type": "stream",
     "text": [
      "Processing Record 14 of Set 4 | visnes\n",
      "Processing Record 15 of Set 4 | coihaique\n",
      "Processing Record 16 of Set 4 | jiuquan\n",
      "Processing Record 17 of Set 4 | laguna\n",
      "Processing Record 18 of Set 4 | xingyi\n",
      "Processing Record 19 of Set 4 | ostrovnoy\n",
      "Processing Record 20 of Set 4 | sao felix do xingu\n",
      "Processing Record 21 of Set 4 | salalah\n",
      "Processing Record 22 of Set 4 | raudeberg\n",
      "Processing Record 23 of Set 4 | inderborskiy\n",
      "City not found. Skipping...\n",
      "Processing Record 24 of Set 4 | yeniseysk\n"
     ]
    },
    {
     "name": "stderr",
     "output_type": "stream",
     "text": [
      "Traceback (most recent call last):\n",
      "  File \"C:\\Users\\mbore\\AppData\\Local\\Temp\\ipykernel_29204\\1813308146.py\", line 37, in <module>\n",
      "    city_lat = city_weather[\"coord\"][\"lat\"]\n",
      "KeyError: 'coord'\n"
     ]
    },
    {
     "name": "stdout",
     "output_type": "stream",
     "text": [
      "Processing Record 25 of Set 4 | biak\n",
      "Processing Record 26 of Set 4 | zaragoza\n",
      "Processing Record 27 of Set 4 | walvis bay\n",
      "Processing Record 28 of Set 4 | deputatskiy\n",
      "Processing Record 29 of Set 4 | coquimbo\n",
      "Processing Record 30 of Set 4 | los andes\n",
      "Processing Record 31 of Set 4 | la ronge\n",
      "Processing Record 32 of Set 4 | port macquarie\n",
      "Processing Record 33 of Set 4 | longyearbyen\n",
      "Processing Record 34 of Set 4 | carnarvon\n",
      "Processing Record 35 of Set 4 | touros\n",
      "Processing Record 36 of Set 4 | georgetown\n",
      "Processing Record 37 of Set 4 | tumannyy\n",
      "City not found. Skipping...\n",
      "Processing Record 38 of Set 4 | marsabit\n"
     ]
    },
    {
     "name": "stderr",
     "output_type": "stream",
     "text": [
      "Traceback (most recent call last):\n",
      "  File \"C:\\Users\\mbore\\AppData\\Local\\Temp\\ipykernel_29204\\1813308146.py\", line 37, in <module>\n",
      "    city_lat = city_weather[\"coord\"][\"lat\"]\n",
      "KeyError: 'coord'\n"
     ]
    },
    {
     "name": "stdout",
     "output_type": "stream",
     "text": [
      "Processing Record 39 of Set 4 | hobart\n",
      "Processing Record 40 of Set 4 | jericho\n",
      "Processing Record 41 of Set 4 | vaitape\n",
      "Processing Record 42 of Set 4 | tuktoyaktuk\n",
      "Processing Record 43 of Set 4 | aosta\n",
      "Processing Record 44 of Set 4 | unterageri\n",
      "Processing Record 45 of Set 4 | jinxi\n",
      "Processing Record 46 of Set 4 | sibolga\n",
      "Processing Record 47 of Set 4 | awjilah\n",
      "Processing Record 48 of Set 4 | lephepe\n",
      "City not found. Skipping...\n",
      "Processing Record 49 of Set 4 | zima\n"
     ]
    },
    {
     "name": "stderr",
     "output_type": "stream",
     "text": [
      "Traceback (most recent call last):\n",
      "  File \"C:\\Users\\mbore\\AppData\\Local\\Temp\\ipykernel_29204\\1813308146.py\", line 37, in <module>\n",
      "    city_lat = city_weather[\"coord\"][\"lat\"]\n",
      "KeyError: 'coord'\n"
     ]
    },
    {
     "name": "stdout",
     "output_type": "stream",
     "text": [
      "Processing Record 50 of Set 4 | kahului\n",
      "Processing Record 1 of Set 5 | santa elena\n",
      "Processing Record 2 of Set 5 | syracuse\n",
      "Processing Record 3 of Set 5 | banmo\n",
      "City not found. Skipping...\n",
      "Processing Record 4 of Set 5 | oranjemund\n"
     ]
    },
    {
     "name": "stderr",
     "output_type": "stream",
     "text": [
      "Traceback (most recent call last):\n",
      "  File \"C:\\Users\\mbore\\AppData\\Local\\Temp\\ipykernel_29204\\1813308146.py\", line 37, in <module>\n",
      "    city_lat = city_weather[\"coord\"][\"lat\"]\n",
      "KeyError: 'coord'\n"
     ]
    },
    {
     "name": "stdout",
     "output_type": "stream",
     "text": [
      "Processing Record 5 of Set 5 | nizhniy odes\n",
      "Processing Record 6 of Set 5 | moron\n",
      "Processing Record 7 of Set 5 | jacareacanga\n",
      "Processing Record 8 of Set 5 | abancay\n",
      "Processing Record 9 of Set 5 | beringovskiy\n",
      "City not found. Skipping...\n",
      "Processing Record 10 of Set 5 | tiksi\n"
     ]
    },
    {
     "name": "stderr",
     "output_type": "stream",
     "text": [
      "Traceback (most recent call last):\n",
      "  File \"C:\\Users\\mbore\\Anaconda3\\envs\\PythonData\\lib\\site-packages\\urllib3\\connectionpool.py\", line 710, in urlopen\n",
      "    chunked=chunked,\n",
      "  File \"C:\\Users\\mbore\\Anaconda3\\envs\\PythonData\\lib\\site-packages\\urllib3\\connectionpool.py\", line 449, in _make_request\n",
      "    six.raise_from(e, None)\n",
      "  File \"<string>\", line 3, in raise_from\n",
      "  File \"C:\\Users\\mbore\\Anaconda3\\envs\\PythonData\\lib\\site-packages\\urllib3\\connectionpool.py\", line 444, in _make_request\n",
      "    httplib_response = conn.getresponse()\n",
      "  File \"C:\\Users\\mbore\\Anaconda3\\envs\\PythonData\\lib\\http\\client.py\", line 1373, in getresponse\n",
      "    response.begin()\n",
      "  File \"C:\\Users\\mbore\\Anaconda3\\envs\\PythonData\\lib\\http\\client.py\", line 319, in begin\n",
      "    version, status, reason = self._read_status()\n",
      "  File \"C:\\Users\\mbore\\Anaconda3\\envs\\PythonData\\lib\\http\\client.py\", line 288, in _read_status\n",
      "    raise RemoteDisconnected(\"Remote end closed connection without\"\n",
      "http.client.RemoteDisconnected: Remote end closed connection without response\n",
      "\n",
      "During handling of the above exception, another exception occurred:\n",
      "\n",
      "Traceback (most recent call last):\n",
      "  File \"C:\\Users\\mbore\\Anaconda3\\envs\\PythonData\\lib\\site-packages\\requests\\adapters.py\", line 450, in send\n",
      "    timeout=timeout\n",
      "  File \"C:\\Users\\mbore\\Anaconda3\\envs\\PythonData\\lib\\site-packages\\urllib3\\connectionpool.py\", line 786, in urlopen\n",
      "    method, url, error=e, _pool=self, _stacktrace=sys.exc_info()[2]\n",
      "  File \"C:\\Users\\mbore\\Anaconda3\\envs\\PythonData\\lib\\site-packages\\urllib3\\util\\retry.py\", line 550, in increment\n",
      "    raise six.reraise(type(error), error, _stacktrace)\n",
      "  File \"C:\\Users\\mbore\\Anaconda3\\envs\\PythonData\\lib\\site-packages\\urllib3\\packages\\six.py\", line 769, in reraise\n",
      "    raise value.with_traceback(tb)\n",
      "  File \"C:\\Users\\mbore\\Anaconda3\\envs\\PythonData\\lib\\site-packages\\urllib3\\connectionpool.py\", line 710, in urlopen\n",
      "    chunked=chunked,\n",
      "  File \"C:\\Users\\mbore\\Anaconda3\\envs\\PythonData\\lib\\site-packages\\urllib3\\connectionpool.py\", line 449, in _make_request\n",
      "    six.raise_from(e, None)\n",
      "  File \"<string>\", line 3, in raise_from\n",
      "  File \"C:\\Users\\mbore\\Anaconda3\\envs\\PythonData\\lib\\site-packages\\urllib3\\connectionpool.py\", line 444, in _make_request\n",
      "    httplib_response = conn.getresponse()\n",
      "  File \"C:\\Users\\mbore\\Anaconda3\\envs\\PythonData\\lib\\http\\client.py\", line 1373, in getresponse\n",
      "    response.begin()\n",
      "  File \"C:\\Users\\mbore\\Anaconda3\\envs\\PythonData\\lib\\http\\client.py\", line 319, in begin\n",
      "    version, status, reason = self._read_status()\n",
      "  File \"C:\\Users\\mbore\\Anaconda3\\envs\\PythonData\\lib\\http\\client.py\", line 288, in _read_status\n",
      "    raise RemoteDisconnected(\"Remote end closed connection without\"\n",
      "urllib3.exceptions.ProtocolError: ('Connection aborted.', RemoteDisconnected('Remote end closed connection without response'))\n",
      "\n",
      "During handling of the above exception, another exception occurred:\n",
      "\n",
      "Traceback (most recent call last):\n",
      "  File \"C:\\Users\\mbore\\AppData\\Local\\Temp\\ipykernel_29204\\1813308146.py\", line 35, in <module>\n",
      "    city_weather = requests.get(city_url).json()\n",
      "  File \"C:\\Users\\mbore\\Anaconda3\\envs\\PythonData\\lib\\site-packages\\requests\\api.py\", line 75, in get\n",
      "    return request('get', url, params=params, **kwargs)\n",
      "  File \"C:\\Users\\mbore\\Anaconda3\\envs\\PythonData\\lib\\site-packages\\requests\\api.py\", line 61, in request\n",
      "    return session.request(method=method, url=url, **kwargs)\n",
      "  File \"C:\\Users\\mbore\\Anaconda3\\envs\\PythonData\\lib\\site-packages\\requests\\sessions.py\", line 529, in request\n",
      "    resp = self.send(prep, **send_kwargs)\n",
      "  File \"C:\\Users\\mbore\\Anaconda3\\envs\\PythonData\\lib\\site-packages\\requests\\sessions.py\", line 645, in send\n",
      "    r = adapter.send(request, **kwargs)\n",
      "  File \"C:\\Users\\mbore\\Anaconda3\\envs\\PythonData\\lib\\site-packages\\requests\\adapters.py\", line 501, in send\n",
      "    raise ConnectionError(err, request=request)\n",
      "requests.exceptions.ConnectionError: ('Connection aborted.', RemoteDisconnected('Remote end closed connection without response'))\n"
     ]
    },
    {
     "name": "stdout",
     "output_type": "stream",
     "text": [
      "Processing Record 11 of Set 5 | uaua\n",
      "Processing Record 12 of Set 5 | port-de-bouc\n",
      "Processing Record 13 of Set 5 | lompoc\n",
      "Processing Record 14 of Set 5 | panaba\n",
      "Processing Record 15 of Set 5 | hami\n",
      "Processing Record 16 of Set 5 | otradnoye\n",
      "Processing Record 17 of Set 5 | villeneuve-sur-lot\n",
      "Processing Record 18 of Set 5 | amderma\n",
      "City not found. Skipping...\n",
      "Processing Record 19 of Set 5 | sioux lookout\n"
     ]
    },
    {
     "name": "stderr",
     "output_type": "stream",
     "text": [
      "Traceback (most recent call last):\n",
      "  File \"C:\\Users\\mbore\\AppData\\Local\\Temp\\ipykernel_29204\\1813308146.py\", line 37, in <module>\n",
      "    city_lat = city_weather[\"coord\"][\"lat\"]\n",
      "KeyError: 'coord'\n"
     ]
    },
    {
     "name": "stdout",
     "output_type": "stream",
     "text": [
      "Processing Record 20 of Set 5 | japura\n",
      "Processing Record 21 of Set 5 | yining\n",
      "Processing Record 22 of Set 5 | kalmunai\n",
      "Processing Record 23 of Set 5 | natal\n",
      "Processing Record 24 of Set 5 | sebinkarahisar\n",
      "Processing Record 25 of Set 5 | tutoia\n",
      "Processing Record 26 of Set 5 | opuwo\n",
      "Processing Record 27 of Set 5 | puerto quijarro\n",
      "Processing Record 28 of Set 5 | shahpur city\n",
      "City not found. Skipping...\n",
      "Processing Record 29 of Set 5 | severo-kurilsk\n"
     ]
    },
    {
     "name": "stderr",
     "output_type": "stream",
     "text": [
      "Traceback (most recent call last):\n",
      "  File \"C:\\Users\\mbore\\AppData\\Local\\Temp\\ipykernel_29204\\1813308146.py\", line 37, in <module>\n",
      "    city_lat = city_weather[\"coord\"][\"lat\"]\n",
      "KeyError: 'coord'\n"
     ]
    },
    {
     "name": "stdout",
     "output_type": "stream",
     "text": [
      "Processing Record 30 of Set 5 | houma\n",
      "Processing Record 31 of Set 5 | pangoa\n",
      "Processing Record 32 of Set 5 | leningradskiy\n",
      "Processing Record 33 of Set 5 | broome\n",
      "Processing Record 34 of Set 5 | sistranda\n",
      "Processing Record 35 of Set 5 | isangel\n",
      "Processing Record 36 of Set 5 | cheuskiny\n",
      "City not found. Skipping...\n"
     ]
    },
    {
     "name": "stderr",
     "output_type": "stream",
     "text": [
      "Traceback (most recent call last):\n",
      "  File \"C:\\Users\\mbore\\AppData\\Local\\Temp\\ipykernel_29204\\1813308146.py\", line 37, in <module>\n",
      "    city_lat = city_weather[\"coord\"][\"lat\"]\n",
      "KeyError: 'coord'\n"
     ]
    },
    {
     "name": "stdout",
     "output_type": "stream",
     "text": [
      "Processing Record 37 of Set 5 | narsaq\n",
      "Processing Record 38 of Set 5 | belushya guba\n",
      "City not found. Skipping...\n",
      "Processing Record 39 of Set 5 | zhoucheng\n"
     ]
    },
    {
     "name": "stderr",
     "output_type": "stream",
     "text": [
      "Traceback (most recent call last):\n",
      "  File \"C:\\Users\\mbore\\AppData\\Local\\Temp\\ipykernel_29204\\1813308146.py\", line 37, in <module>\n",
      "    city_lat = city_weather[\"coord\"][\"lat\"]\n",
      "KeyError: 'coord'\n"
     ]
    },
    {
     "name": "stdout",
     "output_type": "stream",
     "text": [
      "Processing Record 40 of Set 5 | gari\n",
      "Processing Record 41 of Set 5 | muros\n",
      "Processing Record 42 of Set 5 | provideniya\n",
      "Processing Record 43 of Set 5 | vostok\n",
      "Processing Record 44 of Set 5 | vestbygda\n",
      "City not found. Skipping...\n",
      "Processing Record 45 of Set 5 | bengkulu\n"
     ]
    },
    {
     "name": "stderr",
     "output_type": "stream",
     "text": [
      "Traceback (most recent call last):\n",
      "  File \"C:\\Users\\mbore\\AppData\\Local\\Temp\\ipykernel_29204\\1813308146.py\", line 37, in <module>\n",
      "    city_lat = city_weather[\"coord\"][\"lat\"]\n",
      "KeyError: 'coord'\n"
     ]
    },
    {
     "name": "stdout",
     "output_type": "stream",
     "text": [
      "Processing Record 46 of Set 5 | mar del plata\n",
      "Processing Record 47 of Set 5 | cudahy\n",
      "Processing Record 48 of Set 5 | kavieng\n",
      "Processing Record 49 of Set 5 | ahipara\n",
      "Processing Record 50 of Set 5 | ayan\n",
      "Processing Record 1 of Set 6 | belmonte\n",
      "Processing Record 2 of Set 6 | vuktyl\n",
      "Processing Record 3 of Set 6 | henties bay\n",
      "Processing Record 4 of Set 6 | juruti\n",
      "Processing Record 5 of Set 6 | bezhetsk\n",
      "Processing Record 6 of Set 6 | hasaki\n",
      "Processing Record 7 of Set 6 | tual\n",
      "Processing Record 8 of Set 6 | sitka\n",
      "Processing Record 9 of Set 6 | privolzhye\n",
      "Processing Record 10 of Set 6 | luderitz\n",
      "Processing Record 11 of Set 6 | cruzeiro do sul\n",
      "Processing Record 12 of Set 6 | topolobampo\n",
      "Processing Record 13 of Set 6 | tuatapere\n",
      "Processing Record 14 of Set 6 | sentyabrskiy\n",
      "City not found. Skipping...\n",
      "Processing Record 15 of Set 6 | gwadar\n"
     ]
    },
    {
     "name": "stderr",
     "output_type": "stream",
     "text": [
      "Traceback (most recent call last):\n",
      "  File \"C:\\Users\\mbore\\AppData\\Local\\Temp\\ipykernel_29204\\1813308146.py\", line 37, in <module>\n",
      "    city_lat = city_weather[\"coord\"][\"lat\"]\n",
      "KeyError: 'coord'\n"
     ]
    },
    {
     "name": "stdout",
     "output_type": "stream",
     "text": [
      "Processing Record 16 of Set 6 | ancud\n",
      "Processing Record 17 of Set 6 | grand centre\n",
      "City not found. Skipping...\n",
      "Processing Record 18 of Set 6 | sinnar\n"
     ]
    },
    {
     "name": "stderr",
     "output_type": "stream",
     "text": [
      "Traceback (most recent call last):\n",
      "  File \"C:\\Users\\mbore\\AppData\\Local\\Temp\\ipykernel_29204\\1813308146.py\", line 37, in <module>\n",
      "    city_lat = city_weather[\"coord\"][\"lat\"]\n",
      "KeyError: 'coord'\n"
     ]
    },
    {
     "name": "stdout",
     "output_type": "stream",
     "text": [
      "Processing Record 19 of Set 6 | birin\n",
      "Processing Record 20 of Set 6 | tupa\n",
      "Processing Record 21 of Set 6 | barrow\n",
      "Processing Record 22 of Set 6 | treinta y tres\n",
      "Processing Record 23 of Set 6 | boyolangu\n",
      "Processing Record 24 of Set 6 | noumea\n",
      "Processing Record 25 of Set 6 | leshukonskoye\n",
      "Processing Record 26 of Set 6 | khasan\n",
      "Processing Record 27 of Set 6 | tabiauea\n",
      "City not found. Skipping...\n",
      "Processing Record 28 of Set 6 | grand river south east\n"
     ]
    },
    {
     "name": "stderr",
     "output_type": "stream",
     "text": [
      "Traceback (most recent call last):\n",
      "  File \"C:\\Users\\mbore\\AppData\\Local\\Temp\\ipykernel_29204\\1813308146.py\", line 37, in <module>\n",
      "    city_lat = city_weather[\"coord\"][\"lat\"]\n",
      "KeyError: 'coord'\n",
      "Traceback (most recent call last):\n",
      "  File \"C:\\Users\\mbore\\AppData\\Local\\Temp\\ipykernel_29204\\1813308146.py\", line 37, in <module>\n",
      "    city_lat = city_weather[\"coord\"][\"lat\"]\n",
      "KeyError: 'coord'\n"
     ]
    },
    {
     "name": "stdout",
     "output_type": "stream",
     "text": [
      "City not found. Skipping...\n",
      "Processing Record 29 of Set 6 | fairbanks\n",
      "Processing Record 30 of Set 6 | kushima\n",
      "Processing Record 31 of Set 6 | acuna\n",
      "City not found. Skipping...\n",
      "Processing Record 32 of Set 6 | ewa beach\n",
      "Processing Record 33 of Set 6 | satitoa\n"
     ]
    },
    {
     "name": "stderr",
     "output_type": "stream",
     "text": [
      "Traceback (most recent call last):\n",
      "  File \"C:\\Users\\mbore\\AppData\\Local\\Temp\\ipykernel_29204\\1813308146.py\", line 37, in <module>\n",
      "    city_lat = city_weather[\"coord\"][\"lat\"]\n",
      "KeyError: 'coord'\n"
     ]
    },
    {
     "name": "stdout",
     "output_type": "stream",
     "text": [
      "City not found. Skipping...\n",
      "Processing Record 34 of Set 6 | jacksonville\n",
      "Processing Record 35 of Set 6 | qui nhon\n"
     ]
    },
    {
     "name": "stderr",
     "output_type": "stream",
     "text": [
      "Traceback (most recent call last):\n",
      "  File \"C:\\Users\\mbore\\AppData\\Local\\Temp\\ipykernel_29204\\1813308146.py\", line 37, in <module>\n",
      "    city_lat = city_weather[\"coord\"][\"lat\"]\n",
      "KeyError: 'coord'\n"
     ]
    },
    {
     "name": "stdout",
     "output_type": "stream",
     "text": [
      "Processing Record 36 of Set 6 | mangrol\n",
      "Processing Record 37 of Set 6 | nanortalik\n",
      "Processing Record 38 of Set 6 | bontang\n",
      "Processing Record 39 of Set 6 | airai\n",
      "Processing Record 40 of Set 6 | lodwar\n",
      "Processing Record 41 of Set 6 | seoul\n",
      "Processing Record 42 of Set 6 | araouane\n",
      "Processing Record 43 of Set 6 | pisco\n",
      "Processing Record 44 of Set 6 | ribeira grande\n",
      "Processing Record 45 of Set 6 | bichura\n",
      "Processing Record 46 of Set 6 | tautira\n",
      "Processing Record 47 of Set 6 | huarmey\n",
      "Processing Record 48 of Set 6 | arco\n",
      "Processing Record 49 of Set 6 | katakwi\n",
      "Processing Record 50 of Set 6 | mandla\n",
      "Processing Record 1 of Set 7 | yashkino\n",
      "Processing Record 2 of Set 7 | paso de los toros\n",
      "Processing Record 3 of Set 7 | riyadh\n",
      "Processing Record 4 of Set 7 | tamiami\n",
      "Processing Record 5 of Set 7 | bonavista\n",
      "Processing Record 6 of Set 7 | kaputa\n",
      "Processing Record 7 of Set 7 | mahebourg\n",
      "Processing Record 8 of Set 7 | morondava\n",
      "Processing Record 9 of Set 7 | cururupu\n",
      "Processing Record 10 of Set 7 | port blair\n",
      "Processing Record 11 of Set 7 | sorong\n",
      "Processing Record 12 of Set 7 | deer lake\n",
      "Processing Record 13 of Set 7 | poum\n",
      "Processing Record 14 of Set 7 | pacific grove\n",
      "Processing Record 15 of Set 7 | ulyanovo\n",
      "City not found. Skipping...\n",
      "Processing Record 16 of Set 7 | pinega\n"
     ]
    },
    {
     "name": "stderr",
     "output_type": "stream",
     "text": [
      "Traceback (most recent call last):\n",
      "  File \"C:\\Users\\mbore\\AppData\\Local\\Temp\\ipykernel_29204\\1813308146.py\", line 37, in <module>\n",
      "    city_lat = city_weather[\"coord\"][\"lat\"]\n",
      "KeyError: 'coord'\n"
     ]
    },
    {
     "name": "stdout",
     "output_type": "stream",
     "text": [
      "Processing Record 17 of Set 7 | piedras negras\n",
      "Processing Record 18 of Set 7 | harper\n",
      "Processing Record 19 of Set 7 | vaitupu\n",
      "City not found. Skipping...\n",
      "Processing Record 20 of Set 7 | ambon\n"
     ]
    },
    {
     "name": "stderr",
     "output_type": "stream",
     "text": [
      "Traceback (most recent call last):\n",
      "  File \"C:\\Users\\mbore\\AppData\\Local\\Temp\\ipykernel_29204\\1813308146.py\", line 37, in <module>\n",
      "    city_lat = city_weather[\"coord\"][\"lat\"]\n",
      "KeyError: 'coord'\n"
     ]
    },
    {
     "name": "stdout",
     "output_type": "stream",
     "text": [
      "Processing Record 21 of Set 7 | ternate\n",
      "Processing Record 22 of Set 7 | bani\n",
      "Processing Record 23 of Set 7 | erdenet\n",
      "Processing Record 24 of Set 7 | durham\n",
      "Processing Record 25 of Set 7 | longhua\n",
      "Processing Record 26 of Set 7 | los mochis\n",
      "Processing Record 27 of Set 7 | samarai\n",
      "Processing Record 28 of Set 7 | tanete\n",
      "Processing Record 29 of Set 7 | normandin\n",
      "Processing Record 30 of Set 7 | chengde\n",
      "Processing Record 31 of Set 7 | masyaf\n",
      "Processing Record 32 of Set 7 | cherskiy\n",
      "Processing Record 33 of Set 7 | saleaula\n",
      "City not found. Skipping...\n"
     ]
    },
    {
     "name": "stderr",
     "output_type": "stream",
     "text": [
      "Traceback (most recent call last):\n",
      "  File \"C:\\Users\\mbore\\AppData\\Local\\Temp\\ipykernel_29204\\1813308146.py\", line 37, in <module>\n",
      "    city_lat = city_weather[\"coord\"][\"lat\"]\n",
      "KeyError: 'coord'\n"
     ]
    },
    {
     "name": "stdout",
     "output_type": "stream",
     "text": [
      "Processing Record 34 of Set 7 | westerland\n",
      "Processing Record 35 of Set 7 | saint-philippe\n",
      "Processing Record 36 of Set 7 | zachagansk\n",
      "City not found. Skipping...\n",
      "Processing Record 37 of Set 7 | upernavik\n"
     ]
    },
    {
     "name": "stderr",
     "output_type": "stream",
     "text": [
      "Traceback (most recent call last):\n",
      "  File \"C:\\Users\\mbore\\AppData\\Local\\Temp\\ipykernel_29204\\1813308146.py\", line 37, in <module>\n",
      "    city_lat = city_weather[\"coord\"][\"lat\"]\n",
      "KeyError: 'coord'\n"
     ]
    },
    {
     "name": "stdout",
     "output_type": "stream",
     "text": [
      "Processing Record 38 of Set 7 | namatanai\n",
      "Processing Record 39 of Set 7 | amahai\n",
      "Processing Record 40 of Set 7 | kasongo-lunda\n",
      "Processing Record 41 of Set 7 | methven\n",
      "Processing Record 42 of Set 7 | san andres\n",
      "Processing Record 43 of Set 7 | san patricio\n",
      "Processing Record 44 of Set 7 | kaya\n",
      "Processing Record 45 of Set 7 | vredendal\n",
      "Processing Record 46 of Set 7 | khorixas\n",
      "Processing Record 47 of Set 7 | umm jarr\n",
      "City not found. Skipping...\n",
      "Processing Record 48 of Set 7 | sauda\n"
     ]
    },
    {
     "name": "stderr",
     "output_type": "stream",
     "text": [
      "Traceback (most recent call last):\n",
      "  File \"C:\\Users\\mbore\\AppData\\Local\\Temp\\ipykernel_29204\\1813308146.py\", line 37, in <module>\n",
      "    city_lat = city_weather[\"coord\"][\"lat\"]\n",
      "KeyError: 'coord'\n"
     ]
    },
    {
     "name": "stdout",
     "output_type": "stream",
     "text": [
      "Processing Record 49 of Set 7 | eisenhuttenstadt\n",
      "City not found. Skipping...\n",
      "Processing Record 50 of Set 7 | takoradi\n"
     ]
    },
    {
     "name": "stderr",
     "output_type": "stream",
     "text": [
      "Traceback (most recent call last):\n",
      "  File \"C:\\Users\\mbore\\AppData\\Local\\Temp\\ipykernel_29204\\1813308146.py\", line 37, in <module>\n",
      "    city_lat = city_weather[\"coord\"][\"lat\"]\n",
      "KeyError: 'coord'\n"
     ]
    },
    {
     "name": "stdout",
     "output_type": "stream",
     "text": [
      "Processing Record 1 of Set 8 | broceni\n",
      "Processing Record 2 of Set 8 | kangaatsiaq\n",
      "Processing Record 3 of Set 8 | soe\n",
      "Processing Record 4 of Set 8 | astoria\n",
      "Processing Record 5 of Set 8 | jepara\n",
      "Processing Record 6 of Set 8 | magugu\n",
      "Processing Record 7 of Set 8 | vanimo\n",
      "Processing Record 8 of Set 8 | springbok\n",
      "Processing Record 9 of Set 8 | havre-saint-pierre\n",
      "Processing Record 10 of Set 8 | shatrovo\n",
      "Processing Record 11 of Set 8 | sheltozero\n",
      "Processing Record 12 of Set 8 | antalaha\n",
      "Processing Record 13 of Set 8 | strezhevoy\n",
      "Processing Record 14 of Set 8 | kalabo\n",
      "Processing Record 15 of Set 8 | pilar\n",
      "Processing Record 16 of Set 8 | poltsamaa\n",
      "Processing Record 17 of Set 8 | tucumcari\n",
      "Processing Record 18 of Set 8 | calbiga\n",
      "Processing Record 19 of Set 8 | inuvik\n",
      "Processing Record 20 of Set 8 | the valley\n",
      "Processing Record 21 of Set 8 | paratinga\n",
      "Processing Record 22 of Set 8 | hualmay\n",
      "Processing Record 23 of Set 8 | sur\n",
      "Processing Record 24 of Set 8 | palabuhanratu\n",
      "City not found. Skipping...\n",
      "Processing Record 25 of Set 8 | port elizabeth\n"
     ]
    },
    {
     "name": "stderr",
     "output_type": "stream",
     "text": [
      "Traceback (most recent call last):\n",
      "  File \"C:\\Users\\mbore\\AppData\\Local\\Temp\\ipykernel_29204\\1813308146.py\", line 37, in <module>\n",
      "    city_lat = city_weather[\"coord\"][\"lat\"]\n",
      "KeyError: 'coord'\n"
     ]
    },
    {
     "name": "stdout",
     "output_type": "stream",
     "text": [
      "Processing Record 26 of Set 8 | yulara\n",
      "Processing Record 27 of Set 8 | krasnogvardeyskoye\n",
      "Processing Record 28 of Set 8 | cayenne\n",
      "Processing Record 29 of Set 8 | mantua\n",
      "Processing Record 30 of Set 8 | namibe\n",
      "Processing Record 31 of Set 8 | attawapiskat\n",
      "City not found. Skipping...\n",
      "Processing Record 32 of Set 8 | aquidaba\n"
     ]
    },
    {
     "name": "stderr",
     "output_type": "stream",
     "text": [
      "Traceback (most recent call last):\n",
      "  File \"C:\\Users\\mbore\\AppData\\Local\\Temp\\ipykernel_29204\\1813308146.py\", line 37, in <module>\n",
      "    city_lat = city_weather[\"coord\"][\"lat\"]\n",
      "KeyError: 'coord'\n"
     ]
    },
    {
     "name": "stdout",
     "output_type": "stream",
     "text": [
      "Processing Record 33 of Set 8 | sungairaya\n",
      "Processing Record 34 of Set 8 | dobruska\n",
      "Processing Record 35 of Set 8 | dingle\n",
      "Processing Record 36 of Set 8 | roald\n",
      "Processing Record 37 of Set 8 | castro\n",
      "Processing Record 38 of Set 8 | sosva\n",
      "Processing Record 39 of Set 8 | nyurba\n",
      "Processing Record 40 of Set 8 | alihe\n",
      "Processing Record 41 of Set 8 | el jicaro\n",
      "Processing Record 42 of Set 8 | la grande\n",
      "Processing Record 43 of Set 8 | bodden town\n",
      "Processing Record 44 of Set 8 | begunitsy\n",
      "Processing Record 45 of Set 8 | hannan\n",
      "Processing Record 46 of Set 8 | elizabeth city\n",
      "Processing Record 47 of Set 8 | moree\n",
      "Processing Record 48 of Set 8 | hot springs\n",
      "Processing Record 49 of Set 8 | hamilton\n",
      "Processing Record 50 of Set 8 | la macarena\n",
      "Processing Record 1 of Set 9 | grand gaube\n",
      "Processing Record 2 of Set 9 | port hardy\n",
      "Processing Record 3 of Set 9 | virar\n",
      "Processing Record 4 of Set 9 | senno\n",
      "Processing Record 5 of Set 9 | kuva\n",
      "City not found. Skipping...\n",
      "Processing Record 6 of Set 9 | suluq\n"
     ]
    },
    {
     "name": "stderr",
     "output_type": "stream",
     "text": [
      "Traceback (most recent call last):\n",
      "  File \"C:\\Users\\mbore\\AppData\\Local\\Temp\\ipykernel_29204\\1813308146.py\", line 37, in <module>\n",
      "    city_lat = city_weather[\"coord\"][\"lat\"]\n",
      "KeyError: 'coord'\n"
     ]
    },
    {
     "name": "stdout",
     "output_type": "stream",
     "text": [
      "Processing Record 7 of Set 9 | verkhoyansk\n",
      "Processing Record 8 of Set 9 | vila\n",
      "Processing Record 9 of Set 9 | cairns\n",
      "Processing Record 10 of Set 9 | catuday\n",
      "Processing Record 11 of Set 9 | picsi\n",
      "Processing Record 12 of Set 9 | san policarpo\n",
      "Processing Record 13 of Set 9 | tura\n",
      "Processing Record 14 of Set 9 | matagami\n",
      "Processing Record 15 of Set 9 | vysokogornyy\n",
      "Processing Record 16 of Set 9 | benghazi\n",
      "Processing Record 17 of Set 9 | el retorno\n",
      "Processing Record 18 of Set 9 | constitucion\n",
      "Processing Record 19 of Set 9 | cumberland\n",
      "Processing Record 20 of Set 9 | sayalgudi\n",
      "City not found. Skipping...\n",
      "Processing Record 21 of Set 9 | ambilobe\n"
     ]
    },
    {
     "name": "stderr",
     "output_type": "stream",
     "text": [
      "Traceback (most recent call last):\n",
      "  File \"C:\\Users\\mbore\\AppData\\Local\\Temp\\ipykernel_29204\\1813308146.py\", line 37, in <module>\n",
      "    city_lat = city_weather[\"coord\"][\"lat\"]\n",
      "KeyError: 'coord'\n"
     ]
    },
    {
     "name": "stdout",
     "output_type": "stream",
     "text": [
      "Processing Record 22 of Set 9 | bambous virieux\n",
      "Processing Record 23 of Set 9 | avera\n",
      "Processing Record 24 of Set 9 | yanam\n",
      "Processing Record 25 of Set 9 | neuquen\n",
      "Processing Record 26 of Set 9 | mehamn\n",
      "Processing Record 27 of Set 9 | saint-pierre\n",
      "Processing Record 28 of Set 9 | galyugayevskaya\n",
      "Processing Record 29 of Set 9 | kwinana\n",
      "Processing Record 30 of Set 9 | krasnoselkup\n",
      "Processing Record 31 of Set 9 | camacha\n",
      "Processing Record 32 of Set 9 | ixtapa\n",
      "Processing Record 33 of Set 9 | plasnica\n",
      "Processing Record 34 of Set 9 | finschhafen\n",
      "Processing Record 35 of Set 9 | aitape\n",
      "Processing Record 36 of Set 9 | faya\n",
      "Processing Record 37 of Set 9 | gurgan\n",
      "City not found. Skipping...\n"
     ]
    },
    {
     "name": "stderr",
     "output_type": "stream",
     "text": [
      "Traceback (most recent call last):\n",
      "  File \"C:\\Users\\mbore\\AppData\\Local\\Temp\\ipykernel_29204\\1813308146.py\", line 37, in <module>\n",
      "    city_lat = city_weather[\"coord\"][\"lat\"]\n",
      "KeyError: 'coord'\n"
     ]
    },
    {
     "name": "stdout",
     "output_type": "stream",
     "text": [
      "Processing Record 38 of Set 9 | portland\n",
      "Processing Record 39 of Set 9 | baykit\n",
      "Processing Record 40 of Set 9 | chardara\n",
      "Processing Record 41 of Set 9 | laguna de perlas\n",
      "Processing Record 42 of Set 9 | kharan\n",
      "Processing Record 43 of Set 9 | nong chik\n",
      "Processing Record 44 of Set 9 | howard springs\n",
      "Processing Record 45 of Set 9 | moses lake\n",
      "Processing Record 46 of Set 9 | bac lieu\n",
      "Processing Record 47 of Set 9 | tevaitoa\n",
      "Processing Record 48 of Set 9 | vestmanna\n",
      "Processing Record 49 of Set 9 | el badari\n",
      "City not found. Skipping...\n",
      "Processing Record 50 of Set 9 | bure\n"
     ]
    },
    {
     "name": "stderr",
     "output_type": "stream",
     "text": [
      "Traceback (most recent call last):\n",
      "  File \"C:\\Users\\mbore\\AppData\\Local\\Temp\\ipykernel_29204\\1813308146.py\", line 37, in <module>\n",
      "    city_lat = city_weather[\"coord\"][\"lat\"]\n",
      "KeyError: 'coord'\n"
     ]
    },
    {
     "name": "stdout",
     "output_type": "stream",
     "text": [
      "Processing Record 1 of Set 10 | dali\n",
      "Processing Record 2 of Set 10 | half moon bay\n",
      "Processing Record 3 of Set 10 | jimenez\n",
      "Processing Record 4 of Set 10 | nador\n",
      "Processing Record 5 of Set 10 | nome\n",
      "Processing Record 6 of Set 10 | amarillo\n",
      "Processing Record 7 of Set 10 | yairipok\n",
      "Processing Record 8 of Set 10 | mergui\n",
      "City not found. Skipping...\n",
      "Processing Record 9 of Set 10 | floresta\n"
     ]
    },
    {
     "name": "stderr",
     "output_type": "stream",
     "text": [
      "Traceback (most recent call last):\n",
      "  File \"C:\\Users\\mbore\\AppData\\Local\\Temp\\ipykernel_29204\\1813308146.py\", line 37, in <module>\n",
      "    city_lat = city_weather[\"coord\"][\"lat\"]\n",
      "KeyError: 'coord'\n"
     ]
    },
    {
     "name": "stdout",
     "output_type": "stream",
     "text": [
      "Processing Record 10 of Set 10 | lorengau\n",
      "Processing Record 11 of Set 10 | mitu\n",
      "Processing Record 12 of Set 10 | aleppo\n",
      "Processing Record 13 of Set 10 | komsomolskiy\n",
      "Processing Record 14 of Set 10 | alice springs\n",
      "Processing Record 15 of Set 10 | erzin\n",
      "Processing Record 16 of Set 10 | pafos\n",
      "Processing Record 17 of Set 10 | srednekolymsk\n",
      "Processing Record 18 of Set 10 | jieshi\n",
      "Processing Record 19 of Set 10 | uthal\n",
      "Processing Record 20 of Set 10 | nalut\n",
      "Processing Record 21 of Set 10 | fairview\n",
      "Processing Record 22 of Set 10 | bilibino\n",
      "Processing Record 23 of Set 10 | dong xoai\n",
      "Processing Record 24 of Set 10 | henzada\n",
      "City not found. Skipping...\n",
      "Processing Record 25 of Set 10 | iqaluit\n"
     ]
    },
    {
     "name": "stderr",
     "output_type": "stream",
     "text": [
      "Traceback (most recent call last):\n",
      "  File \"C:\\Users\\mbore\\AppData\\Local\\Temp\\ipykernel_29204\\1813308146.py\", line 37, in <module>\n",
      "    city_lat = city_weather[\"coord\"][\"lat\"]\n",
      "KeyError: 'coord'\n"
     ]
    },
    {
     "name": "stdout",
     "output_type": "stream",
     "text": [
      "Processing Record 26 of Set 10 | amapa\n",
      "Processing Record 27 of Set 10 | kidal\n",
      "Processing Record 28 of Set 10 | victoria\n",
      "Processing Record 29 of Set 10 | san juan\n",
      "Processing Record 30 of Set 10 | mabaruma\n",
      "Processing Record 31 of Set 10 | altay\n",
      "Processing Record 32 of Set 10 | faro\n",
      "Processing Record 33 of Set 10 | hailar\n",
      "Processing Record 34 of Set 10 | recife\n",
      "Processing Record 35 of Set 10 | stornoway\n",
      "Processing Record 36 of Set 10 | kandry\n",
      "Processing Record 37 of Set 10 | praya\n",
      "Processing Record 38 of Set 10 | halalo\n",
      "City not found. Skipping...\n",
      "Processing Record 39 of Set 10 | teluknaga\n"
     ]
    },
    {
     "name": "stderr",
     "output_type": "stream",
     "text": [
      "Traceback (most recent call last):\n",
      "  File \"C:\\Users\\mbore\\AppData\\Local\\Temp\\ipykernel_29204\\1813308146.py\", line 37, in <module>\n",
      "    city_lat = city_weather[\"coord\"][\"lat\"]\n",
      "KeyError: 'coord'\n"
     ]
    },
    {
     "name": "stdout",
     "output_type": "stream",
     "text": [
      "Processing Record 40 of Set 10 | high level\n",
      "Processing Record 41 of Set 10 | tarakan\n",
      "Processing Record 42 of Set 10 | aykhal\n",
      "Processing Record 43 of Set 10 | kelo\n",
      "Processing Record 44 of Set 10 | zakamensk\n",
      "Processing Record 45 of Set 10 | sopot\n",
      "Processing Record 46 of Set 10 | guerrero\n",
      "Processing Record 47 of Set 10 | nancha\n",
      "Processing Record 48 of Set 10 | christchurch\n",
      "Processing Record 49 of Set 10 | marrakesh\n",
      "Processing Record 50 of Set 10 | bac can\n",
      "City not found. Skipping...\n"
     ]
    },
    {
     "name": "stderr",
     "output_type": "stream",
     "text": [
      "Traceback (most recent call last):\n",
      "  File \"C:\\Users\\mbore\\AppData\\Local\\Temp\\ipykernel_29204\\1813308146.py\", line 37, in <module>\n",
      "    city_lat = city_weather[\"coord\"][\"lat\"]\n",
      "KeyError: 'coord'\n"
     ]
    },
    {
     "name": "stdout",
     "output_type": "stream",
     "text": [
      "Processing Record 1 of Set 11 | cockburn town\n",
      "Processing Record 2 of Set 11 | kedrovyy\n",
      "Processing Record 3 of Set 11 | ostrovskoye\n",
      "Processing Record 4 of Set 11 | sherlovaya gora\n",
      "Processing Record 5 of Set 11 | chagda\n",
      "City not found. Skipping...\n",
      "Processing Record 6 of Set 11 | dianopolis\n"
     ]
    },
    {
     "name": "stderr",
     "output_type": "stream",
     "text": [
      "Traceback (most recent call last):\n",
      "  File \"C:\\Users\\mbore\\AppData\\Local\\Temp\\ipykernel_29204\\1813308146.py\", line 37, in <module>\n",
      "    city_lat = city_weather[\"coord\"][\"lat\"]\n",
      "KeyError: 'coord'\n"
     ]
    },
    {
     "name": "stdout",
     "output_type": "stream",
     "text": [
      "City not found. Skipping...\n",
      "Processing Record 7 of Set 11 | lazaro cardenas\n",
      "Processing Record 8 of Set 11 | oistins\n"
     ]
    },
    {
     "name": "stderr",
     "output_type": "stream",
     "text": [
      "Traceback (most recent call last):\n",
      "  File \"C:\\Users\\mbore\\AppData\\Local\\Temp\\ipykernel_29204\\1813308146.py\", line 37, in <module>\n",
      "    city_lat = city_weather[\"coord\"][\"lat\"]\n",
      "KeyError: 'coord'\n"
     ]
    },
    {
     "name": "stdout",
     "output_type": "stream",
     "text": [
      "Processing Record 9 of Set 11 | jiwani\n",
      "Processing Record 10 of Set 11 | acarau\n",
      "Processing Record 11 of Set 11 | cabra\n",
      "Processing Record 12 of Set 11 | ulladulla\n",
      "Processing Record 13 of Set 11 | krutinka\n",
      "Processing Record 14 of Set 11 | smoky lake\n",
      "Processing Record 15 of Set 11 | pedasi\n",
      "Processing Record 16 of Set 11 | sandpoint\n",
      "Processing Record 17 of Set 11 | kapchorwa\n",
      "Processing Record 18 of Set 11 | port lincoln\n",
      "Processing Record 19 of Set 11 | kabare\n",
      "Processing Record 20 of Set 11 | sete\n",
      "Processing Record 21 of Set 11 | rapid valley\n",
      "Processing Record 22 of Set 11 | babanusah\n",
      "City not found. Skipping...\n",
      "Processing Record 23 of Set 11 | buin\n"
     ]
    },
    {
     "name": "stderr",
     "output_type": "stream",
     "text": [
      "Traceback (most recent call last):\n",
      "  File \"C:\\Users\\mbore\\AppData\\Local\\Temp\\ipykernel_29204\\1813308146.py\", line 37, in <module>\n",
      "    city_lat = city_weather[\"coord\"][\"lat\"]\n",
      "KeyError: 'coord'\n"
     ]
    },
    {
     "name": "stdout",
     "output_type": "stream",
     "text": [
      "Processing Record 24 of Set 11 | itarema\n",
      "Processing Record 25 of Set 11 | bandarbeyla\n",
      "Processing Record 26 of Set 11 | petropavlovsk-kamchatskiy\n",
      "Processing Record 27 of Set 11 | north bend\n",
      "Processing Record 28 of Set 11 | ganzhou\n",
      "Processing Record 29 of Set 11 | ponta delgada\n",
      "Processing Record 30 of Set 11 | bom jesus da lapa\n",
      "Processing Record 31 of Set 11 | paamiut\n",
      "Processing Record 32 of Set 11 | shchelyayur\n",
      "City not found. Skipping...\n",
      "Processing Record 33 of Set 11 | oussouye\n"
     ]
    },
    {
     "name": "stderr",
     "output_type": "stream",
     "text": [
      "Traceback (most recent call last):\n",
      "  File \"C:\\Users\\mbore\\AppData\\Local\\Temp\\ipykernel_29204\\1813308146.py\", line 37, in <module>\n",
      "    city_lat = city_weather[\"coord\"][\"lat\"]\n",
      "KeyError: 'coord'\n"
     ]
    },
    {
     "name": "stdout",
     "output_type": "stream",
     "text": [
      "Processing Record 34 of Set 11 | freeport\n",
      "Processing Record 35 of Set 11 | borodino\n",
      "Processing Record 36 of Set 11 | tevriz\n",
      "Processing Record 37 of Set 11 | caluquembe\n",
      "Processing Record 38 of Set 11 | matay\n",
      "Processing Record 39 of Set 11 | brae\n",
      "Processing Record 40 of Set 11 | kovdor\n",
      "Processing Record 41 of Set 11 | guayaramerin\n",
      "Processing Record 42 of Set 11 | aswan\n",
      "Processing Record 43 of Set 11 | hambantota\n",
      "Processing Record 44 of Set 11 | coahuayana\n",
      "Processing Record 45 of Set 11 | mecca\n",
      "Processing Record 46 of Set 11 | sakakah\n",
      "Processing Record 47 of Set 11 | los llanos de aridane\n",
      "Processing Record 48 of Set 11 | awbari\n",
      "Processing Record 49 of Set 11 | brumado\n",
      "Processing Record 50 of Set 11 | kostyantynivka\n",
      "Processing Record 1 of Set 12 | asau\n",
      "Processing Record 2 of Set 12 | concordia\n",
      "Processing Record 3 of Set 12 | hvolsvollur\n",
      "Processing Record 4 of Set 12 | gayeri\n",
      "Processing Record 5 of Set 12 | kerrobert\n",
      "Processing Record 6 of Set 12 | pilas\n",
      "Processing Record 7 of Set 12 | clearwater\n",
      "Processing Record 8 of Set 12 | sinnamary\n",
      "Processing Record 9 of Set 12 | geraldton\n",
      "Processing Record 10 of Set 12 | broken hill\n",
      "Processing Record 11 of Set 12 | paciran\n",
      "Processing Record 12 of Set 12 | codrington\n",
      "Processing Record 13 of Set 12 | bilma\n",
      "Processing Record 14 of Set 12 | obama\n",
      "Processing Record 15 of Set 12 | smithers\n",
      "Processing Record 16 of Set 12 | bathsheba\n",
      "Processing Record 17 of Set 12 | hendijan\n",
      "City not found. Skipping...\n",
      "Processing Record 18 of Set 12 | ivanovka\n"
     ]
    },
    {
     "name": "stderr",
     "output_type": "stream",
     "text": [
      "Traceback (most recent call last):\n",
      "  File \"C:\\Users\\mbore\\AppData\\Local\\Temp\\ipykernel_29204\\1813308146.py\", line 37, in <module>\n",
      "    city_lat = city_weather[\"coord\"][\"lat\"]\n",
      "KeyError: 'coord'\n"
     ]
    },
    {
     "name": "stdout",
     "output_type": "stream",
     "text": [
      "Processing Record 19 of Set 12 | taoudenni\n",
      "Processing Record 20 of Set 12 | skibbereen\n",
      "Processing Record 21 of Set 12 | pathein\n",
      "Processing Record 22 of Set 12 | mogadishu\n",
      "Processing Record 23 of Set 12 | naze\n",
      "Processing Record 24 of Set 12 | derby\n",
      "Processing Record 25 of Set 12 | te anau\n",
      "Processing Record 26 of Set 12 | bolungarvik\n",
      "City not found. Skipping...\n",
      "Processing Record 27 of Set 12 | managua\n"
     ]
    },
    {
     "name": "stderr",
     "output_type": "stream",
     "text": [
      "Traceback (most recent call last):\n",
      "  File \"C:\\Users\\mbore\\AppData\\Local\\Temp\\ipykernel_29204\\1813308146.py\", line 37, in <module>\n",
      "    city_lat = city_weather[\"coord\"][\"lat\"]\n",
      "KeyError: 'coord'\n"
     ]
    },
    {
     "name": "stdout",
     "output_type": "stream",
     "text": [
      "Processing Record 28 of Set 12 | lima\n",
      "Processing Record 29 of Set 12 | urucara\n",
      "Processing Record 30 of Set 12 | diourbel\n",
      "Processing Record 31 of Set 12 | jesup\n",
      "Processing Record 32 of Set 12 | naryan-mar\n",
      "Processing Record 33 of Set 12 | jussara\n",
      "Processing Record 34 of Set 12 | falealupo\n",
      "City not found. Skipping...\n"
     ]
    },
    {
     "name": "stderr",
     "output_type": "stream",
     "text": [
      "Traceback (most recent call last):\n",
      "  File \"C:\\Users\\mbore\\AppData\\Local\\Temp\\ipykernel_29204\\1813308146.py\", line 37, in <module>\n",
      "    city_lat = city_weather[\"coord\"][\"lat\"]\n",
      "KeyError: 'coord'\n",
      "Traceback (most recent call last):\n",
      "  File \"C:\\Users\\mbore\\AppData\\Local\\Temp\\ipykernel_29204\\1813308146.py\", line 37, in <module>\n",
      "    city_lat = city_weather[\"coord\"][\"lat\"]\n",
      "KeyError: 'coord'\n"
     ]
    },
    {
     "name": "stdout",
     "output_type": "stream",
     "text": [
      "Processing Record 35 of Set 12 | dibaya\n",
      "City not found. Skipping...\n",
      "Processing Record 36 of Set 12 | camrose\n",
      "Processing Record 37 of Set 12 | batagay\n",
      "Processing Record 38 of Set 12 | guajara-mirim\n",
      "City not found. Skipping...\n",
      "Processing Record 39 of Set 12 | gamba\n"
     ]
    },
    {
     "name": "stderr",
     "output_type": "stream",
     "text": [
      "Traceback (most recent call last):\n",
      "  File \"C:\\Users\\mbore\\AppData\\Local\\Temp\\ipykernel_29204\\1813308146.py\", line 37, in <module>\n",
      "    city_lat = city_weather[\"coord\"][\"lat\"]\n",
      "KeyError: 'coord'\n"
     ]
    },
    {
     "name": "stdout",
     "output_type": "stream",
     "text": [
      "Processing Record 40 of Set 12 | katsuura\n",
      "Processing Record 41 of Set 12 | nizhneyansk\n",
      "City not found. Skipping...\n",
      "Processing Record 42 of Set 12 | collie\n"
     ]
    },
    {
     "name": "stderr",
     "output_type": "stream",
     "text": [
      "Traceback (most recent call last):\n",
      "  File \"C:\\Users\\mbore\\AppData\\Local\\Temp\\ipykernel_29204\\1813308146.py\", line 37, in <module>\n",
      "    city_lat = city_weather[\"coord\"][\"lat\"]\n",
      "KeyError: 'coord'\n"
     ]
    },
    {
     "name": "stdout",
     "output_type": "stream",
     "text": [
      "Processing Record 43 of Set 12 | cascais\n",
      "Processing Record 44 of Set 12 | conceicao do mato dentro\n",
      "Processing Record 45 of Set 12 | campos altos\n",
      "Processing Record 46 of Set 12 | nerchinskiy zavod\n",
      "Processing Record 47 of Set 12 | burica\n",
      "City not found. Skipping...\n",
      "Processing Record 48 of Set 12 | alotau\n"
     ]
    },
    {
     "name": "stderr",
     "output_type": "stream",
     "text": [
      "Traceback (most recent call last):\n",
      "  File \"C:\\Users\\mbore\\AppData\\Local\\Temp\\ipykernel_29204\\1813308146.py\", line 37, in <module>\n",
      "    city_lat = city_weather[\"coord\"][\"lat\"]\n",
      "KeyError: 'coord'\n"
     ]
    },
    {
     "name": "stdout",
     "output_type": "stream",
     "text": [
      "City not found. Skipping...\n",
      "Processing Record 49 of Set 12 | puerto escondido\n"
     ]
    },
    {
     "name": "stderr",
     "output_type": "stream",
     "text": [
      "Traceback (most recent call last):\n",
      "  File \"C:\\Users\\mbore\\AppData\\Local\\Temp\\ipykernel_29204\\1813308146.py\", line 37, in <module>\n",
      "    city_lat = city_weather[\"coord\"][\"lat\"]\n",
      "KeyError: 'coord'\n"
     ]
    },
    {
     "name": "stdout",
     "output_type": "stream",
     "text": [
      "Processing Record 50 of Set 12 | havoysund\n",
      "Processing Record 1 of Set 13 | paralimni\n",
      "Processing Record 2 of Set 13 | vangaindrano\n",
      "Processing Record 3 of Set 13 | maba\n",
      "Processing Record 4 of Set 13 | shahr-e babak\n",
      "Processing Record 5 of Set 13 | lagos\n",
      "Processing Record 6 of Set 13 | ushirombo\n",
      "-----------------------------\n",
      "Data Retrieval Complete      \n",
      "-----------------------------\n"
     ]
    }
   ],
   "source": [
    "# Create an empty list to hold the weather data.\n",
    "city_data = []\n",
    "\n",
    "# Print the beginning of the logging.\n",
    "print(\"Beginning Data Retrieval     \")\n",
    "print(\"-----------------------------\")\n",
    "\n",
    "# Create counters.\n",
    "record_count = 1\n",
    "set_count = 1\n",
    "\n",
    "# Starting URL for Weather Map API Call.\n",
    "url = \"http://api.openweathermap.org/data/2.5/weather?units=Imperial&APPID=\" + weather_api_key\n",
    "\n",
    "# Loop through all the cities in our list.\n",
    "for i, city in enumerate(cities):\n",
    "\n",
    "    # Group cities in sets of 50 for logging purposes.\n",
    "    if (i % 50 == 0 and i >= 50):\n",
    "        set_count += 1\n",
    "        record_count = 1\n",
    "        time.sleep(60)\n",
    "\n",
    "    # Create endpoint URL with each city.\n",
    "    city_url = url + \"&q=\" + city.replace(\" \",\"+\")\n",
    "    \n",
    "    # Log the URL, record, and set numbers and the city.\n",
    "    print(f\"Processing Record {record_count} of Set {set_count} | {city}\")\n",
    "    # Add 1 to the record count.\n",
    "    record_count += 1\n",
    "    \n",
    "    # Run an API request for each of the cities.\n",
    "    try:\n",
    "        # Parse the JSON and retrieve data.\n",
    "        city_weather = requests.get(city_url).json()\n",
    "        # Parse out the needed data.\n",
    "        city_lat = city_weather[\"coord\"][\"lat\"]\n",
    "        city_lng = city_weather[\"coord\"][\"lon\"]\n",
    "        city_max_temp = city_weather[\"main\"][\"temp_max\"]\n",
    "        city_humidity = city_weather[\"main\"][\"humidity\"]\n",
    "        city_clouds = city_weather[\"clouds\"][\"all\"]\n",
    "        city_wind = city_weather[\"wind\"][\"speed\"]\n",
    "        city_country = city_weather[\"sys\"][\"country\"]\n",
    "        # Convert the date to ISO standard.\n",
    "        city_date = datetime.utcfromtimestamp(city_weather[\"dt\"]).strftime('%Y-%m-%d %H:%M:%S')\n",
    "        # Append the city information into city_data list.\n",
    "        city_data.append({\"City\": city.title(),\n",
    "                          \"Lat\": city_lat,\n",
    "                          \"Lng\": city_lng,\n",
    "                          \"Max Temp\": city_max_temp,\n",
    "                          \"Humidity\": city_humidity,\n",
    "                          \"Cloudiness\": city_clouds,\n",
    "                          \"Wind Speed\": city_wind,\n",
    "                          \"Country\": city_country,\n",
    "                          \"Date\": city_date})\n",
    "\n",
    "# If an error is experienced, skip the city.\n",
    "    except Exception:\n",
    "        print(\"City not found. Skipping...\")\n",
    "        traceback.print_exc()\n",
    "        pass\n",
    "\n",
    "# Indicate that Data Loading is complete.\n",
    "print(\"-----------------------------\")\n",
    "print(\"Data Retrieval Complete      \")\n",
    "print(\"-----------------------------\")"
   ]
  },
  {
   "cell_type": "code",
   "execution_count": 10,
   "id": "cdadff9c",
   "metadata": {},
   "outputs": [
    {
     "data": {
      "text/plain": [
       "546"
      ]
     },
     "execution_count": 10,
     "metadata": {},
     "output_type": "execute_result"
    }
   ],
   "source": [
    "len(city_data)"
   ]
  },
  {
   "cell_type": "code",
   "execution_count": null,
   "id": "4c125845",
   "metadata": {},
   "outputs": [],
   "source": []
  }
 ],
 "metadata": {
  "kernelspec": {
   "display_name": "PythonData",
   "language": "python",
   "name": "pythondata"
  },
  "language_info": {
   "codemirror_mode": {
    "name": "ipython",
    "version": 3
   },
   "file_extension": ".py",
   "mimetype": "text/x-python",
   "name": "python",
   "nbconvert_exporter": "python",
   "pygments_lexer": "ipython3",
   "version": "3.7.13"
  }
 },
 "nbformat": 4,
 "nbformat_minor": 5
}
