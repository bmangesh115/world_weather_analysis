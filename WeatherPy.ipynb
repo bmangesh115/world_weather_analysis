{
 "cells": [
  {
   "cell_type": "code",
   "execution_count": 1,
   "id": "6bd33ef3",
   "metadata": {},
   "outputs": [],
   "source": [
    "# Import dependencies\n",
    "import pandas as pd\n",
    "import matplotlib.pyplot as plt\n",
    "import numpy as np"
   ]
  },
  {
   "cell_type": "code",
   "execution_count": 2,
   "id": "c816e3d7",
   "metadata": {},
   "outputs": [
    {
     "data": {
      "text/plain": [
       "<zip at 0x1c8576ab608>"
      ]
     },
     "execution_count": 2,
     "metadata": {},
     "output_type": "execute_result"
    }
   ],
   "source": [
    "# Creat a set of random latitudes and longitudes combinations.\n",
    "lats = np.random.uniform(low = -90.000, high = 90.000, size = 1500)\n",
    "lngs = np.random.uniform(low = -180.000, high = 180.000, size = 1500)\n",
    "lat_lngs = zip(lats, lngs)\n",
    "lat_lngs"
   ]
  },
  {
   "cell_type": "code",
   "execution_count": 3,
   "id": "024786b9",
   "metadata": {},
   "outputs": [],
   "source": [
    "# Add the latitudes and longitudes to a list\n",
    "coordinates = list(lat_lngs)"
   ]
  },
  {
   "cell_type": "code",
   "execution_count": 4,
   "id": "12b35803",
   "metadata": {},
   "outputs": [],
   "source": [
    "# Import citipy\n",
    "from citipy import citipy"
   ]
  },
  {
   "cell_type": "code",
   "execution_count": 5,
   "id": "4d71cd23",
   "metadata": {},
   "outputs": [
    {
     "data": {
      "text/plain": [
       "626"
      ]
     },
     "execution_count": 5,
     "metadata": {},
     "output_type": "execute_result"
    }
   ],
   "source": [
    "# Create a list for holding the cities.\n",
    "cities = []\n",
    "\n",
    "# Identify the nearest city for each latitude and longitude combinations.\n",
    "for coordinate in coordinates:\n",
    "    city = citipy.nearest_city(coordinate[0], coordinate[1]).city_name\n",
    "    \n",
    "    #If the city is unique, then we will add it to the cities list.\n",
    "    if city not in cities:\n",
    "        cities.append(city)\n",
    "\n",
    "# Print the city count to confirm sufficient count.\n",
    "len(cities)"
   ]
  },
  {
   "cell_type": "code",
   "execution_count": 6,
   "id": "462deb48",
   "metadata": {},
   "outputs": [],
   "source": [
    "# Import requests library\n",
    "import requests\n",
    "\n",
    "# Import the API key.\n",
    "from config import weather_api_key"
   ]
  },
  {
   "cell_type": "code",
   "execution_count": 7,
   "id": "3d7363bc",
   "metadata": {},
   "outputs": [],
   "source": [
    "# Import the time library and the datetime module from the datetime library\n",
    "import time\n",
    "from datetime import datetime"
   ]
  },
  {
   "cell_type": "code",
   "execution_count": 8,
   "id": "ac7ea0c4",
   "metadata": {},
   "outputs": [],
   "source": [
    "import traceback"
   ]
  },
  {
   "cell_type": "code",
   "execution_count": 9,
   "id": "bc710c3e",
   "metadata": {},
   "outputs": [
    {
     "name": "stdout",
     "output_type": "stream",
     "text": [
      "Beginning Data Retrieval     \n",
      "-----------------------------\n",
      "Processing Record 1 of Set 1 | saskylakh\n",
      "Processing Record 2 of Set 1 | road town\n",
      "Processing Record 3 of Set 1 | hermanus\n",
      "Processing Record 4 of Set 1 | nguiu\n",
      "City not found. Skipping...\n",
      "Processing Record 5 of Set 1 | ust-kamchatsk\n"
     ]
    },
    {
     "name": "stderr",
     "output_type": "stream",
     "text": [
      "Traceback (most recent call last):\n",
      "  File \"C:\\Users\\mbore\\AppData\\Local\\Temp\\ipykernel_25400\\1813308146.py\", line 37, in <module>\n",
      "    city_lat = city_weather[\"coord\"][\"lat\"]\n",
      "KeyError: 'coord'\n"
     ]
    },
    {
     "name": "stdout",
     "output_type": "stream",
     "text": [
      "City not found. Skipping...\n",
      "Processing Record 6 of Set 1 | matara\n"
     ]
    },
    {
     "name": "stderr",
     "output_type": "stream",
     "text": [
      "Traceback (most recent call last):\n",
      "  File \"C:\\Users\\mbore\\AppData\\Local\\Temp\\ipykernel_25400\\1813308146.py\", line 37, in <module>\n",
      "    city_lat = city_weather[\"coord\"][\"lat\"]\n",
      "KeyError: 'coord'\n"
     ]
    },
    {
     "name": "stdout",
     "output_type": "stream",
     "text": [
      "Processing Record 7 of Set 1 | mataura\n",
      "Processing Record 8 of Set 1 | san pedro de lloc\n",
      "Processing Record 9 of Set 1 | katsuura\n",
      "Processing Record 10 of Set 1 | ushuaia\n",
      "Processing Record 11 of Set 1 | chokurdakh\n",
      "Processing Record 12 of Set 1 | atuona\n",
      "Processing Record 13 of Set 1 | avarua\n",
      "Processing Record 14 of Set 1 | bluff\n",
      "Processing Record 15 of Set 1 | fortuna\n",
      "Processing Record 16 of Set 1 | codrington\n",
      "Processing Record 17 of Set 1 | cape town\n",
      "Processing Record 18 of Set 1 | san rafael del sur\n",
      "Processing Record 19 of Set 1 | mys shmidta\n",
      "City not found. Skipping...\n",
      "Processing Record 20 of Set 1 | nuuk\n"
     ]
    },
    {
     "name": "stderr",
     "output_type": "stream",
     "text": [
      "Traceback (most recent call last):\n",
      "  File \"C:\\Users\\mbore\\AppData\\Local\\Temp\\ipykernel_25400\\1813308146.py\", line 37, in <module>\n",
      "    city_lat = city_weather[\"coord\"][\"lat\"]\n",
      "KeyError: 'coord'\n"
     ]
    },
    {
     "name": "stdout",
     "output_type": "stream",
     "text": [
      "Processing Record 21 of Set 1 | grajau\n",
      "Processing Record 22 of Set 1 | new norfolk\n",
      "Processing Record 23 of Set 1 | busselton\n",
      "Processing Record 24 of Set 1 | sentyabrskiy\n",
      "City not found. Skipping...\n",
      "Processing Record 25 of Set 1 | cap malheureux\n"
     ]
    },
    {
     "name": "stderr",
     "output_type": "stream",
     "text": [
      "Traceback (most recent call last):\n",
      "  File \"C:\\Users\\mbore\\AppData\\Local\\Temp\\ipykernel_25400\\1813308146.py\", line 37, in <module>\n",
      "    city_lat = city_weather[\"coord\"][\"lat\"]\n",
      "KeyError: 'coord'\n"
     ]
    },
    {
     "name": "stdout",
     "output_type": "stream",
     "text": [
      "Processing Record 26 of Set 1 | fort portal\n",
      "Processing Record 27 of Set 1 | tuktoyaktuk\n",
      "Processing Record 28 of Set 1 | iqaluit\n",
      "Processing Record 29 of Set 1 | nelson bay\n",
      "Processing Record 30 of Set 1 | albany\n",
      "Processing Record 31 of Set 1 | taolanaro\n",
      "City not found. Skipping...\n",
      "Processing Record 32 of Set 1 | pevek\n"
     ]
    },
    {
     "name": "stderr",
     "output_type": "stream",
     "text": [
      "Traceback (most recent call last):\n",
      "  File \"C:\\Users\\mbore\\AppData\\Local\\Temp\\ipykernel_25400\\1813308146.py\", line 37, in <module>\n",
      "    city_lat = city_weather[\"coord\"][\"lat\"]\n",
      "KeyError: 'coord'\n"
     ]
    },
    {
     "name": "stdout",
     "output_type": "stream",
     "text": [
      "Processing Record 33 of Set 1 | punta arenas\n",
      "Processing Record 34 of Set 1 | bubaque\n",
      "Processing Record 35 of Set 1 | lovozero\n",
      "Processing Record 36 of Set 1 | illoqqortoormiut\n",
      "City not found. Skipping...\n",
      "Processing Record 37 of Set 1 | butaritari\n"
     ]
    },
    {
     "name": "stderr",
     "output_type": "stream",
     "text": [
      "Traceback (most recent call last):\n",
      "  File \"C:\\Users\\mbore\\AppData\\Local\\Temp\\ipykernel_25400\\1813308146.py\", line 37, in <module>\n",
      "    city_lat = city_weather[\"coord\"][\"lat\"]\n",
      "KeyError: 'coord'\n"
     ]
    },
    {
     "name": "stdout",
     "output_type": "stream",
     "text": [
      "Processing Record 38 of Set 1 | salinopolis\n",
      "Processing Record 39 of Set 1 | gambiran\n",
      "Processing Record 40 of Set 1 | truth or consequences\n",
      "Processing Record 41 of Set 1 | dzhebariki-khaya\n",
      "Processing Record 42 of Set 1 | hobart\n",
      "Processing Record 43 of Set 1 | yellowknife\n",
      "Processing Record 44 of Set 1 | utiroa\n",
      "City not found. Skipping...\n",
      "Processing Record 45 of Set 1 | traverse city\n"
     ]
    },
    {
     "name": "stderr",
     "output_type": "stream",
     "text": [
      "Traceback (most recent call last):\n",
      "  File \"C:\\Users\\mbore\\AppData\\Local\\Temp\\ipykernel_25400\\1813308146.py\", line 37, in <module>\n",
      "    city_lat = city_weather[\"coord\"][\"lat\"]\n",
      "KeyError: 'coord'\n"
     ]
    },
    {
     "name": "stdout",
     "output_type": "stream",
     "text": [
      "Processing Record 46 of Set 1 | vila franca do campo\n",
      "Processing Record 47 of Set 1 | tasiilaq\n",
      "Processing Record 48 of Set 1 | gravdal\n",
      "Processing Record 49 of Set 1 | barra patuca\n",
      "Processing Record 50 of Set 1 | thompson\n",
      "Processing Record 1 of Set 2 | manuk mangkaw\n",
      "Processing Record 2 of Set 2 | muros\n",
      "Processing Record 3 of Set 2 | jamestown\n",
      "Processing Record 4 of Set 2 | lebu\n",
      "Processing Record 5 of Set 2 | upernavik\n",
      "Processing Record 6 of Set 2 | grand gaube\n",
      "Processing Record 7 of Set 2 | mar del plata\n",
      "Processing Record 8 of Set 2 | teahupoo\n",
      "Processing Record 9 of Set 2 | vestmannaeyjar\n",
      "Processing Record 10 of Set 2 | abakaliki\n",
      "Processing Record 11 of Set 2 | hilo\n",
      "Processing Record 12 of Set 2 | rikitea\n",
      "Processing Record 13 of Set 2 | vaini\n",
      "Processing Record 14 of Set 2 | carnarvon\n",
      "Processing Record 15 of Set 2 | lata\n",
      "Processing Record 16 of Set 2 | sabha\n",
      "Processing Record 17 of Set 2 | chodavaram\n",
      "Processing Record 18 of Set 2 | nikolskoye\n",
      "Processing Record 19 of Set 2 | hasaki\n",
      "Processing Record 20 of Set 2 | saint george\n",
      "Processing Record 21 of Set 2 | umzimvubu\n",
      "City not found. Skipping...\n",
      "Processing Record 22 of Set 2 | hamilton\n"
     ]
    },
    {
     "name": "stderr",
     "output_type": "stream",
     "text": [
      "Traceback (most recent call last):\n",
      "  File \"C:\\Users\\mbore\\AppData\\Local\\Temp\\ipykernel_25400\\1813308146.py\", line 37, in <module>\n",
      "    city_lat = city_weather[\"coord\"][\"lat\"]\n",
      "KeyError: 'coord'\n"
     ]
    },
    {
     "name": "stdout",
     "output_type": "stream",
     "text": [
      "Processing Record 23 of Set 2 | khani\n",
      "Processing Record 24 of Set 2 | bethel\n",
      "Processing Record 25 of Set 2 | vao\n",
      "Processing Record 26 of Set 2 | calbuco\n",
      "Processing Record 27 of Set 2 | poum\n",
      "Processing Record 28 of Set 2 | ingham\n",
      "Processing Record 29 of Set 2 | kavaratti\n",
      "Processing Record 30 of Set 2 | pisco\n",
      "Processing Record 31 of Set 2 | airai\n",
      "Processing Record 32 of Set 2 | itarema\n",
      "Processing Record 33 of Set 2 | sabang\n",
      "Processing Record 34 of Set 2 | clyde river\n",
      "Processing Record 35 of Set 2 | linxia\n",
      "Processing Record 36 of Set 2 | cabo san lucas\n",
      "Processing Record 37 of Set 2 | denton\n",
      "Processing Record 38 of Set 2 | esperance\n",
      "Processing Record 39 of Set 2 | klaksvik\n",
      "Processing Record 40 of Set 2 | hamamatsu\n",
      "Processing Record 41 of Set 2 | aklavik\n",
      "Processing Record 42 of Set 2 | ahipara\n",
      "Processing Record 43 of Set 2 | alofi\n",
      "Processing Record 44 of Set 2 | kahului\n",
      "Processing Record 45 of Set 2 | mehamn\n",
      "Processing Record 46 of Set 2 | hami\n",
      "Processing Record 47 of Set 2 | belmonte\n",
      "Processing Record 48 of Set 2 | necochea\n",
      "Processing Record 49 of Set 2 | chuy\n",
      "Processing Record 50 of Set 2 | puerto ayora\n",
      "Processing Record 1 of Set 3 | aripuana\n",
      "Processing Record 2 of Set 3 | wahran\n",
      "City not found. Skipping...\n",
      "Processing Record 3 of Set 3 | nemuro\n"
     ]
    },
    {
     "name": "stderr",
     "output_type": "stream",
     "text": [
      "Traceback (most recent call last):\n",
      "  File \"C:\\Users\\mbore\\AppData\\Local\\Temp\\ipykernel_25400\\1813308146.py\", line 37, in <module>\n",
      "    city_lat = city_weather[\"coord\"][\"lat\"]\n",
      "KeyError: 'coord'\n"
     ]
    },
    {
     "name": "stdout",
     "output_type": "stream",
     "text": [
      "Processing Record 4 of Set 3 | phan rang\n",
      "City not found. Skipping...\n",
      "Processing Record 5 of Set 3 | piet retief\n"
     ]
    },
    {
     "name": "stderr",
     "output_type": "stream",
     "text": [
      "Traceback (most recent call last):\n",
      "  File \"C:\\Users\\mbore\\AppData\\Local\\Temp\\ipykernel_25400\\1813308146.py\", line 37, in <module>\n",
      "    city_lat = city_weather[\"coord\"][\"lat\"]\n",
      "KeyError: 'coord'\n"
     ]
    },
    {
     "name": "stdout",
     "output_type": "stream",
     "text": [
      "Processing Record 6 of Set 3 | norman wells\n",
      "Processing Record 7 of Set 3 | amapa\n",
      "Processing Record 8 of Set 3 | gorontalo\n",
      "Processing Record 9 of Set 3 | warqla\n",
      "City not found. Skipping...\n",
      "Processing Record 10 of Set 3 | danville\n"
     ]
    },
    {
     "name": "stderr",
     "output_type": "stream",
     "text": [
      "Traceback (most recent call last):\n",
      "  File \"C:\\Users\\mbore\\AppData\\Local\\Temp\\ipykernel_25400\\1813308146.py\", line 37, in <module>\n",
      "    city_lat = city_weather[\"coord\"][\"lat\"]\n",
      "KeyError: 'coord'\n"
     ]
    },
    {
     "name": "stdout",
     "output_type": "stream",
     "text": [
      "Processing Record 11 of Set 3 | yaan\n",
      "Processing Record 12 of Set 3 | port macquarie\n",
      "Processing Record 13 of Set 3 | tawkar\n",
      "City not found. Skipping...\n",
      "Processing Record 14 of Set 3 | grand river south east\n"
     ]
    },
    {
     "name": "stderr",
     "output_type": "stream",
     "text": [
      "Traceback (most recent call last):\n",
      "  File \"C:\\Users\\mbore\\AppData\\Local\\Temp\\ipykernel_25400\\1813308146.py\", line 37, in <module>\n",
      "    city_lat = city_weather[\"coord\"][\"lat\"]\n",
      "KeyError: 'coord'\n"
     ]
    },
    {
     "name": "stdout",
     "output_type": "stream",
     "text": [
      "City not found. Skipping...\n",
      "Processing Record 15 of Set 3 | ribeira grande\n"
     ]
    },
    {
     "name": "stderr",
     "output_type": "stream",
     "text": [
      "Traceback (most recent call last):\n",
      "  File \"C:\\Users\\mbore\\AppData\\Local\\Temp\\ipykernel_25400\\1813308146.py\", line 37, in <module>\n",
      "    city_lat = city_weather[\"coord\"][\"lat\"]\n",
      "KeyError: 'coord'\n"
     ]
    },
    {
     "name": "stdout",
     "output_type": "stream",
     "text": [
      "Processing Record 16 of Set 3 | guerrero negro\n",
      "Processing Record 17 of Set 3 | ossora\n",
      "Processing Record 18 of Set 3 | sehithwa\n",
      "Processing Record 19 of Set 3 | kodiak\n",
      "Processing Record 20 of Set 3 | georgetown\n",
      "Processing Record 21 of Set 3 | barrow\n",
      "Processing Record 22 of Set 3 | port elizabeth\n",
      "Processing Record 23 of Set 3 | attawapiskat\n",
      "City not found. Skipping...\n",
      "Processing Record 24 of Set 3 | san cristobal\n"
     ]
    },
    {
     "name": "stderr",
     "output_type": "stream",
     "text": [
      "Traceback (most recent call last):\n",
      "  File \"C:\\Users\\mbore\\AppData\\Local\\Temp\\ipykernel_25400\\1813308146.py\", line 37, in <module>\n",
      "    city_lat = city_weather[\"coord\"][\"lat\"]\n",
      "KeyError: 'coord'\n"
     ]
    },
    {
     "name": "stdout",
     "output_type": "stream",
     "text": [
      "Processing Record 25 of Set 3 | port hardy\n",
      "Processing Record 26 of Set 3 | tsihombe\n",
      "City not found. Skipping...\n",
      "Processing Record 27 of Set 3 | davidson\n"
     ]
    },
    {
     "name": "stderr",
     "output_type": "stream",
     "text": [
      "Traceback (most recent call last):\n",
      "  File \"C:\\Users\\mbore\\AppData\\Local\\Temp\\ipykernel_25400\\1813308146.py\", line 37, in <module>\n",
      "    city_lat = city_weather[\"coord\"][\"lat\"]\n",
      "KeyError: 'coord'\n"
     ]
    },
    {
     "name": "stdout",
     "output_type": "stream",
     "text": [
      "Processing Record 28 of Set 3 | kapaa\n",
      "Processing Record 29 of Set 3 | agadez\n",
      "Processing Record 30 of Set 3 | lavrentiya\n",
      "Processing Record 31 of Set 3 | kruisfontein\n",
      "Processing Record 32 of Set 3 | kasangulu\n",
      "Processing Record 33 of Set 3 | emmett\n",
      "Processing Record 34 of Set 3 | hay river\n",
      "Processing Record 35 of Set 3 | longyearbyen\n",
      "Processing Record 36 of Set 3 | kaitangata\n",
      "Processing Record 37 of Set 3 | svetlogorsk\n",
      "Processing Record 38 of Set 3 | touros\n",
      "Processing Record 39 of Set 3 | bredasdorp\n",
      "Processing Record 40 of Set 3 | hualmay\n",
      "Processing Record 41 of Set 3 | kodinsk\n",
      "Processing Record 42 of Set 3 | meyungs\n",
      "City not found. Skipping...\n"
     ]
    },
    {
     "name": "stderr",
     "output_type": "stream",
     "text": [
      "Traceback (most recent call last):\n",
      "  File \"C:\\Users\\mbore\\AppData\\Local\\Temp\\ipykernel_25400\\1813308146.py\", line 37, in <module>\n",
      "    city_lat = city_weather[\"coord\"][\"lat\"]\n",
      "KeyError: 'coord'\n"
     ]
    },
    {
     "name": "stdout",
     "output_type": "stream",
     "text": [
      "Processing Record 43 of Set 3 | mulatupo\n",
      "Processing Record 44 of Set 3 | yuxia\n",
      "Processing Record 45 of Set 3 | sitka\n",
      "Processing Record 46 of Set 3 | castellammare del golfo\n",
      "Processing Record 47 of Set 3 | sucua\n",
      "Processing Record 48 of Set 3 | avera\n",
      "Processing Record 49 of Set 3 | karpuninskiy\n",
      "City not found. Skipping...\n",
      "Processing Record 50 of Set 3 | marsaxlokk\n"
     ]
    },
    {
     "name": "stderr",
     "output_type": "stream",
     "text": [
      "Traceback (most recent call last):\n",
      "  File \"C:\\Users\\mbore\\AppData\\Local\\Temp\\ipykernel_25400\\1813308146.py\", line 37, in <module>\n",
      "    city_lat = city_weather[\"coord\"][\"lat\"]\n",
      "KeyError: 'coord'\n"
     ]
    },
    {
     "name": "stdout",
     "output_type": "stream",
     "text": [
      "Processing Record 1 of Set 4 | uhlirske janovice\n",
      "Processing Record 2 of Set 4 | aviles\n",
      "Processing Record 3 of Set 4 | deputatskiy\n",
      "Processing Record 4 of Set 4 | ostrovnoy\n",
      "Processing Record 5 of Set 4 | saint-philippe\n",
      "Processing Record 6 of Set 4 | mount gambier\n",
      "Processing Record 7 of Set 4 | souillac\n",
      "Processing Record 8 of Set 4 | provideniya\n",
      "Processing Record 9 of Set 4 | kalmunai\n",
      "Processing Record 10 of Set 4 | tubruq\n",
      "City not found. Skipping...\n"
     ]
    },
    {
     "name": "stderr",
     "output_type": "stream",
     "text": [
      "Traceback (most recent call last):\n",
      "  File \"C:\\Users\\mbore\\AppData\\Local\\Temp\\ipykernel_25400\\1813308146.py\", line 37, in <module>\n",
      "    city_lat = city_weather[\"coord\"][\"lat\"]\n",
      "KeyError: 'coord'\n"
     ]
    },
    {
     "name": "stdout",
     "output_type": "stream",
     "text": [
      "Processing Record 11 of Set 4 | chagda\n",
      "City not found. Skipping...\n",
      "Processing Record 12 of Set 4 | karratha\n"
     ]
    },
    {
     "name": "stderr",
     "output_type": "stream",
     "text": [
      "Traceback (most recent call last):\n",
      "  File \"C:\\Users\\mbore\\AppData\\Local\\Temp\\ipykernel_25400\\1813308146.py\", line 37, in <module>\n",
      "    city_lat = city_weather[\"coord\"][\"lat\"]\n",
      "KeyError: 'coord'\n"
     ]
    },
    {
     "name": "stdout",
     "output_type": "stream",
     "text": [
      "Processing Record 13 of Set 4 | la spezia\n",
      "Processing Record 14 of Set 4 | riberalta\n",
      "Processing Record 15 of Set 4 | corinto\n",
      "Processing Record 16 of Set 4 | camacha\n",
      "Processing Record 17 of Set 4 | hofn\n",
      "Processing Record 18 of Set 4 | aginskoye\n",
      "Processing Record 19 of Set 4 | calabozo\n",
      "Processing Record 20 of Set 4 | severo-yeniseyskiy\n",
      "Processing Record 21 of Set 4 | oistins\n",
      "Processing Record 22 of Set 4 | tessalit\n",
      "Processing Record 23 of Set 4 | axim\n",
      "Processing Record 24 of Set 4 | pleshanovo\n",
      "Processing Record 25 of Set 4 | surt\n",
      "Processing Record 26 of Set 4 | taoudenni\n",
      "Processing Record 27 of Set 4 | naze\n",
      "Processing Record 28 of Set 4 | japura\n",
      "Processing Record 29 of Set 4 | nouadhibou\n",
      "Processing Record 30 of Set 4 | kisaran\n",
      "Processing Record 31 of Set 4 | bambous virieux\n",
      "Processing Record 32 of Set 4 | puerto escondido\n",
      "Processing Record 33 of Set 4 | utinga\n",
      "Processing Record 34 of Set 4 | jiazi\n",
      "Processing Record 35 of Set 4 | richards bay\n",
      "Processing Record 36 of Set 4 | fenoarivo\n",
      "Processing Record 37 of Set 4 | gbadolite\n",
      "Processing Record 38 of Set 4 | inuvik\n",
      "Processing Record 39 of Set 4 | liseleje\n",
      "Processing Record 40 of Set 4 | murgab\n",
      "Processing Record 41 of Set 4 | hluti\n",
      "Processing Record 42 of Set 4 | castro\n",
      "Processing Record 43 of Set 4 | hobyo\n",
      "Processing Record 44 of Set 4 | bur gabo\n",
      "City not found. Skipping...\n",
      "Processing Record 45 of Set 4 | flin flon\n"
     ]
    },
    {
     "name": "stderr",
     "output_type": "stream",
     "text": [
      "Traceback (most recent call last):\n",
      "  File \"C:\\Users\\mbore\\AppData\\Local\\Temp\\ipykernel_25400\\1813308146.py\", line 37, in <module>\n",
      "    city_lat = city_weather[\"coord\"][\"lat\"]\n",
      "KeyError: 'coord'\n"
     ]
    },
    {
     "name": "stdout",
     "output_type": "stream",
     "text": [
      "Processing Record 46 of Set 4 | ortona\n",
      "Processing Record 47 of Set 4 | mackay\n",
      "Processing Record 48 of Set 4 | karasjok\n",
      "Processing Record 49 of Set 4 | nioro\n",
      "Processing Record 50 of Set 4 | hit\n",
      "Processing Record 1 of Set 5 | dingle\n",
      "Processing Record 2 of Set 5 | nijar\n",
      "Processing Record 3 of Set 5 | cockburn town\n",
      "Processing Record 4 of Set 5 | opuwo\n",
      "Processing Record 5 of Set 5 | bud\n",
      "Processing Record 6 of Set 5 | caluquembe\n",
      "Processing Record 7 of Set 5 | okha\n",
      "Processing Record 8 of Set 5 | hithadhoo\n",
      "Processing Record 9 of Set 5 | olga\n",
      "Processing Record 10 of Set 5 | dikson\n",
      "Processing Record 11 of Set 5 | ilulissat\n",
      "Processing Record 12 of Set 5 | paucartambo\n",
      "City not found. Skipping...\n",
      "Processing Record 13 of Set 5 | mildura\n"
     ]
    },
    {
     "name": "stderr",
     "output_type": "stream",
     "text": [
      "Traceback (most recent call last):\n",
      "  File \"C:\\Users\\mbore\\AppData\\Local\\Temp\\ipykernel_25400\\1813308146.py\", line 37, in <module>\n",
      "    city_lat = city_weather[\"coord\"][\"lat\"]\n",
      "KeyError: 'coord'\n"
     ]
    },
    {
     "name": "stdout",
     "output_type": "stream",
     "text": [
      "Processing Record 14 of Set 5 | bandarbeyla\n",
      "Processing Record 15 of Set 5 | balapur\n",
      "Processing Record 16 of Set 5 | la asuncion\n",
      "Processing Record 17 of Set 5 | laguna\n",
      "Processing Record 18 of Set 5 | san andres\n",
      "Processing Record 19 of Set 5 | narsaq\n",
      "Processing Record 20 of Set 5 | east london\n",
      "Processing Record 21 of Set 5 | millau\n",
      "Processing Record 22 of Set 5 | belushya guba\n",
      "City not found. Skipping...\n",
      "Processing Record 23 of Set 5 | anar darreh\n"
     ]
    },
    {
     "name": "stderr",
     "output_type": "stream",
     "text": [
      "Traceback (most recent call last):\n",
      "  File \"C:\\Users\\mbore\\AppData\\Local\\Temp\\ipykernel_25400\\1813308146.py\", line 37, in <module>\n",
      "    city_lat = city_weather[\"coord\"][\"lat\"]\n",
      "KeyError: 'coord'\n",
      "Traceback (most recent call last):\n",
      "  File \"C:\\Users\\mbore\\AppData\\Local\\Temp\\ipykernel_25400\\1813308146.py\", line 37, in <module>\n",
      "    city_lat = city_weather[\"coord\"][\"lat\"]\n",
      "KeyError: 'coord'\n"
     ]
    },
    {
     "name": "stdout",
     "output_type": "stream",
     "text": [
      "City not found. Skipping...\n",
      "Processing Record 24 of Set 5 | lufkin\n",
      "Processing Record 25 of Set 5 | saint anthony\n",
      "Processing Record 26 of Set 5 | te anau\n",
      "Processing Record 27 of Set 5 | valparaiso\n",
      "Processing Record 28 of Set 5 | anantapur\n",
      "Processing Record 29 of Set 5 | muncar\n",
      "Processing Record 30 of Set 5 | victoria\n",
      "Processing Record 31 of Set 5 | suntar\n",
      "Processing Record 32 of Set 5 | shenjiamen\n",
      "Processing Record 33 of Set 5 | qaanaaq\n",
      "Processing Record 34 of Set 5 | sami\n",
      "Processing Record 35 of Set 5 | villa del rosario\n",
      "Processing Record 36 of Set 5 | auki\n",
      "Processing Record 37 of Set 5 | ruidoso\n",
      "Processing Record 38 of Set 5 | geraldton\n",
      "Processing Record 39 of Set 5 | samusu\n",
      "City not found. Skipping...\n",
      "Processing Record 40 of Set 5 | alta floresta\n"
     ]
    },
    {
     "name": "stderr",
     "output_type": "stream",
     "text": [
      "Traceback (most recent call last):\n",
      "  File \"C:\\Users\\mbore\\AppData\\Local\\Temp\\ipykernel_25400\\1813308146.py\", line 37, in <module>\n",
      "    city_lat = city_weather[\"coord\"][\"lat\"]\n",
      "KeyError: 'coord'\n"
     ]
    },
    {
     "name": "stdout",
     "output_type": "stream",
     "text": [
      "Processing Record 41 of Set 5 | seddon\n",
      "Processing Record 42 of Set 5 | arraial do cabo\n",
      "Processing Record 43 of Set 5 | beisfjord\n",
      "Processing Record 44 of Set 5 | longkou\n",
      "Processing Record 45 of Set 5 | parelhas\n",
      "Processing Record 46 of Set 5 | yomitan\n",
      "City not found. Skipping...\n",
      "Processing Record 47 of Set 5 | buala\n"
     ]
    },
    {
     "name": "stderr",
     "output_type": "stream",
     "text": [
      "Traceback (most recent call last):\n",
      "  File \"C:\\Users\\mbore\\AppData\\Local\\Temp\\ipykernel_25400\\1813308146.py\", line 37, in <module>\n",
      "    city_lat = city_weather[\"coord\"][\"lat\"]\n",
      "KeyError: 'coord'\n"
     ]
    },
    {
     "name": "stdout",
     "output_type": "stream",
     "text": [
      "Processing Record 48 of Set 5 | cidreira\n",
      "Processing Record 49 of Set 5 | umm lajj\n",
      "Processing Record 50 of Set 5 | lerwick\n",
      "Processing Record 1 of Set 6 | saint-augustin\n",
      "Processing Record 2 of Set 6 | amderma\n",
      "City not found. Skipping...\n"
     ]
    },
    {
     "name": "stderr",
     "output_type": "stream",
     "text": [
      "Traceback (most recent call last):\n",
      "  File \"C:\\Users\\mbore\\AppData\\Local\\Temp\\ipykernel_25400\\1813308146.py\", line 37, in <module>\n",
      "    city_lat = city_weather[\"coord\"][\"lat\"]\n",
      "KeyError: 'coord'\n"
     ]
    },
    {
     "name": "stdout",
     "output_type": "stream",
     "text": [
      "Processing Record 3 of Set 6 | pauini\n",
      "Processing Record 4 of Set 6 | bonthe\n",
      "Processing Record 5 of Set 6 | rizhao\n",
      "Processing Record 6 of Set 6 | kavieng\n",
      "Processing Record 7 of Set 6 | stornoway\n",
      "Processing Record 8 of Set 6 | palmer\n",
      "Processing Record 9 of Set 6 | taksimo\n",
      "Processing Record 10 of Set 6 | chavakkad\n",
      "Processing Record 11 of Set 6 | roberval\n",
      "Processing Record 12 of Set 6 | gat\n",
      "Processing Record 13 of Set 6 | tidore\n",
      "City not found. Skipping...\n",
      "Processing Record 14 of Set 6 | serowe\n"
     ]
    },
    {
     "name": "stderr",
     "output_type": "stream",
     "text": [
      "Traceback (most recent call last):\n",
      "  File \"C:\\Users\\mbore\\AppData\\Local\\Temp\\ipykernel_25400\\1813308146.py\", line 37, in <module>\n",
      "    city_lat = city_weather[\"coord\"][\"lat\"]\n",
      "KeyError: 'coord'\n"
     ]
    },
    {
     "name": "stdout",
     "output_type": "stream",
     "text": [
      "Processing Record 15 of Set 6 | raton\n",
      "Processing Record 16 of Set 6 | margate\n",
      "Processing Record 17 of Set 6 | zavyalovo\n",
      "Processing Record 18 of Set 6 | safaga\n",
      "Processing Record 19 of Set 6 | huarmey\n",
      "Processing Record 20 of Set 6 | pierre\n",
      "Processing Record 21 of Set 6 | moron\n",
      "Processing Record 22 of Set 6 | moses lake\n",
      "Processing Record 23 of Set 6 | sioux falls\n",
      "Processing Record 24 of Set 6 | kalevala\n",
      "Processing Record 25 of Set 6 | waipawa\n",
      "Processing Record 26 of Set 6 | nanortalik\n",
      "Processing Record 27 of Set 6 | hereford\n",
      "Processing Record 28 of Set 6 | dehloran\n",
      "Processing Record 29 of Set 6 | port alfred\n",
      "Processing Record 30 of Set 6 | vostok\n",
      "Processing Record 31 of Set 6 | warrnambool\n",
      "Processing Record 32 of Set 6 | jacareacanga\n",
      "Processing Record 33 of Set 6 | portland\n",
      "Processing Record 34 of Set 6 | puerto del rosario\n",
      "Processing Record 35 of Set 6 | beni mazar\n",
      "Processing Record 36 of Set 6 | skegness\n",
      "Processing Record 37 of Set 6 | ngunguru\n",
      "Processing Record 38 of Set 6 | pimenteiras\n",
      "Processing Record 39 of Set 6 | pangnirtung\n",
      "Processing Record 40 of Set 6 | kyle of lochalsh\n",
      "City not found. Skipping...\n",
      "Processing Record 41 of Set 6 | cherskiy\n"
     ]
    },
    {
     "name": "stderr",
     "output_type": "stream",
     "text": [
      "Traceback (most recent call last):\n",
      "  File \"C:\\Users\\mbore\\AppData\\Local\\Temp\\ipykernel_25400\\1813308146.py\", line 37, in <module>\n",
      "    city_lat = city_weather[\"coord\"][\"lat\"]\n",
      "KeyError: 'coord'\n"
     ]
    },
    {
     "name": "stdout",
     "output_type": "stream",
     "text": [
      "Processing Record 42 of Set 6 | bilibino\n",
      "Processing Record 43 of Set 6 | naron\n",
      "Processing Record 44 of Set 6 | comodoro rivadavia\n",
      "Processing Record 45 of Set 6 | almaznyy\n",
      "Processing Record 46 of Set 6 | ginir\n",
      "Processing Record 47 of Set 6 | tumannyy\n",
      "City not found. Skipping...\n",
      "Processing Record 48 of Set 6 | maningrida\n"
     ]
    },
    {
     "name": "stderr",
     "output_type": "stream",
     "text": [
      "Traceback (most recent call last):\n",
      "  File \"C:\\Users\\mbore\\AppData\\Local\\Temp\\ipykernel_25400\\1813308146.py\", line 37, in <module>\n",
      "    city_lat = city_weather[\"coord\"][\"lat\"]\n",
      "KeyError: 'coord'\n"
     ]
    },
    {
     "name": "stdout",
     "output_type": "stream",
     "text": [
      "Processing Record 49 of Set 6 | torbay\n",
      "Processing Record 50 of Set 6 | aquiraz\n",
      "Processing Record 1 of Set 7 | sibiti\n",
      "Processing Record 2 of Set 7 | sechura\n",
      "Processing Record 3 of Set 7 | labuhan\n",
      "Processing Record 4 of Set 7 | kailua\n",
      "Processing Record 5 of Set 7 | verkhoyansk\n",
      "Processing Record 6 of Set 7 | old town\n",
      "Processing Record 7 of Set 7 | gazojak\n",
      "Processing Record 8 of Set 7 | unirea\n",
      "Processing Record 9 of Set 7 | baijiantan\n",
      "Processing Record 10 of Set 7 | lagoa\n",
      "Processing Record 11 of Set 7 | agirish\n",
      "Processing Record 12 of Set 7 | yining\n",
      "Processing Record 13 of Set 7 | faya\n",
      "Processing Record 14 of Set 7 | de panne\n",
      "Processing Record 15 of Set 7 | guadalupe y calvo\n",
      "Processing Record 16 of Set 7 | quatre cocos\n",
      "Processing Record 17 of Set 7 | areka\n",
      "Processing Record 18 of Set 7 | zadonsk\n",
      "Processing Record 19 of Set 7 | mikuni\n",
      "Processing Record 20 of Set 7 | barentsburg\n",
      "City not found. Skipping...\n",
      "Processing Record 21 of Set 7 | vardo\n"
     ]
    },
    {
     "name": "stderr",
     "output_type": "stream",
     "text": [
      "Traceback (most recent call last):\n",
      "  File \"C:\\Users\\mbore\\AppData\\Local\\Temp\\ipykernel_25400\\1813308146.py\", line 37, in <module>\n",
      "    city_lat = city_weather[\"coord\"][\"lat\"]\n",
      "KeyError: 'coord'\n"
     ]
    },
    {
     "name": "stdout",
     "output_type": "stream",
     "text": [
      "Processing Record 22 of Set 7 | havre\n",
      "Processing Record 23 of Set 7 | puerto baquerizo moreno\n",
      "Processing Record 24 of Set 7 | whitehorse\n",
      "Processing Record 25 of Set 7 | tabory\n",
      "Processing Record 26 of Set 7 | leh\n",
      "Processing Record 27 of Set 7 | berlevag\n",
      "Processing Record 28 of Set 7 | keshan\n",
      "City not found. Skipping...\n",
      "Processing Record 29 of Set 7 | faanui\n"
     ]
    },
    {
     "name": "stderr",
     "output_type": "stream",
     "text": [
      "Traceback (most recent call last):\n",
      "  File \"C:\\Users\\mbore\\AppData\\Local\\Temp\\ipykernel_25400\\1813308146.py\", line 37, in <module>\n",
      "    city_lat = city_weather[\"coord\"][\"lat\"]\n",
      "KeyError: 'coord'\n"
     ]
    },
    {
     "name": "stdout",
     "output_type": "stream",
     "text": [
      "Processing Record 30 of Set 7 | ponta do sol\n",
      "Processing Record 31 of Set 7 | salalah\n",
      "Processing Record 32 of Set 7 | azuaga\n",
      "Processing Record 33 of Set 7 | pochutla\n",
      "Processing Record 34 of Set 7 | xucheng\n",
      "Processing Record 35 of Set 7 | powell\n",
      "Processing Record 36 of Set 7 | feijo\n",
      "Processing Record 37 of Set 7 | aykhal\n",
      "Processing Record 38 of Set 7 | ocean city\n",
      "Processing Record 39 of Set 7 | khatanga\n",
      "Processing Record 40 of Set 7 | carutapera\n",
      "Processing Record 41 of Set 7 | sulangan\n",
      "Processing Record 42 of Set 7 | samarai\n",
      "Processing Record 43 of Set 7 | razole\n",
      "Processing Record 44 of Set 7 | kamaishi\n",
      "Processing Record 45 of Set 7 | talegaon dabhade\n",
      "Processing Record 46 of Set 7 | henties bay\n",
      "Processing Record 47 of Set 7 | azanka\n",
      "Processing Record 48 of Set 7 | santa rosa\n",
      "Processing Record 49 of Set 7 | adrar\n",
      "Processing Record 50 of Set 7 | buncrana\n",
      "Processing Record 1 of Set 8 | neiafu\n",
      "Processing Record 2 of Set 8 | qasigiannguit\n",
      "Processing Record 3 of Set 8 | ornskoldsvik\n",
      "Processing Record 4 of Set 8 | banda aceh\n",
      "Processing Record 5 of Set 8 | rumford\n",
      "Processing Record 6 of Set 8 | kieta\n",
      "Processing Record 7 of Set 8 | sabratah\n",
      "Processing Record 8 of Set 8 | pitimbu\n",
      "Processing Record 9 of Set 8 | buchen\n",
      "Processing Record 10 of Set 8 | haapiti\n",
      "Processing Record 11 of Set 8 | vila velha\n",
      "Processing Record 12 of Set 8 | yerbogachen\n",
      "Processing Record 13 of Set 8 | karla\n",
      "Processing Record 14 of Set 8 | ravensburg\n",
      "Processing Record 15 of Set 8 | puerto suarez\n",
      "Processing Record 16 of Set 8 | petropavlovsk-kamchatskiy\n",
      "Processing Record 17 of Set 8 | roma\n",
      "Processing Record 18 of Set 8 | turayf\n",
      "Processing Record 19 of Set 8 | wagar\n",
      "Processing Record 20 of Set 8 | amalapuram\n",
      "Processing Record 21 of Set 8 | gashua\n",
      "Processing Record 22 of Set 8 | cacequi\n",
      "Processing Record 23 of Set 8 | khonsar\n",
      "City not found. Skipping...\n",
      "Processing Record 24 of Set 8 | baft\n"
     ]
    },
    {
     "name": "stderr",
     "output_type": "stream",
     "text": [
      "Traceback (most recent call last):\n",
      "  File \"C:\\Users\\mbore\\AppData\\Local\\Temp\\ipykernel_25400\\1813308146.py\", line 37, in <module>\n",
      "    city_lat = city_weather[\"coord\"][\"lat\"]\n",
      "KeyError: 'coord'\n"
     ]
    },
    {
     "name": "stdout",
     "output_type": "stream",
     "text": [
      "Processing Record 25 of Set 8 | cayenne\n",
      "Processing Record 26 of Set 8 | ionia\n",
      "Processing Record 27 of Set 8 | lac du bonnet\n",
      "Processing Record 28 of Set 8 | tazovskiy\n",
      "Processing Record 29 of Set 8 | coari\n",
      "Processing Record 30 of Set 8 | tigil\n",
      "Processing Record 31 of Set 8 | saldanha\n",
      "Processing Record 32 of Set 8 | jiblah\n",
      "Processing Record 33 of Set 8 | floro\n",
      "Processing Record 34 of Set 8 | san ramon\n",
      "Processing Record 35 of Set 8 | luanda\n",
      "Processing Record 36 of Set 8 | clearwater\n",
      "Processing Record 37 of Set 8 | carlsbad\n",
      "Processing Record 38 of Set 8 | wittlich\n",
      "Processing Record 39 of Set 8 | alice springs\n",
      "Processing Record 40 of Set 8 | talnakh\n",
      "Processing Record 41 of Set 8 | velikiy novgorod\n",
      "Processing Record 42 of Set 8 | ituni\n",
      "City not found. Skipping...\n",
      "Processing Record 43 of Set 8 | miri\n"
     ]
    },
    {
     "name": "stderr",
     "output_type": "stream",
     "text": [
      "Traceback (most recent call last):\n",
      "  File \"C:\\Users\\mbore\\AppData\\Local\\Temp\\ipykernel_25400\\1813308146.py\", line 37, in <module>\n",
      "    city_lat = city_weather[\"coord\"][\"lat\"]\n",
      "KeyError: 'coord'\n"
     ]
    },
    {
     "name": "stdout",
     "output_type": "stream",
     "text": [
      "Processing Record 44 of Set 8 | tarrafal\n",
      "Processing Record 45 of Set 8 | eureka\n",
      "Processing Record 46 of Set 8 | kaseda\n",
      "Processing Record 47 of Set 8 | bereznik\n",
      "Processing Record 48 of Set 8 | mega\n",
      "Processing Record 49 of Set 8 | constitucion\n",
      "Processing Record 50 of Set 8 | nam som\n",
      "Processing Record 1 of Set 9 | komsomolskiy\n",
      "Processing Record 2 of Set 9 | wenling\n",
      "Processing Record 3 of Set 9 | alekseyevsk\n",
      "Processing Record 4 of Set 9 | visconde do rio branco\n",
      "Processing Record 5 of Set 9 | krasnoselkup\n",
      "Processing Record 6 of Set 9 | yar-sale\n",
      "Processing Record 7 of Set 9 | dhidhdhoo\n",
      "Processing Record 8 of Set 9 | jasper\n",
      "Processing Record 9 of Set 9 | mogzon\n",
      "Processing Record 10 of Set 9 | cedar rapids\n",
      "Processing Record 11 of Set 9 | kushima\n",
      "Processing Record 12 of Set 9 | bathsheba\n",
      "Processing Record 13 of Set 9 | crestview\n",
      "Processing Record 14 of Set 9 | thinadhoo\n",
      "Processing Record 15 of Set 9 | san quintin\n",
      "Processing Record 16 of Set 9 | camalu\n",
      "Processing Record 17 of Set 9 | pokhara\n",
      "Processing Record 18 of Set 9 | salinas\n",
      "Processing Record 19 of Set 9 | birao\n",
      "Processing Record 20 of Set 9 | marquette\n",
      "Processing Record 21 of Set 9 | nador\n",
      "Processing Record 22 of Set 9 | verkhoturye\n",
      "Processing Record 23 of Set 9 | andevoranto\n",
      "City not found. Skipping...\n",
      "Processing Record 24 of Set 9 | altay\n"
     ]
    },
    {
     "name": "stderr",
     "output_type": "stream",
     "text": [
      "Traceback (most recent call last):\n",
      "  File \"C:\\Users\\mbore\\AppData\\Local\\Temp\\ipykernel_25400\\1813308146.py\", line 37, in <module>\n",
      "    city_lat = city_weather[\"coord\"][\"lat\"]\n",
      "KeyError: 'coord'\n"
     ]
    },
    {
     "name": "stdout",
     "output_type": "stream",
     "text": [
      "Processing Record 25 of Set 9 | blackwater\n",
      "Processing Record 26 of Set 9 | acapulco\n",
      "Processing Record 27 of Set 9 | voyvozh\n",
      "Processing Record 28 of Set 9 | fort nelson\n",
      "Processing Record 29 of Set 9 | san patricio\n",
      "Processing Record 30 of Set 9 | lodja\n",
      "Processing Record 31 of Set 9 | itoigawa\n",
      "Processing Record 32 of Set 9 | kamenka\n",
      "Processing Record 33 of Set 9 | panalingaan\n",
      "Processing Record 34 of Set 9 | vagur\n",
      "Processing Record 35 of Set 9 | nchelenge\n",
      "Processing Record 36 of Set 9 | saleaula\n",
      "City not found. Skipping...\n",
      "Processing Record 37 of Set 9 | tiksi\n"
     ]
    },
    {
     "name": "stderr",
     "output_type": "stream",
     "text": [
      "Traceback (most recent call last):\n",
      "  File \"C:\\Users\\mbore\\AppData\\Local\\Temp\\ipykernel_25400\\1813308146.py\", line 37, in <module>\n",
      "    city_lat = city_weather[\"coord\"][\"lat\"]\n",
      "KeyError: 'coord'\n"
     ]
    },
    {
     "name": "stdout",
     "output_type": "stream",
     "text": [
      "Processing Record 38 of Set 9 | luderitz\n",
      "Processing Record 39 of Set 9 | humberto de campos\n",
      "Processing Record 40 of Set 9 | sydney\n",
      "Processing Record 41 of Set 9 | gustavo diaz ordaz\n",
      "Processing Record 42 of Set 9 | tokonou\n",
      "Processing Record 43 of Set 9 | tulancingo\n",
      "Processing Record 44 of Set 9 | newport\n",
      "Processing Record 45 of Set 9 | loukhi\n",
      "Processing Record 46 of Set 9 | bara\n",
      "Processing Record 47 of Set 9 | cururupu\n",
      "Processing Record 48 of Set 9 | mattawa\n",
      "Processing Record 49 of Set 9 | lompoc\n",
      "Processing Record 50 of Set 9 | port blair\n",
      "Processing Record 1 of Set 10 | severo-kurilsk\n",
      "Processing Record 2 of Set 10 | aden\n",
      "Processing Record 3 of Set 10 | west bay\n",
      "Processing Record 4 of Set 10 | minsk\n",
      "Processing Record 5 of Set 10 | yantikovo\n",
      "Processing Record 6 of Set 10 | san carlos de bariloche\n",
      "Processing Record 7 of Set 10 | coro\n",
      "Processing Record 8 of Set 10 | ocampo\n",
      "Processing Record 9 of Set 10 | makakilo city\n",
      "Processing Record 10 of Set 10 | grindavik\n",
      "Processing Record 11 of Set 10 | kalol\n",
      "Processing Record 12 of Set 10 | preobrazheniye\n",
      "Processing Record 13 of Set 10 | chapais\n",
      "Processing Record 14 of Set 10 | port lincoln\n",
      "Processing Record 15 of Set 10 | santa marta\n",
      "Processing Record 16 of Set 10 | tongliao\n",
      "Processing Record 17 of Set 10 | itacoatiara\n",
      "Processing Record 18 of Set 10 | leningradskiy\n",
      "Processing Record 19 of Set 10 | korla\n",
      "Processing Record 20 of Set 10 | mahebourg\n",
      "Processing Record 21 of Set 10 | alice\n",
      "Processing Record 22 of Set 10 | ippy\n",
      "Processing Record 23 of Set 10 | pombas\n",
      "Processing Record 24 of Set 10 | nizhnyaya tavda\n",
      "Processing Record 25 of Set 10 | catuday\n",
      "Processing Record 26 of Set 10 | kuah\n",
      "Processing Record 27 of Set 10 | waddan\n",
      "Processing Record 28 of Set 10 | noumea\n",
      "Processing Record 29 of Set 10 | thilogne\n",
      "City not found. Skipping...\n",
      "Processing Record 30 of Set 10 | paradwip\n"
     ]
    },
    {
     "name": "stderr",
     "output_type": "stream",
     "text": [
      "Traceback (most recent call last):\n",
      "  File \"C:\\Users\\mbore\\AppData\\Local\\Temp\\ipykernel_25400\\1813308146.py\", line 37, in <module>\n",
      "    city_lat = city_weather[\"coord\"][\"lat\"]\n",
      "KeyError: 'coord'\n"
     ]
    },
    {
     "name": "stdout",
     "output_type": "stream",
     "text": [
      "City not found. Skipping...\n",
      "Processing Record 31 of Set 10 | biscarrosse\n"
     ]
    },
    {
     "name": "stderr",
     "output_type": "stream",
     "text": [
      "Traceback (most recent call last):\n",
      "  File \"C:\\Users\\mbore\\AppData\\Local\\Temp\\ipykernel_25400\\1813308146.py\", line 37, in <module>\n",
      "    city_lat = city_weather[\"coord\"][\"lat\"]\n",
      "KeyError: 'coord'\n"
     ]
    },
    {
     "name": "stdout",
     "output_type": "stream",
     "text": [
      "Processing Record 32 of Set 10 | prince rupert\n",
      "Processing Record 33 of Set 10 | ahumada\n",
      "City not found. Skipping...\n",
      "Processing Record 34 of Set 10 | sumbe\n"
     ]
    },
    {
     "name": "stderr",
     "output_type": "stream",
     "text": [
      "Traceback (most recent call last):\n",
      "  File \"C:\\Users\\mbore\\AppData\\Local\\Temp\\ipykernel_25400\\1813308146.py\", line 37, in <module>\n",
      "    city_lat = city_weather[\"coord\"][\"lat\"]\n",
      "KeyError: 'coord'\n"
     ]
    },
    {
     "name": "stdout",
     "output_type": "stream",
     "text": [
      "Processing Record 35 of Set 10 | pokosnoye\n",
      "Processing Record 36 of Set 10 | nizhnevartovsk\n",
      "Processing Record 37 of Set 10 | praia\n",
      "Processing Record 38 of Set 10 | bengkulu\n",
      "Processing Record 39 of Set 10 | labuan\n",
      "Processing Record 40 of Set 10 | doctor pedro p. pena\n",
      "City not found. Skipping...\n",
      "Processing Record 41 of Set 10 | sobolevo\n"
     ]
    },
    {
     "name": "stderr",
     "output_type": "stream",
     "text": [
      "Traceback (most recent call last):\n",
      "  File \"C:\\Users\\mbore\\AppData\\Local\\Temp\\ipykernel_25400\\1813308146.py\", line 37, in <module>\n",
      "    city_lat = city_weather[\"coord\"][\"lat\"]\n",
      "KeyError: 'coord'\n"
     ]
    },
    {
     "name": "stdout",
     "output_type": "stream",
     "text": [
      "Processing Record 42 of Set 10 | killybegs\n",
      "Processing Record 43 of Set 10 | bautar\n",
      "Processing Record 44 of Set 10 | jinzhou\n",
      "Processing Record 45 of Set 10 | sorvag\n",
      "City not found. Skipping...\n",
      "Processing Record 46 of Set 10 | skovorodino\n"
     ]
    },
    {
     "name": "stderr",
     "output_type": "stream",
     "text": [
      "Traceback (most recent call last):\n",
      "  File \"C:\\Users\\mbore\\AppData\\Local\\Temp\\ipykernel_25400\\1813308146.py\", line 37, in <module>\n",
      "    city_lat = city_weather[\"coord\"][\"lat\"]\n",
      "KeyError: 'coord'\n"
     ]
    },
    {
     "name": "stdout",
     "output_type": "stream",
     "text": [
      "Processing Record 47 of Set 10 | kenitra\n",
      "Processing Record 48 of Set 10 | husavik\n",
      "Processing Record 49 of Set 10 | grand-santi\n",
      "Processing Record 50 of Set 10 | rawson\n",
      "Processing Record 1 of Set 11 | dormidontovka\n",
      "Processing Record 2 of Set 11 | hovd\n",
      "Processing Record 3 of Set 11 | carballo\n",
      "Processing Record 4 of Set 11 | dunedin\n",
      "Processing Record 5 of Set 11 | pakwach\n",
      "City not found. Skipping...\n",
      "Processing Record 6 of Set 11 | kayseri\n"
     ]
    },
    {
     "name": "stderr",
     "output_type": "stream",
     "text": [
      "Traceback (most recent call last):\n",
      "  File \"C:\\Users\\mbore\\AppData\\Local\\Temp\\ipykernel_25400\\1813308146.py\", line 37, in <module>\n",
      "    city_lat = city_weather[\"coord\"][\"lat\"]\n",
      "KeyError: 'coord'\n"
     ]
    },
    {
     "name": "stdout",
     "output_type": "stream",
     "text": [
      "Processing Record 7 of Set 11 | barbar\n",
      "City not found. Skipping...\n",
      "Processing Record 8 of Set 11 | puerto quijarro\n"
     ]
    },
    {
     "name": "stderr",
     "output_type": "stream",
     "text": [
      "Traceback (most recent call last):\n",
      "  File \"C:\\Users\\mbore\\AppData\\Local\\Temp\\ipykernel_25400\\1813308146.py\", line 37, in <module>\n",
      "    city_lat = city_weather[\"coord\"][\"lat\"]\n",
      "KeyError: 'coord'\n"
     ]
    },
    {
     "name": "stdout",
     "output_type": "stream",
     "text": [
      "Processing Record 9 of Set 11 | alakurtti\n",
      "Processing Record 10 of Set 11 | isangel\n",
      "Processing Record 11 of Set 11 | stromness\n",
      "Processing Record 12 of Set 11 | shestakovo\n",
      "Processing Record 13 of Set 11 | bologoye\n",
      "Processing Record 14 of Set 11 | terrace bay\n",
      "Processing Record 15 of Set 11 | tiznit\n",
      "Processing Record 16 of Set 11 | kluczbork\n",
      "Processing Record 17 of Set 11 | sovetskiy\n",
      "Processing Record 18 of Set 11 | rybachiy\n",
      "Processing Record 19 of Set 11 | chaykovskaya\n",
      "Processing Record 20 of Set 11 | tilichiki\n",
      "Processing Record 21 of Set 11 | nueva gerona\n",
      "Processing Record 22 of Set 11 | grand island\n",
      "Processing Record 23 of Set 11 | bac lieu\n",
      "Processing Record 24 of Set 11 | kutum\n",
      "Processing Record 25 of Set 11 | chettipalaiyam\n",
      "Processing Record 26 of Set 11 | van buren\n",
      "Processing Record 27 of Set 11 | tadine\n",
      "Processing Record 28 of Set 11 | kununurra\n",
      "Processing Record 29 of Set 11 | pagudpud\n",
      "Processing Record 30 of Set 11 | pingliang\n",
      "Processing Record 31 of Set 11 | uchaly\n",
      "Processing Record 32 of Set 11 | coquimbo\n",
      "Processing Record 33 of Set 11 | kudahuvadhoo\n",
      "Processing Record 34 of Set 11 | general roca\n",
      "Processing Record 35 of Set 11 | sao filipe\n",
      "Processing Record 36 of Set 11 | mandalgovi\n",
      "Processing Record 37 of Set 11 | kasaragod\n",
      "Processing Record 38 of Set 11 | beringovskiy\n",
      "Processing Record 39 of Set 11 | goundam\n",
      "Processing Record 40 of Set 11 | santa isabel do rio negro\n",
      "Processing Record 41 of Set 11 | takoradi\n",
      "Processing Record 42 of Set 11 | makarov\n",
      "Processing Record 43 of Set 11 | evensk\n",
      "Processing Record 44 of Set 11 | sambava\n",
      "Processing Record 45 of Set 11 | vanimo\n",
      "Processing Record 46 of Set 11 | manono\n",
      "Processing Record 47 of Set 11 | shingu\n",
      "Processing Record 48 of Set 11 | gualeguay\n",
      "Processing Record 49 of Set 11 | cam ranh\n",
      "Processing Record 50 of Set 11 | beyneu\n",
      "Processing Record 1 of Set 12 | techiman\n",
      "Processing Record 2 of Set 12 | hirara\n",
      "Processing Record 3 of Set 12 | birin\n",
      "Processing Record 4 of Set 12 | baracoa\n",
      "Processing Record 5 of Set 12 | huilong\n",
      "Processing Record 6 of Set 12 | bereda\n",
      "Processing Record 7 of Set 12 | langsa\n",
      "Processing Record 8 of Set 12 | bastrop\n",
      "Processing Record 9 of Set 12 | liverpool\n",
      "Processing Record 10 of Set 12 | sur\n",
      "Processing Record 11 of Set 12 | mergui\n",
      "City not found. Skipping...\n",
      "Processing Record 12 of Set 12 | biak\n"
     ]
    },
    {
     "name": "stderr",
     "output_type": "stream",
     "text": [
      "Traceback (most recent call last):\n",
      "  File \"C:\\Users\\mbore\\AppData\\Local\\Temp\\ipykernel_25400\\1813308146.py\", line 37, in <module>\n",
      "    city_lat = city_weather[\"coord\"][\"lat\"]\n",
      "KeyError: 'coord'\n"
     ]
    },
    {
     "name": "stdout",
     "output_type": "stream",
     "text": [
      "Processing Record 13 of Set 12 | kuche\n",
      "City not found. Skipping...\n",
      "Processing Record 14 of Set 12 | khonuu\n"
     ]
    },
    {
     "name": "stderr",
     "output_type": "stream",
     "text": [
      "Traceback (most recent call last):\n",
      "  File \"C:\\Users\\mbore\\AppData\\Local\\Temp\\ipykernel_25400\\1813308146.py\", line 37, in <module>\n",
      "    city_lat = city_weather[\"coord\"][\"lat\"]\n",
      "KeyError: 'coord'\n"
     ]
    },
    {
     "name": "stdout",
     "output_type": "stream",
     "text": [
      "City not found. Skipping...\n",
      "Processing Record 15 of Set 12 | koslan\n"
     ]
    },
    {
     "name": "stderr",
     "output_type": "stream",
     "text": [
      "Traceback (most recent call last):\n",
      "  File \"C:\\Users\\mbore\\AppData\\Local\\Temp\\ipykernel_25400\\1813308146.py\", line 37, in <module>\n",
      "    city_lat = city_weather[\"coord\"][\"lat\"]\n",
      "KeyError: 'coord'\n"
     ]
    },
    {
     "name": "stdout",
     "output_type": "stream",
     "text": [
      "Processing Record 16 of Set 12 | scarborough\n",
      "Processing Record 17 of Set 12 | cartagena\n",
      "Processing Record 18 of Set 12 | hun\n",
      "Processing Record 19 of Set 12 | general pico\n",
      "Processing Record 20 of Set 12 | sabattus\n",
      "Processing Record 21 of Set 12 | bismarck\n",
      "Processing Record 22 of Set 12 | udachnyy\n",
      "Processing Record 23 of Set 12 | pangkalanbuun\n",
      "Processing Record 24 of Set 12 | brae\n",
      "Processing Record 25 of Set 12 | pak phanang\n",
      "Processing Record 26 of Set 12 | port-gentil\n",
      "Processing Record 27 of Set 12 | golden\n",
      "Processing Record 28 of Set 12 | hanko\n",
      "Processing Record 29 of Set 12 | viedma\n",
      "Processing Record 30 of Set 12 | freeport\n",
      "Processing Record 31 of Set 12 | namibe\n",
      "Processing Record 32 of Set 12 | oyama\n",
      "Processing Record 33 of Set 12 | alamogordo\n",
      "Processing Record 34 of Set 12 | sembabule\n",
      "Processing Record 35 of Set 12 | dianopolis\n",
      "City not found. Skipping...\n",
      "Processing Record 36 of Set 12 | inirida\n"
     ]
    },
    {
     "name": "stderr",
     "output_type": "stream",
     "text": [
      "Traceback (most recent call last):\n",
      "  File \"C:\\Users\\mbore\\AppData\\Local\\Temp\\ipykernel_25400\\1813308146.py\", line 37, in <module>\n",
      "    city_lat = city_weather[\"coord\"][\"lat\"]\n",
      "KeyError: 'coord'\n"
     ]
    },
    {
     "name": "stdout",
     "output_type": "stream",
     "text": [
      "Processing Record 37 of Set 12 | sao joao de pirabas\n",
      "Processing Record 38 of Set 12 | tyukalinsk\n",
      "Processing Record 39 of Set 12 | kokopo\n",
      "Processing Record 40 of Set 12 | jaisinghnagar\n",
      "Processing Record 41 of Set 12 | namatanai\n",
      "Processing Record 42 of Set 12 | kiama\n",
      "Processing Record 43 of Set 12 | lipin bor\n",
      "Processing Record 44 of Set 12 | bardiyah\n",
      "Processing Record 45 of Set 12 | piscu vechi\n",
      "Processing Record 46 of Set 12 | valente\n",
      "Processing Record 47 of Set 12 | umba\n",
      "Processing Record 48 of Set 12 | manokwari\n",
      "Processing Record 49 of Set 12 | smithers\n",
      "Processing Record 50 of Set 12 | villacarrillo\n",
      "Processing Record 1 of Set 13 | nizwa\n",
      "Processing Record 2 of Set 13 | nadvoitsy\n",
      "Processing Record 3 of Set 13 | pimentel\n",
      "Processing Record 4 of Set 13 | nizhneyansk\n",
      "City not found. Skipping...\n",
      "Processing Record 5 of Set 13 | san rafael\n"
     ]
    },
    {
     "name": "stderr",
     "output_type": "stream",
     "text": [
      "Traceback (most recent call last):\n",
      "  File \"C:\\Users\\mbore\\AppData\\Local\\Temp\\ipykernel_25400\\1813308146.py\", line 37, in <module>\n",
      "    city_lat = city_weather[\"coord\"][\"lat\"]\n",
      "KeyError: 'coord'\n"
     ]
    },
    {
     "name": "stdout",
     "output_type": "stream",
     "text": [
      "Processing Record 6 of Set 13 | la ronge\n",
      "Processing Record 7 of Set 13 | hobe sound\n",
      "Processing Record 8 of Set 13 | howard springs\n",
      "Processing Record 9 of Set 13 | pital\n",
      "Processing Record 10 of Set 13 | angra\n",
      "City not found. Skipping...\n",
      "Processing Record 11 of Set 13 | sahrak\n"
     ]
    },
    {
     "name": "stderr",
     "output_type": "stream",
     "text": [
      "Traceback (most recent call last):\n",
      "  File \"C:\\Users\\mbore\\AppData\\Local\\Temp\\ipykernel_25400\\1813308146.py\", line 37, in <module>\n",
      "    city_lat = city_weather[\"coord\"][\"lat\"]\n",
      "KeyError: 'coord'\n"
     ]
    },
    {
     "name": "stdout",
     "output_type": "stream",
     "text": [
      "City not found. Skipping...\n",
      "Processing Record 12 of Set 13 | harrisonville\n"
     ]
    },
    {
     "name": "stderr",
     "output_type": "stream",
     "text": [
      "Traceback (most recent call last):\n",
      "  File \"C:\\Users\\mbore\\AppData\\Local\\Temp\\ipykernel_25400\\1813308146.py\", line 37, in <module>\n",
      "    city_lat = city_weather[\"coord\"][\"lat\"]\n",
      "KeyError: 'coord'\n"
     ]
    },
    {
     "name": "stdout",
     "output_type": "stream",
     "text": [
      "Processing Record 13 of Set 13 | sungairaya\n",
      "Processing Record 14 of Set 13 | dryden\n",
      "Processing Record 15 of Set 13 | ketchikan\n",
      "Processing Record 16 of Set 13 | sol-iletsk\n",
      "Processing Record 17 of Set 13 | ichhawar\n",
      "Processing Record 18 of Set 13 | amberley\n",
      "Processing Record 19 of Set 13 | northam\n",
      "Processing Record 20 of Set 13 | alyangula\n",
      "Processing Record 21 of Set 13 | mirnyy\n",
      "Processing Record 22 of Set 13 | azimur\n",
      "City not found. Skipping...\n",
      "Processing Record 23 of Set 13 | oda\n"
     ]
    },
    {
     "name": "stderr",
     "output_type": "stream",
     "text": [
      "Traceback (most recent call last):\n",
      "  File \"C:\\Users\\mbore\\AppData\\Local\\Temp\\ipykernel_25400\\1813308146.py\", line 37, in <module>\n",
      "    city_lat = city_weather[\"coord\"][\"lat\"]\n",
      "KeyError: 'coord'\n"
     ]
    },
    {
     "name": "stdout",
     "output_type": "stream",
     "text": [
      "Processing Record 24 of Set 13 | machali\n",
      "Processing Record 25 of Set 13 | moerai\n",
      "Processing Record 26 of Set 13 | george town\n",
      "-----------------------------\n",
      "Data Retrieval Complete      \n",
      "-----------------------------\n"
     ]
    }
   ],
   "source": [
    "# Create an empty list to hold the weather data.\n",
    "city_data = []\n",
    "\n",
    "# Print the beginning of the logging.\n",
    "print(\"Beginning Data Retrieval     \")\n",
    "print(\"-----------------------------\")\n",
    "\n",
    "# Create counters.\n",
    "record_count = 1\n",
    "set_count = 1\n",
    "\n",
    "# Starting URL for Weather Map API Call.\n",
    "url = \"http://api.openweathermap.org/data/2.5/weather?units=Imperial&APPID=\" + weather_api_key\n",
    "\n",
    "# Loop through all the cities in our list.\n",
    "for i, city in enumerate(cities):\n",
    "\n",
    "    # Group cities in sets of 50 for logging purposes.\n",
    "    if (i % 50 == 0 and i >= 50):\n",
    "        set_count += 1\n",
    "        record_count = 1\n",
    "        time.sleep(60)\n",
    "\n",
    "    # Create endpoint URL with each city.\n",
    "    city_url = url + \"&q=\" + city.replace(\" \",\"+\")\n",
    "    \n",
    "    # Log the URL, record, and set numbers and the city.\n",
    "    print(f\"Processing Record {record_count} of Set {set_count} | {city}\")\n",
    "    # Add 1 to the record count.\n",
    "    record_count += 1\n",
    "    \n",
    "    # Run an API request for each of the cities.\n",
    "    try:\n",
    "        # Parse the JSON and retrieve data.\n",
    "        city_weather = requests.get(city_url).json()\n",
    "        # Parse out the needed data.\n",
    "        city_lat = city_weather[\"coord\"][\"lat\"]\n",
    "        city_lng = city_weather[\"coord\"][\"lon\"]\n",
    "        city_max_temp = city_weather[\"main\"][\"temp_max\"]\n",
    "        city_humidity = city_weather[\"main\"][\"humidity\"]\n",
    "        city_clouds = city_weather[\"clouds\"][\"all\"]\n",
    "        city_wind = city_weather[\"wind\"][\"speed\"]\n",
    "        city_country = city_weather[\"sys\"][\"country\"]\n",
    "        # Convert the date to ISO standard.\n",
    "        city_date = datetime.utcfromtimestamp(city_weather[\"dt\"]).strftime('%Y-%m-%d %H:%M:%S')\n",
    "        # Append the city information into city_data list.\n",
    "        city_data.append({\"City\": city.title(),\n",
    "                          \"Lat\": city_lat,\n",
    "                          \"Lng\": city_lng,\n",
    "                          \"Max Temp\": city_max_temp,\n",
    "                          \"Humidity\": city_humidity,\n",
    "                          \"Cloudiness\": city_clouds,\n",
    "                          \"Wind Speed\": city_wind,\n",
    "                          \"Country\": city_country,\n",
    "                          \"Date\": city_date})\n",
    "\n",
    "# If an error is experienced, skip the city.\n",
    "    except Exception:\n",
    "        print(\"City not found. Skipping...\")\n",
    "        traceback.print_exc()\n",
    "        pass\n",
    "\n",
    "# Indicate that Data Loading is complete.\n",
    "print(\"-----------------------------\")\n",
    "print(\"Data Retrieval Complete      \")\n",
    "print(\"-----------------------------\")"
   ]
  },
  {
   "cell_type": "code",
   "execution_count": 10,
   "id": "cdadff9c",
   "metadata": {},
   "outputs": [
    {
     "data": {
      "text/plain": [
       "576"
      ]
     },
     "execution_count": 10,
     "metadata": {},
     "output_type": "execute_result"
    }
   ],
   "source": [
    "len(city_data)"
   ]
  },
  {
   "cell_type": "code",
   "execution_count": 11,
   "id": "4c125845",
   "metadata": {},
   "outputs": [
    {
     "data": {
      "text/html": [
       "<div>\n",
       "<style scoped>\n",
       "    .dataframe tbody tr th:only-of-type {\n",
       "        vertical-align: middle;\n",
       "    }\n",
       "\n",
       "    .dataframe tbody tr th {\n",
       "        vertical-align: top;\n",
       "    }\n",
       "\n",
       "    .dataframe thead th {\n",
       "        text-align: right;\n",
       "    }\n",
       "</style>\n",
       "<table border=\"1\" class=\"dataframe\">\n",
       "  <thead>\n",
       "    <tr style=\"text-align: right;\">\n",
       "      <th></th>\n",
       "      <th>City</th>\n",
       "      <th>Lat</th>\n",
       "      <th>Lng</th>\n",
       "      <th>Max Temp</th>\n",
       "      <th>Humidity</th>\n",
       "      <th>Cloudiness</th>\n",
       "      <th>Wind Speed</th>\n",
       "      <th>Country</th>\n",
       "      <th>Date</th>\n",
       "    </tr>\n",
       "  </thead>\n",
       "  <tbody>\n",
       "    <tr>\n",
       "      <th>0</th>\n",
       "      <td>Saskylakh</td>\n",
       "      <td>71.9167</td>\n",
       "      <td>114.0833</td>\n",
       "      <td>41.76</td>\n",
       "      <td>48</td>\n",
       "      <td>10</td>\n",
       "      <td>7.74</td>\n",
       "      <td>RU</td>\n",
       "      <td>2022-07-07 18:21:19</td>\n",
       "    </tr>\n",
       "    <tr>\n",
       "      <th>1</th>\n",
       "      <td>Road Town</td>\n",
       "      <td>18.4167</td>\n",
       "      <td>-64.6167</td>\n",
       "      <td>87.84</td>\n",
       "      <td>62</td>\n",
       "      <td>40</td>\n",
       "      <td>9.22</td>\n",
       "      <td>VG</td>\n",
       "      <td>2022-07-07 18:21:03</td>\n",
       "    </tr>\n",
       "    <tr>\n",
       "      <th>2</th>\n",
       "      <td>Hermanus</td>\n",
       "      <td>-34.4187</td>\n",
       "      <td>19.2345</td>\n",
       "      <td>57.02</td>\n",
       "      <td>85</td>\n",
       "      <td>93</td>\n",
       "      <td>3.38</td>\n",
       "      <td>ZA</td>\n",
       "      <td>2022-07-07 18:21:20</td>\n",
       "    </tr>\n",
       "    <tr>\n",
       "      <th>3</th>\n",
       "      <td>Matara</td>\n",
       "      <td>5.9485</td>\n",
       "      <td>80.5353</td>\n",
       "      <td>79.00</td>\n",
       "      <td>81</td>\n",
       "      <td>100</td>\n",
       "      <td>9.37</td>\n",
       "      <td>LK</td>\n",
       "      <td>2022-07-07 18:21:21</td>\n",
       "    </tr>\n",
       "    <tr>\n",
       "      <th>4</th>\n",
       "      <td>Mataura</td>\n",
       "      <td>-46.1927</td>\n",
       "      <td>168.8643</td>\n",
       "      <td>46.47</td>\n",
       "      <td>93</td>\n",
       "      <td>100</td>\n",
       "      <td>11.59</td>\n",
       "      <td>NZ</td>\n",
       "      <td>2022-07-07 18:21:22</td>\n",
       "    </tr>\n",
       "    <tr>\n",
       "      <th>5</th>\n",
       "      <td>San Pedro De Lloc</td>\n",
       "      <td>-7.4328</td>\n",
       "      <td>-79.5058</td>\n",
       "      <td>68.56</td>\n",
       "      <td>66</td>\n",
       "      <td>26</td>\n",
       "      <td>13.38</td>\n",
       "      <td>PE</td>\n",
       "      <td>2022-07-07 18:21:22</td>\n",
       "    </tr>\n",
       "    <tr>\n",
       "      <th>6</th>\n",
       "      <td>Katsuura</td>\n",
       "      <td>35.1333</td>\n",
       "      <td>140.3000</td>\n",
       "      <td>71.85</td>\n",
       "      <td>86</td>\n",
       "      <td>22</td>\n",
       "      <td>14.07</td>\n",
       "      <td>JP</td>\n",
       "      <td>2022-07-07 18:21:23</td>\n",
       "    </tr>\n",
       "    <tr>\n",
       "      <th>7</th>\n",
       "      <td>Ushuaia</td>\n",
       "      <td>-54.8000</td>\n",
       "      <td>-68.3000</td>\n",
       "      <td>35.26</td>\n",
       "      <td>64</td>\n",
       "      <td>20</td>\n",
       "      <td>9.22</td>\n",
       "      <td>AR</td>\n",
       "      <td>2022-07-07 18:16:54</td>\n",
       "    </tr>\n",
       "    <tr>\n",
       "      <th>8</th>\n",
       "      <td>Chokurdakh</td>\n",
       "      <td>70.6333</td>\n",
       "      <td>147.9167</td>\n",
       "      <td>52.09</td>\n",
       "      <td>68</td>\n",
       "      <td>99</td>\n",
       "      <td>5.19</td>\n",
       "      <td>RU</td>\n",
       "      <td>2022-07-07 18:21:24</td>\n",
       "    </tr>\n",
       "    <tr>\n",
       "      <th>9</th>\n",
       "      <td>Atuona</td>\n",
       "      <td>-9.8000</td>\n",
       "      <td>-139.0333</td>\n",
       "      <td>77.67</td>\n",
       "      <td>74</td>\n",
       "      <td>27</td>\n",
       "      <td>21.88</td>\n",
       "      <td>PF</td>\n",
       "      <td>2022-07-07 18:21:26</td>\n",
       "    </tr>\n",
       "  </tbody>\n",
       "</table>\n",
       "</div>"
      ],
      "text/plain": [
       "                City      Lat       Lng  Max Temp  Humidity  Cloudiness  \\\n",
       "0          Saskylakh  71.9167  114.0833     41.76        48          10   \n",
       "1          Road Town  18.4167  -64.6167     87.84        62          40   \n",
       "2           Hermanus -34.4187   19.2345     57.02        85          93   \n",
       "3             Matara   5.9485   80.5353     79.00        81         100   \n",
       "4            Mataura -46.1927  168.8643     46.47        93         100   \n",
       "5  San Pedro De Lloc  -7.4328  -79.5058     68.56        66          26   \n",
       "6           Katsuura  35.1333  140.3000     71.85        86          22   \n",
       "7            Ushuaia -54.8000  -68.3000     35.26        64          20   \n",
       "8         Chokurdakh  70.6333  147.9167     52.09        68          99   \n",
       "9             Atuona  -9.8000 -139.0333     77.67        74          27   \n",
       "\n",
       "   Wind Speed Country                 Date  \n",
       "0        7.74      RU  2022-07-07 18:21:19  \n",
       "1        9.22      VG  2022-07-07 18:21:03  \n",
       "2        3.38      ZA  2022-07-07 18:21:20  \n",
       "3        9.37      LK  2022-07-07 18:21:21  \n",
       "4       11.59      NZ  2022-07-07 18:21:22  \n",
       "5       13.38      PE  2022-07-07 18:21:22  \n",
       "6       14.07      JP  2022-07-07 18:21:23  \n",
       "7        9.22      AR  2022-07-07 18:16:54  \n",
       "8        5.19      RU  2022-07-07 18:21:24  \n",
       "9       21.88      PF  2022-07-07 18:21:26  "
      ]
     },
     "execution_count": 11,
     "metadata": {},
     "output_type": "execute_result"
    }
   ],
   "source": [
    "# Covert the array of dictionaries to a Pandas DataFrame\n",
    "city_data_df = pd.DataFrame(city_data)\n",
    "city_data_df.head(10)"
   ]
  },
  {
   "cell_type": "code",
   "execution_count": 12,
   "id": "8e6ca1e2",
   "metadata": {},
   "outputs": [
    {
     "data": {
      "text/html": [
       "<div>\n",
       "<style scoped>\n",
       "    .dataframe tbody tr th:only-of-type {\n",
       "        vertical-align: middle;\n",
       "    }\n",
       "\n",
       "    .dataframe tbody tr th {\n",
       "        vertical-align: top;\n",
       "    }\n",
       "\n",
       "    .dataframe thead th {\n",
       "        text-align: right;\n",
       "    }\n",
       "</style>\n",
       "<table border=\"1\" class=\"dataframe\">\n",
       "  <thead>\n",
       "    <tr style=\"text-align: right;\">\n",
       "      <th></th>\n",
       "      <th>City</th>\n",
       "      <th>Country</th>\n",
       "      <th>Date</th>\n",
       "      <th>Lat</th>\n",
       "      <th>Lng</th>\n",
       "      <th>Max Temp</th>\n",
       "      <th>Humidity</th>\n",
       "      <th>Cloudiness</th>\n",
       "      <th>Wind Speed</th>\n",
       "    </tr>\n",
       "  </thead>\n",
       "  <tbody>\n",
       "    <tr>\n",
       "      <th>0</th>\n",
       "      <td>Saskylakh</td>\n",
       "      <td>RU</td>\n",
       "      <td>2022-07-07 18:21:19</td>\n",
       "      <td>71.9167</td>\n",
       "      <td>114.0833</td>\n",
       "      <td>41.76</td>\n",
       "      <td>48</td>\n",
       "      <td>10</td>\n",
       "      <td>7.74</td>\n",
       "    </tr>\n",
       "    <tr>\n",
       "      <th>1</th>\n",
       "      <td>Road Town</td>\n",
       "      <td>VG</td>\n",
       "      <td>2022-07-07 18:21:03</td>\n",
       "      <td>18.4167</td>\n",
       "      <td>-64.6167</td>\n",
       "      <td>87.84</td>\n",
       "      <td>62</td>\n",
       "      <td>40</td>\n",
       "      <td>9.22</td>\n",
       "    </tr>\n",
       "    <tr>\n",
       "      <th>2</th>\n",
       "      <td>Hermanus</td>\n",
       "      <td>ZA</td>\n",
       "      <td>2022-07-07 18:21:20</td>\n",
       "      <td>-34.4187</td>\n",
       "      <td>19.2345</td>\n",
       "      <td>57.02</td>\n",
       "      <td>85</td>\n",
       "      <td>93</td>\n",
       "      <td>3.38</td>\n",
       "    </tr>\n",
       "    <tr>\n",
       "      <th>3</th>\n",
       "      <td>Matara</td>\n",
       "      <td>LK</td>\n",
       "      <td>2022-07-07 18:21:21</td>\n",
       "      <td>5.9485</td>\n",
       "      <td>80.5353</td>\n",
       "      <td>79.00</td>\n",
       "      <td>81</td>\n",
       "      <td>100</td>\n",
       "      <td>9.37</td>\n",
       "    </tr>\n",
       "    <tr>\n",
       "      <th>4</th>\n",
       "      <td>Mataura</td>\n",
       "      <td>NZ</td>\n",
       "      <td>2022-07-07 18:21:22</td>\n",
       "      <td>-46.1927</td>\n",
       "      <td>168.8643</td>\n",
       "      <td>46.47</td>\n",
       "      <td>93</td>\n",
       "      <td>100</td>\n",
       "      <td>11.59</td>\n",
       "    </tr>\n",
       "    <tr>\n",
       "      <th>5</th>\n",
       "      <td>San Pedro De Lloc</td>\n",
       "      <td>PE</td>\n",
       "      <td>2022-07-07 18:21:22</td>\n",
       "      <td>-7.4328</td>\n",
       "      <td>-79.5058</td>\n",
       "      <td>68.56</td>\n",
       "      <td>66</td>\n",
       "      <td>26</td>\n",
       "      <td>13.38</td>\n",
       "    </tr>\n",
       "    <tr>\n",
       "      <th>6</th>\n",
       "      <td>Katsuura</td>\n",
       "      <td>JP</td>\n",
       "      <td>2022-07-07 18:21:23</td>\n",
       "      <td>35.1333</td>\n",
       "      <td>140.3000</td>\n",
       "      <td>71.85</td>\n",
       "      <td>86</td>\n",
       "      <td>22</td>\n",
       "      <td>14.07</td>\n",
       "    </tr>\n",
       "    <tr>\n",
       "      <th>7</th>\n",
       "      <td>Ushuaia</td>\n",
       "      <td>AR</td>\n",
       "      <td>2022-07-07 18:16:54</td>\n",
       "      <td>-54.8000</td>\n",
       "      <td>-68.3000</td>\n",
       "      <td>35.26</td>\n",
       "      <td>64</td>\n",
       "      <td>20</td>\n",
       "      <td>9.22</td>\n",
       "    </tr>\n",
       "    <tr>\n",
       "      <th>8</th>\n",
       "      <td>Chokurdakh</td>\n",
       "      <td>RU</td>\n",
       "      <td>2022-07-07 18:21:24</td>\n",
       "      <td>70.6333</td>\n",
       "      <td>147.9167</td>\n",
       "      <td>52.09</td>\n",
       "      <td>68</td>\n",
       "      <td>99</td>\n",
       "      <td>5.19</td>\n",
       "    </tr>\n",
       "    <tr>\n",
       "      <th>9</th>\n",
       "      <td>Atuona</td>\n",
       "      <td>PF</td>\n",
       "      <td>2022-07-07 18:21:26</td>\n",
       "      <td>-9.8000</td>\n",
       "      <td>-139.0333</td>\n",
       "      <td>77.67</td>\n",
       "      <td>74</td>\n",
       "      <td>27</td>\n",
       "      <td>21.88</td>\n",
       "    </tr>\n",
       "  </tbody>\n",
       "</table>\n",
       "</div>"
      ],
      "text/plain": [
       "                City Country                 Date      Lat       Lng  \\\n",
       "0          Saskylakh      RU  2022-07-07 18:21:19  71.9167  114.0833   \n",
       "1          Road Town      VG  2022-07-07 18:21:03  18.4167  -64.6167   \n",
       "2           Hermanus      ZA  2022-07-07 18:21:20 -34.4187   19.2345   \n",
       "3             Matara      LK  2022-07-07 18:21:21   5.9485   80.5353   \n",
       "4            Mataura      NZ  2022-07-07 18:21:22 -46.1927  168.8643   \n",
       "5  San Pedro De Lloc      PE  2022-07-07 18:21:22  -7.4328  -79.5058   \n",
       "6           Katsuura      JP  2022-07-07 18:21:23  35.1333  140.3000   \n",
       "7            Ushuaia      AR  2022-07-07 18:16:54 -54.8000  -68.3000   \n",
       "8         Chokurdakh      RU  2022-07-07 18:21:24  70.6333  147.9167   \n",
       "9             Atuona      PF  2022-07-07 18:21:26  -9.8000 -139.0333   \n",
       "\n",
       "   Max Temp  Humidity  Cloudiness  Wind Speed  \n",
       "0     41.76        48          10        7.74  \n",
       "1     87.84        62          40        9.22  \n",
       "2     57.02        85          93        3.38  \n",
       "3     79.00        81         100        9.37  \n",
       "4     46.47        93         100       11.59  \n",
       "5     68.56        66          26       13.38  \n",
       "6     71.85        86          22       14.07  \n",
       "7     35.26        64          20        9.22  \n",
       "8     52.09        68          99        5.19  \n",
       "9     77.67        74          27       21.88  "
      ]
     },
     "execution_count": 12,
     "metadata": {},
     "output_type": "execute_result"
    }
   ],
   "source": [
    "# Reorder columns of city DataFrame\n",
    "new_column_order = [\"City\", \"Country\", \"Date\", \"Lat\", \"Lng\", \"Max Temp\", \"Humidity\", \"Cloudiness\", \"Wind Speed\"]\n",
    "city_data_df = city_data_df[new_column_order]\n",
    "city_data_df.head(10)"
   ]
  },
  {
   "cell_type": "code",
   "execution_count": 13,
   "id": "b497a950",
   "metadata": {},
   "outputs": [],
   "source": [
    "# Create the output file (csv).\n",
    "output_data_file = \"weather_data/cities.csv\"\n",
    "\n",
    "# Export the city_data into a csv\n",
    "city_data_df.to_csv(output_data_file, index_label = \"City_ID\")"
   ]
  },
  {
   "cell_type": "code",
   "execution_count": 23,
   "id": "c1717170",
   "metadata": {},
   "outputs": [],
   "source": [
    "# Import csv file\n",
    "city_weather_data_to_load = \"weather_data/cities.csv\"\n",
    "\n",
    "# Read the csv file\n",
    "city_data_df = pd.read_csv(city_weather_data_to_load)"
   ]
  },
  {
   "cell_type": "code",
   "execution_count": 24,
   "id": "6b141e5a",
   "metadata": {},
   "outputs": [],
   "source": [
    "# Extract relevant fields from the DataFrame for plotting.\n",
    "lats = city_data_df[\"Lat\"]\n",
    "max_temps = city_data_df[\"Max Temp\"]\n",
    "humidity = city_data_df[\"Humidity\"]\n",
    "cloudiness = city_data_df[\"Cloudiness\"]\n",
    "wind_speed = city_data_df[\"Wind Speed\"]"
   ]
  },
  {
   "cell_type": "code",
   "execution_count": 25,
   "id": "1f2af900",
   "metadata": {},
   "outputs": [
    {
     "data": {
      "image/png": "[encoded data removed]",
      "text/plain": [
       "<Figure size 432x288 with 1 Axes>"
      ]
     },
     "metadata": {
      "needs_background": "light"
     },
     "output_type": "display_data"
    }
   ],
   "source": [
    "# Import the time module\n",
    "import time\n",
    "\n",
    "# Build the scatter plot for latitude vs max temperature\n",
    "plt.scatter(lats,\n",
    "            max_temps,\n",
    "            edgecolor = \"black\", linewidths = 1, marker = \"o\",\n",
    "            alpha = 0.8, label = \"Cities\")\n",
    "    \n",
    "# Incorporate the other graph properties.\n",
    "plt.title(f\"City Latitude vs Max Temperature\"+time.strftime(\"%x\"))\n",
    "plt.ylabel(\"Max Temperaure (F)\")\n",
    "plt.xlabel(\"Latitude\")\n",
    "plt.grid(True)\n",
    "\n",
    "# Save the figure\n",
    "plt.savefig(\"weather_data/Fig1.png\")\n",
    "\n",
    "# Show plot\n",
    "plt.show()"
   ]
  },
  {
   "cell_type": "code",
   "execution_count": 26,
   "id": "aa87629d",
   "metadata": {},
   "outputs": [
    {
     "data": {
      "image/png": "[encoded data removed]",
      "text/plain": [
       "<Figure size 432x288 with 1 Axes>"
      ]
     },
     "metadata": {
      "needs_background": "light"
     },
     "output_type": "display_data"
    }
   ],
   "source": [
    "# Build the scatter plot for humidity vs max temperature\n",
    "plt.scatter(lats,\n",
    "            humidity,\n",
    "            edgecolor = \"black\", linewidths = 1, marker = \"o\",\n",
    "            alpha = 0.8, label = \"Cities\")\n",
    "    \n",
    "# Incorporate the other graph properties.\n",
    "plt.title(f\"City Latitude vs Max Temperature\"+time.strftime(\"%x\"))\n",
    "plt.ylabel(\"Humidity (%)\")\n",
    "plt.xlabel(\"Latitude\")\n",
    "plt.grid(True)\n",
    "\n",
    "# Save the figure\n",
    "plt.savefig(\"weather_data/Fig2.png\")\n",
    "\n",
    "# Show plot\n",
    "plt.show()"
   ]
  },
  {
   "cell_type": "code",
   "execution_count": 27,
   "id": "a43440af",
   "metadata": {},
   "outputs": [
    {
     "data": {
      "image/png": "[encoded data removed]",
      "text/plain": [
       "<Figure size 432x288 with 1 Axes>"
      ]
     },
     "metadata": {
      "needs_background": "light"
     },
     "output_type": "display_data"
    }
   ],
   "source": [
    "# Build the scatter plot for cloudiness vs max temperature\n",
    "plt.scatter(lats,\n",
    "            cloudiness,\n",
    "            edgecolor = \"black\", linewidths = 1, marker = \"o\",\n",
    "            alpha = 0.8, label = \"Cities\")\n",
    "    \n",
    "# Incorporate the other graph properties.\n",
    "plt.title(f\"City Latitude vs Max Temperature\"+time.strftime(\"%x\"))\n",
    "plt.ylabel(\"Cloudiness (%)\")\n",
    "plt.xlabel(\"Latitude\")\n",
    "plt.grid(True)\n",
    "\n",
    "# Save the figure\n",
    "plt.savefig(\"weather_data/Fig3.png\")\n",
    "\n",
    "# Show plot\n",
    "plt.show()"
   ]
  },
  {
   "cell_type": "code",
   "execution_count": 28,
   "id": "04d994ab",
   "metadata": {},
   "outputs": [
    {
     "data": {
      "image/png": "[encoded data removed]",
      "text/plain": [
       "<Figure size 432x288 with 1 Axes>"
      ]
     },
     "metadata": {
      "needs_background": "light"
     },
     "output_type": "display_data"
    }
   ],
   "source": [
    "# Build the scatter plot for latitude vs max temperature\n",
    "plt.scatter(lats,\n",
    "            wind_speed,\n",
    "            edgecolor = \"black\", linewidths = 1, marker = \"o\",\n",
    "            alpha = 0.8, label = \"Cities\")\n",
    "    \n",
    "# Incorporate the other graph properties.\n",
    "plt.title(f\"City Latitude vs Max Temperature\"+time.strftime(\"%x\"))\n",
    "plt.ylabel(\"Wind Speed (mph)\")\n",
    "plt.xlabel(\"Latitude\")\n",
    "plt.grid(True)\n",
    "\n",
    "# Save the figure\n",
    "plt.savefig(\"weather_data/Fig4.png\")\n",
    "\n",
    "# Show plot\n",
    "plt.show()"
   ]
  },
  {
   "cell_type": "code",
   "execution_count": 68,
   "id": "ac3cd8aa",
   "metadata": {},
   "outputs": [],
   "source": [
    "# Import linregress\n",
    "from scipy.stats import linregress\n",
    "\n",
    "# Create a function to create perform linear regression on the weather data.\n",
    "# Plot a regression line and the equation with the data.\n",
    "\n",
    "def plot_linear_regression(x_values, y_values, title, y_label, text_coordinates):\n",
    "\n",
    "    # Perform linear regression on hemisphere weather data.\n",
    "    (slope, intercept, r_value, p_value, std_err) = linregress(x_values, y_values)\n",
    "    \n",
    "    # Print results of linregress\n",
    "    print(f\"The r-value is : {r_value:.3f}\")\n",
    "    print(f\"The p-value is : {p_value:.3f}\")\n",
    "    print(f\"The stderr is : {std_err:.3f}\")\n",
    "\n",
    "    # Calculate the regression line \"y values\" from the slope and intercept.\n",
    "    regress_values = x_values*slope+intercept\n",
    "\n",
    "    # Get the equation of the line.\n",
    "    line_eq = \"y = \"+str(round(slope, 2))+\"x + \"+str(round(intercept,2))\n",
    "\n",
    "    # Create a scatter plot of the x and y values.\n",
    "    plt.scatter(x_values, y_values)\n",
    "\n",
    "    # Plot the regression line with x-valyes and the y coordinagtes based on the intercept and slope.\n",
    "    plt.plot(x_values, regress_values, \"r\")\n",
    "\n",
    "    # Annnotate the text for the line equation and add its coordinates.\n",
    "    plt.annotate(line_eq, text_coordinates, fontsize = 15, color = \"red\")\n",
    "    plt.title(title)\n",
    "    plt.xlabel(\"Latitude\")\n",
    "    plt.ylabel(y_label)\n",
    "    plt.show()"
   ]
  },
  {
   "cell_type": "code",
   "execution_count": 69,
   "id": "a44b544f",
   "metadata": {},
   "outputs": [
    {
     "data": {
      "text/plain": [
       "City_ID                        13\n",
       "City                   Codrington\n",
       "Country                        AU\n",
       "Date          2022-07-07 18:21:28\n",
       "Lat                      -38.2667\n",
       "Lng                      141.9667\n",
       "Max Temp                    51.58\n",
       "Humidity                       67\n",
       "Cloudiness                     91\n",
       "Wind Speed                  21.43\n",
       "Name: 13, dtype: object"
      ]
     },
     "execution_count": 69,
     "metadata": {},
     "output_type": "execute_result"
    }
   ],
   "source": [
    "index13 = city_data_df.loc[13]\n",
    "index13"
   ]
  },
  {
   "cell_type": "code",
   "execution_count": 70,
   "id": "10547310",
   "metadata": {},
   "outputs": [],
   "source": [
    "# Create Northern and Southern Hemisphere DataFrames.\n",
    "northern_hemi_df = city_data_df.loc[(city_data_df[\"Lat\"] >=0 )]\n",
    "southern_hemi_df = city_data_df.loc[(city_data_df[\"Lat\"] < 0)]"
   ]
  },
  {
   "cell_type": "code",
   "execution_count": 79,
   "id": "bc928ae4",
   "metadata": {},
   "outputs": [
    {
     "name": "stdout",
     "output_type": "stream",
     "text": [
      "The r-value is : -0.692\n",
      "The p-value is : 0.000\n",
      "The stderr is : 0.025\n"
     ]
    },
    {
     "data": {
      "image/png": "[encoded data removed]",
      "text/plain": [
       "<Figure size 432x288 with 1 Axes>"
      ]
     },
     "metadata": {
      "needs_background": "light"
     },
     "output_type": "display_data"
    }
   ],
   "source": [
    "# Linear regression on the Northern Hemisphere for Maximum Temperature\n",
    "x_values = northern_hemi_df[\"Lat\"]\n",
    "y_values = northern_hemi_df[\"Max Temp\"]\n",
    "\n",
    "# Call the function\n",
    "plot_linear_regression(x_values, y_values,\n",
    "                      \"Linear Regression on the Northern Hemisphere for Maximum Temperature\",\n",
    "                       \"Max Temp\", (10,40))"
   ]
  },
  {
   "cell_type": "code",
   "execution_count": 80,
   "id": "20d42834",
   "metadata": {},
   "outputs": [
    {
     "name": "stdout",
     "output_type": "stream",
     "text": [
      "The r-value is : 0.804\n",
      "The p-value is : 0.000\n",
      "The stderr is : 0.047\n"
     ]
    },
    {
     "data": {
      "image/png": "[encoded data removed]",
      "text/plain": [
       "<Figure size 432x288 with 1 Axes>"
      ]
     },
     "metadata": {
      "needs_background": "light"
     },
     "output_type": "display_data"
    }
   ],
   "source": [
    "# Linear regression on the Southern Hemisphere for Maximum Temperature\n",
    "x_values = southern_hemi_df[\"Lat\"]\n",
    "y_values = southern_hemi_df[\"Max Temp\"]\n",
    "# Call the function.\n",
    "plot_linear_regression(x_values, y_values,\n",
    "                       'Linear Regression on the Southern Hemisphere for Maximum Temperature', \n",
    "                       'Max Temp',(-50,90))"
   ]
  },
  {
   "cell_type": "code",
   "execution_count": 81,
   "id": "d9602c27",
   "metadata": {},
   "outputs": [
    {
     "name": "stdout",
     "output_type": "stream",
     "text": [
      "The r-value is : 0.076\n",
      "The p-value is : 0.124\n",
      "The stderr is : 0.052\n"
     ]
    },
    {
     "data": {
      "image/png": "[encoded data removed]",
      "text/plain": [
       "<Figure size 432x288 with 1 Axes>"
      ]
     },
     "metadata": {
      "needs_background": "light"
     },
     "output_type": "display_data"
    }
   ],
   "source": [
    "# Linear regression on the Northern Hemisphere for % Humidity\n",
    "x_values = northern_hemi_df[\"Lat\"]\n",
    "y_values = northern_hemi_df[\"Humidity\"]\n",
    "\n",
    "# Call the function\n",
    "plot_linear_regression(x_values, y_values,\n",
    "                      \"Linear Regression on the Northern Hemisphere for % Humidity\",\n",
    "                       \"% Humidity\", (40,10))"
   ]
  },
  {
   "cell_type": "code",
   "execution_count": 84,
   "id": "e428f909",
   "metadata": {},
   "outputs": [
    {
     "name": "stdout",
     "output_type": "stream",
     "text": [
      "The r-value is : 0.005\n",
      "The p-value is : 0.952\n",
      "The stderr is : 0.114\n"
     ]
    },
    {
     "data": {
      "image/png": "[encoded data removed]",
      "text/plain": [
       "<Figure size 432x288 with 1 Axes>"
      ]
     },
     "metadata": {
      "needs_background": "light"
     },
     "output_type": "display_data"
    }
   ],
   "source": [
    "# Linear regression on the Southern Hemisphere for % Humidity\n",
    "x_values = southern_hemi_df[\"Lat\"]\n",
    "y_values = southern_hemi_df[\"Humidity\"]\n",
    "# Call the function.\n",
    "plot_linear_regression(x_values, y_values,\n",
    "                       'Linear Regression on the Southern Hemisphere for %Humidity', \n",
    "                       '%Humidity',(-50,15))"
   ]
  },
  {
   "cell_type": "code",
   "execution_count": 89,
   "id": "81d6b1c9",
   "metadata": {},
   "outputs": [
    {
     "name": "stdout",
     "output_type": "stream",
     "text": [
      "The r-value is : 0.023\n",
      "The p-value is : 0.648\n",
      "The stderr is : 0.097\n"
     ]
    },
    {
     "data": {
      "image/png": "[encoded data removed]",
      "text/plain": [
       "<Figure size 432x288 with 1 Axes>"
      ]
     },
     "metadata": {
      "needs_background": "light"
     },
     "output_type": "display_data"
    }
   ],
   "source": [
    "# Linear regression on the Northern Hemisphere for % Cloudiness\n",
    "x_values = northern_hemi_df[\"Lat\"]\n",
    "y_values = northern_hemi_df[\"Cloudiness\"]\n",
    "\n",
    "# Call the function\n",
    "plot_linear_regression(x_values, y_values,\n",
    "                      \"Linear Regression on the Northern Hemisphere for % Cloudiness\",\n",
    "                       \"% Cloudiness\", (10,50))"
   ]
  },
  {
   "cell_type": "code",
   "execution_count": 90,
   "id": "24be06ce",
   "metadata": {},
   "outputs": [
    {
     "name": "stdout",
     "output_type": "stream",
     "text": [
      "The r-value is : 0.070\n",
      "The p-value is : 0.379\n",
      "The stderr is : 0.219\n"
     ]
    },
    {
     "data": {
      "image/png": "[encoded data removed]",
      "text/plain": [
       "<Figure size 432x288 with 1 Axes>"
      ]
     },
     "metadata": {
      "needs_background": "light"
     },
     "output_type": "display_data"
    }
   ],
   "source": [
    "# Linear regression on the Southern Hemisphere for % Cloudiness\n",
    "x_values = southern_hemi_df[\"Lat\"]\n",
    "y_values = southern_hemi_df[\"Cloudiness\"]\n",
    "# Call the function.\n",
    "plot_linear_regression(x_values, y_values,\n",
    "                       'Linear Regression on the Southern Hemisphere for %Cloudiness', \n",
    "                       '%Cloudiness',(-50,55))"
   ]
  },
  {
   "cell_type": "code",
   "execution_count": 93,
   "id": "6f3e5e38",
   "metadata": {},
   "outputs": [
    {
     "name": "stdout",
     "output_type": "stream",
     "text": [
      "The r-value is : -0.072\n",
      "The p-value is : 0.142\n",
      "The stderr is : 0.013\n"
     ]
    },
    {
     "data": {
      "image/png": "[encoded data removed]",
      "text/plain": [
       "<Figure size 432x288 with 1 Axes>"
      ]
     },
     "metadata": {
      "needs_background": "light"
     },
     "output_type": "display_data"
    }
   ],
   "source": [
    "# Linear regression on the Northern Hemisphere for Wind Speed\n",
    "x_values = northern_hemi_df[\"Lat\"]\n",
    "y_values = northern_hemi_df[\"Wind Speed\"]\n",
    "\n",
    "# Call the function\n",
    "plot_linear_regression(x_values, y_values,\n",
    "                      \"Linear Regression on the Northern Hemisphere for Wind Speed\",\n",
    "                       \"Wind Speed (mph)\", (40,30))"
   ]
  },
  {
   "cell_type": "code",
   "execution_count": 94,
   "id": "cebb3c3a",
   "metadata": {},
   "outputs": [
    {
     "name": "stdout",
     "output_type": "stream",
     "text": [
      "The r-value is : -0.287\n",
      "The p-value is : 0.000\n",
      "The stderr is : 0.030\n"
     ]
    },
    {
     "data": {
      "image/png": "[encoded data removed]",
      "text/plain": [
       "<Figure size 432x288 with 1 Axes>"
      ]
     },
     "metadata": {
      "needs_background": "light"
     },
     "output_type": "display_data"
    }
   ],
   "source": [
    "# Linear regression on the Southern Hemisphere for Wind Speed\n",
    "x_values = southern_hemi_df[\"Lat\"]\n",
    "y_values = southern_hemi_df[\"Wind Speed\"]\n",
    "# Call the function.\n",
    "plot_linear_regression(x_values, y_values,\n",
    "                       'Linear Regression on the Southern Hemisphere for Wind Speed', \n",
    "                       'Wind Speed (mph)',(-50,55))"
   ]
  },
  {
   "cell_type": "code",
   "execution_count": null,
   "id": "fd436e76",
   "metadata": {},
   "outputs": [],
   "source": []
  }
 ],
 "metadata": {
  "kernelspec": {
   "display_name": "PythonData",
   "language": "python",
   "name": "pythondata"
  },
  "language_info": {
   "codemirror_mode": {
    "name": "ipython",
    "version": 3
   },
   "file_extension": ".py",
   "mimetype": "text/x-python",
   "name": "python",
   "nbconvert_exporter": "python",
   "pygments_lexer": "ipython3",
   "version": "3.7.13"
  }
 },
 "nbformat": 4,
 "nbformat_minor": 5
}
