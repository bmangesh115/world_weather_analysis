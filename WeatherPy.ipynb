{
 "cells": [
  {
   "cell_type": "code",
   "execution_count": 1,
   "id": "6bd33ef3",
   "metadata": {},
   "outputs": [],
   "source": [
    "# Import dependencies\n",
    "import pandas as pd\n",
    "import matplotlib.pyplot as plt\n",
    "import numpy as np"
   ]
  },
  {
   "cell_type": "code",
   "execution_count": 2,
   "id": "c816e3d7",
   "metadata": {},
   "outputs": [
    {
     "data": {
      "text/plain": [
       "<zip at 0x15cf12cdac8>"
      ]
     },
     "execution_count": 2,
     "metadata": {},
     "output_type": "execute_result"
    }
   ],
   "source": [
    "# Creat a set of random latitudes and longitudes combinations.\n",
    "lats = np.random.uniform(low = -90.000, high = 90.000, size = 1500)\n",
    "lngs = np.random.uniform(low = -180.000, high = 180.000, size = 1500)\n",
    "lat_lngs = zip(lats, lngs)\n",
    "lat_lngs"
   ]
  },
  {
   "cell_type": "code",
   "execution_count": 3,
   "id": "024786b9",
   "metadata": {},
   "outputs": [],
   "source": [
    "# Add the latitudes and longitudes to a list\n",
    "coordinates = list(lat_lngs)"
   ]
  },
  {
   "cell_type": "code",
   "execution_count": 4,
   "id": "12b35803",
   "metadata": {},
   "outputs": [],
   "source": [
    "# Import citipy\n",
    "from citipy import citipy"
   ]
  },
  {
   "cell_type": "code",
   "execution_count": 5,
   "id": "4d71cd23",
   "metadata": {},
   "outputs": [
    {
     "data": {
      "text/plain": [
       "607"
      ]
     },
     "execution_count": 5,
     "metadata": {},
     "output_type": "execute_result"
    }
   ],
   "source": [
    "# Create a list for holding the cities.\n",
    "cities = []\n",
    "\n",
    "# Identify the nearest city for each latitude and longitude combinations.\n",
    "for coordinate in coordinates:\n",
    "    city = citipy.nearest_city(coordinate[0], coordinate[1]).city_name\n",
    "    \n",
    "    #If the city is unique, then we will add it to the cities list.\n",
    "    if city not in cities:\n",
    "        cities.append(city)\n",
    "\n",
    "# Print the city count to confirm sufficient count.\n",
    "len(cities)"
   ]
  },
  {
   "cell_type": "code",
   "execution_count": 6,
   "id": "462deb48",
   "metadata": {},
   "outputs": [],
   "source": [
    "# Import requests library\n",
    "import requests\n",
    "\n",
    "# Import the API key.\n",
    "from config import weather_api_key"
   ]
  },
  {
   "cell_type": "code",
   "execution_count": 7,
   "id": "3d7363bc",
   "metadata": {},
   "outputs": [],
   "source": [
    "# Import the time library and the datetime module from the datetime library\n",
    "import time\n",
    "from datetime import datetime"
   ]
  },
  {
   "cell_type": "code",
   "execution_count": 8,
   "id": "ac7ea0c4",
   "metadata": {},
   "outputs": [],
   "source": [
    "import traceback"
   ]
  },
  {
   "cell_type": "code",
   "execution_count": 9,
   "id": "bc710c3e",
   "metadata": {},
   "outputs": [
    {
     "name": "stdout",
     "output_type": "stream",
     "text": [
      "Beginning Data Retrieval     \n",
      "-----------------------------\n",
      "Processing Record 1 of Set 1 | tsihombe\n",
      "City not found. Skipping...\n",
      "Processing Record 2 of Set 1 | avarua\n"
     ]
    },
    {
     "name": "stderr",
     "output_type": "stream",
     "text": [
      "Traceback (most recent call last):\n",
      "  File \"C:\\Users\\mbore\\AppData\\Local\\Temp\\ipykernel_18216\\1813308146.py\", line 37, in <module>\n",
      "    city_lat = city_weather[\"coord\"][\"lat\"]\n",
      "KeyError: 'coord'\n"
     ]
    },
    {
     "name": "stdout",
     "output_type": "stream",
     "text": [
      "Processing Record 3 of Set 1 | horta\n",
      "Processing Record 4 of Set 1 | bambous virieux\n",
      "Processing Record 5 of Set 1 | jiexiu\n",
      "Processing Record 6 of Set 1 | kshenskiy\n",
      "Processing Record 7 of Set 1 | castro\n",
      "Processing Record 8 of Set 1 | saint-philippe\n",
      "Processing Record 9 of Set 1 | bredasdorp\n",
      "Processing Record 10 of Set 1 | ntungamo\n",
      "Processing Record 11 of Set 1 | alhandra\n",
      "Processing Record 12 of Set 1 | albany\n",
      "Processing Record 13 of Set 1 | rikitea\n",
      "Processing Record 14 of Set 1 | vaitupu\n",
      "City not found. Skipping...\n",
      "Processing Record 15 of Set 1 | ushuaia\n"
     ]
    },
    {
     "name": "stderr",
     "output_type": "stream",
     "text": [
      "Traceback (most recent call last):\n",
      "  File \"C:\\Users\\mbore\\AppData\\Local\\Temp\\ipykernel_18216\\1813308146.py\", line 37, in <module>\n",
      "    city_lat = city_weather[\"coord\"][\"lat\"]\n",
      "KeyError: 'coord'\n"
     ]
    },
    {
     "name": "stdout",
     "output_type": "stream",
     "text": [
      "Processing Record 16 of Set 1 | mahebourg\n",
      "Processing Record 17 of Set 1 | qaanaaq\n",
      "Processing Record 18 of Set 1 | codrington\n",
      "Processing Record 19 of Set 1 | saskylakh\n",
      "Processing Record 20 of Set 1 | urumqi\n",
      "Processing Record 21 of Set 1 | hobart\n",
      "Processing Record 22 of Set 1 | zhezkazgan\n",
      "Processing Record 23 of Set 1 | lixourion\n",
      "Processing Record 24 of Set 1 | upernavik\n",
      "Processing Record 25 of Set 1 | mitsamiouli\n",
      "Processing Record 26 of Set 1 | tiksi\n",
      "Processing Record 27 of Set 1 | vaini\n",
      "Processing Record 28 of Set 1 | butaritari\n",
      "Processing Record 29 of Set 1 | havoysund\n",
      "Processing Record 30 of Set 1 | jamestown\n",
      "Processing Record 31 of Set 1 | vicuna\n",
      "Processing Record 32 of Set 1 | bathsheba\n",
      "Processing Record 33 of Set 1 | hilo\n",
      "Processing Record 34 of Set 1 | pisco\n",
      "Processing Record 35 of Set 1 | port alfred\n",
      "Processing Record 36 of Set 1 | bereda\n",
      "Processing Record 37 of Set 1 | cape town\n",
      "Processing Record 38 of Set 1 | ribeira grande\n",
      "Processing Record 39 of Set 1 | atuona\n",
      "Processing Record 40 of Set 1 | tasiilaq\n",
      "Processing Record 41 of Set 1 | olafsvik\n",
      "Processing Record 42 of Set 1 | busselton\n",
      "Processing Record 43 of Set 1 | barra patuca\n",
      "Processing Record 44 of Set 1 | ocampo\n",
      "Processing Record 45 of Set 1 | hamilton\n",
      "Processing Record 46 of Set 1 | sovetskiy\n",
      "Processing Record 47 of Set 1 | inta\n",
      "Processing Record 48 of Set 1 | cabo san lucas\n",
      "Processing Record 49 of Set 1 | los llanos de aridane\n",
      "Processing Record 50 of Set 1 | mataura\n",
      "Processing Record 1 of Set 2 | gunjur\n",
      "Processing Record 2 of Set 2 | nikolskoye\n",
      "Processing Record 3 of Set 2 | catalina\n",
      "Processing Record 4 of Set 2 | luderitz\n",
      "Processing Record 5 of Set 2 | sentyabrskiy\n",
      "City not found. Skipping...\n",
      "Processing Record 6 of Set 2 | puerto ayora\n"
     ]
    },
    {
     "name": "stderr",
     "output_type": "stream",
     "text": [
      "Traceback (most recent call last):\n",
      "  File \"C:\\Users\\mbore\\AppData\\Local\\Temp\\ipykernel_18216\\1813308146.py\", line 37, in <module>\n",
      "    city_lat = city_weather[\"coord\"][\"lat\"]\n",
      "KeyError: 'coord'\n"
     ]
    },
    {
     "name": "stdout",
     "output_type": "stream",
     "text": [
      "Processing Record 7 of Set 2 | aranda de duero\n",
      "Processing Record 8 of Set 2 | coquimbo\n",
      "Processing Record 9 of Set 2 | pevek\n",
      "Processing Record 10 of Set 2 | nanning\n",
      "Processing Record 11 of Set 2 | kilosa\n",
      "Processing Record 12 of Set 2 | bocas del toro\n",
      "Processing Record 13 of Set 2 | georgetown\n",
      "Processing Record 14 of Set 2 | kavieng\n",
      "Processing Record 15 of Set 2 | san policarpo\n",
      "Processing Record 16 of Set 2 | chokurdakh\n",
      "Processing Record 17 of Set 2 | norman wells\n",
      "Processing Record 18 of Set 2 | punta arenas\n",
      "Processing Record 19 of Set 2 | constitucion\n",
      "Processing Record 20 of Set 2 | dikson\n",
      "Processing Record 21 of Set 2 | yeppoon\n",
      "Processing Record 22 of Set 2 | hobyo\n",
      "Processing Record 23 of Set 2 | teguise\n",
      "Processing Record 24 of Set 2 | smolenka\n",
      "Processing Record 25 of Set 2 | colares\n",
      "Processing Record 26 of Set 2 | longyearbyen\n",
      "Processing Record 27 of Set 2 | alofi\n",
      "Processing Record 28 of Set 2 | chicama\n",
      "Processing Record 29 of Set 2 | faya\n",
      "Processing Record 30 of Set 2 | geraldton\n",
      "Processing Record 31 of Set 2 | mercedes\n",
      "Processing Record 32 of Set 2 | nizwa\n",
      "Processing Record 33 of Set 2 | grand-santi\n",
      "Processing Record 34 of Set 2 | athabasca\n",
      "Processing Record 35 of Set 2 | bluff\n",
      "Processing Record 36 of Set 2 | eirunepe\n",
      "Processing Record 37 of Set 2 | sambhal\n",
      "Processing Record 38 of Set 2 | cuxhaven\n",
      "Processing Record 39 of Set 2 | seoul\n",
      "Processing Record 40 of Set 2 | sinnamary\n",
      "Processing Record 41 of Set 2 | haines junction\n",
      "Processing Record 42 of Set 2 | yumen\n",
      "Processing Record 43 of Set 2 | cervo\n",
      "Processing Record 44 of Set 2 | port elizabeth\n",
      "Processing Record 45 of Set 2 | tambopata\n",
      "Processing Record 46 of Set 2 | ballina\n",
      "Processing Record 47 of Set 2 | kailua\n",
      "Processing Record 48 of Set 2 | suntar\n",
      "Processing Record 49 of Set 2 | portland\n",
      "Processing Record 50 of Set 2 | saleaula\n",
      "City not found. Skipping...\n"
     ]
    },
    {
     "name": "stderr",
     "output_type": "stream",
     "text": [
      "Traceback (most recent call last):\n",
      "  File \"C:\\Users\\mbore\\AppData\\Local\\Temp\\ipykernel_18216\\1813308146.py\", line 37, in <module>\n",
      "    city_lat = city_weather[\"coord\"][\"lat\"]\n",
      "KeyError: 'coord'\n"
     ]
    },
    {
     "name": "stdout",
     "output_type": "stream",
     "text": [
      "Processing Record 1 of Set 3 | pizhma\n",
      "Processing Record 2 of Set 3 | guerrero negro\n",
      "Processing Record 3 of Set 3 | ponta do sol\n",
      "Processing Record 4 of Set 3 | muromtsevo\n",
      "Processing Record 5 of Set 3 | lebu\n",
      "Processing Record 6 of Set 3 | tocopilla\n",
      "Processing Record 7 of Set 3 | grand river south east\n",
      "City not found. Skipping...\n",
      "Processing Record 8 of Set 3 | dakar\n",
      "Processing Record 9 of Set 3 | hasaki\n"
     ]
    },
    {
     "name": "stderr",
     "output_type": "stream",
     "text": [
      "Traceback (most recent call last):\n",
      "  File \"C:\\Users\\mbore\\AppData\\Local\\Temp\\ipykernel_18216\\1813308146.py\", line 37, in <module>\n",
      "    city_lat = city_weather[\"coord\"][\"lat\"]\n",
      "KeyError: 'coord'\n"
     ]
    },
    {
     "name": "stdout",
     "output_type": "stream",
     "text": [
      "Processing Record 10 of Set 3 | tevaitoa\n",
      "Processing Record 11 of Set 3 | barentsburg\n",
      "City not found. Skipping...\n",
      "Processing Record 12 of Set 3 | vanderhoof\n"
     ]
    },
    {
     "name": "stderr",
     "output_type": "stream",
     "text": [
      "Traceback (most recent call last):\n",
      "  File \"C:\\Users\\mbore\\AppData\\Local\\Temp\\ipykernel_18216\\1813308146.py\", line 37, in <module>\n",
      "    city_lat = city_weather[\"coord\"][\"lat\"]\n",
      "KeyError: 'coord'\n"
     ]
    },
    {
     "name": "stdout",
     "output_type": "stream",
     "text": [
      "Processing Record 13 of Set 3 | tessalit\n",
      "Processing Record 14 of Set 3 | oussouye\n",
      "Processing Record 15 of Set 3 | takoradi\n",
      "Processing Record 16 of Set 3 | sur\n",
      "Processing Record 17 of Set 3 | kyabram\n",
      "Processing Record 18 of Set 3 | ouesso\n",
      "Processing Record 19 of Set 3 | tilichiki\n",
      "Processing Record 20 of Set 3 | amderma\n",
      "City not found. Skipping...\n"
     ]
    },
    {
     "name": "stderr",
     "output_type": "stream",
     "text": [
      "Traceback (most recent call last):\n",
      "  File \"C:\\Users\\mbore\\AppData\\Local\\Temp\\ipykernel_18216\\1813308146.py\", line 37, in <module>\n",
      "    city_lat = city_weather[\"coord\"][\"lat\"]\n",
      "KeyError: 'coord'\n"
     ]
    },
    {
     "name": "stdout",
     "output_type": "stream",
     "text": [
      "Processing Record 21 of Set 3 | tromso\n",
      "Processing Record 22 of Set 3 | aklavik\n",
      "Processing Record 23 of Set 3 | culebra\n",
      "Processing Record 24 of Set 3 | klaksvik\n",
      "Processing Record 25 of Set 3 | staryy nadym\n",
      "Processing Record 26 of Set 3 | ancud\n",
      "Processing Record 27 of Set 3 | kapaa\n",
      "Processing Record 28 of Set 3 | nuuk\n",
      "Processing Record 29 of Set 3 | bolshiye uki\n",
      "City not found. Skipping...\n"
     ]
    },
    {
     "name": "stderr",
     "output_type": "stream",
     "text": [
      "Traceback (most recent call last):\n",
      "  File \"C:\\Users\\mbore\\AppData\\Local\\Temp\\ipykernel_18216\\1813308146.py\", line 37, in <module>\n",
      "    city_lat = city_weather[\"coord\"][\"lat\"]\n",
      "KeyError: 'coord'\n"
     ]
    },
    {
     "name": "stdout",
     "output_type": "stream",
     "text": [
      "Processing Record 30 of Set 3 | nyurba\n",
      "Processing Record 31 of Set 3 | yellowknife\n",
      "Processing Record 32 of Set 3 | taolanaro\n",
      "City not found. Skipping...\n",
      "Processing Record 33 of Set 3 | dolinsk\n"
     ]
    },
    {
     "name": "stderr",
     "output_type": "stream",
     "text": [
      "Traceback (most recent call last):\n",
      "  File \"C:\\Users\\mbore\\AppData\\Local\\Temp\\ipykernel_18216\\1813308146.py\", line 37, in <module>\n",
      "    city_lat = city_weather[\"coord\"][\"lat\"]\n",
      "KeyError: 'coord'\n"
     ]
    },
    {
     "name": "stdout",
     "output_type": "stream",
     "text": [
      "Processing Record 34 of Set 3 | lorengau\n",
      "Processing Record 35 of Set 3 | dunedin\n",
      "Processing Record 36 of Set 3 | mouila\n",
      "Processing Record 37 of Set 3 | rensvik\n",
      "Processing Record 38 of Set 3 | vardo\n",
      "Processing Record 39 of Set 3 | alta floresta\n",
      "Processing Record 40 of Set 3 | villa carlos paz\n",
      "Processing Record 41 of Set 3 | mys shmidta\n",
      "City not found. Skipping...\n",
      "Processing Record 42 of Set 3 | new norfolk\n"
     ]
    },
    {
     "name": "stderr",
     "output_type": "stream",
     "text": [
      "Traceback (most recent call last):\n",
      "  File \"C:\\Users\\mbore\\AppData\\Local\\Temp\\ipykernel_18216\\1813308146.py\", line 37, in <module>\n",
      "    city_lat = city_weather[\"coord\"][\"lat\"]\n",
      "KeyError: 'coord'\n"
     ]
    },
    {
     "name": "stdout",
     "output_type": "stream",
     "text": [
      "Processing Record 43 of Set 3 | grindavik\n",
      "Processing Record 44 of Set 3 | thompson\n",
      "Processing Record 45 of Set 3 | san rafael\n",
      "Processing Record 46 of Set 3 | kapuskasing\n",
      "Processing Record 47 of Set 3 | chuy\n",
      "Processing Record 48 of Set 3 | kone\n",
      "Processing Record 49 of Set 3 | srednekolymsk\n",
      "Processing Record 50 of Set 3 | totness\n",
      "Processing Record 1 of Set 4 | hampstead\n",
      "Processing Record 2 of Set 4 | salalah\n",
      "Processing Record 3 of Set 4 | san quintin\n",
      "Processing Record 4 of Set 4 | kysyl-syr\n",
      "Processing Record 5 of Set 4 | hermanus\n",
      "Processing Record 6 of Set 4 | pundaguitan\n",
      "Processing Record 7 of Set 4 | husavik\n",
      "Processing Record 8 of Set 4 | dingle\n",
      "Processing Record 9 of Set 4 | ulaangom\n",
      "Processing Record 10 of Set 4 | salinopolis\n",
      "Processing Record 11 of Set 4 | qasigiannguit\n",
      "Processing Record 12 of Set 4 | diamantino\n",
      "Processing Record 13 of Set 4 | promyshlennyy\n",
      "Processing Record 14 of Set 4 | requena\n",
      "Processing Record 15 of Set 4 | margate\n",
      "Processing Record 16 of Set 4 | katsuura\n",
      "Processing Record 17 of Set 4 | prince albert\n",
      "Processing Record 18 of Set 4 | narok\n",
      "Processing Record 19 of Set 4 | brewster\n",
      "Processing Record 20 of Set 4 | tautira\n",
      "Processing Record 21 of Set 4 | belushya guba\n",
      "City not found. Skipping...\n",
      "Processing Record 22 of Set 4 | bousso\n"
     ]
    },
    {
     "name": "stderr",
     "output_type": "stream",
     "text": [
      "Traceback (most recent call last):\n",
      "  File \"C:\\Users\\mbore\\AppData\\Local\\Temp\\ipykernel_18216\\1813308146.py\", line 37, in <module>\n",
      "    city_lat = city_weather[\"coord\"][\"lat\"]\n",
      "KeyError: 'coord'\n"
     ]
    },
    {
     "name": "stdout",
     "output_type": "stream",
     "text": [
      "Processing Record 23 of Set 4 | port hardy\n",
      "Processing Record 24 of Set 4 | nanortalik\n",
      "Processing Record 25 of Set 4 | lazaro cardenas\n",
      "Processing Record 26 of Set 4 | alotau\n",
      "City not found. Skipping...\n"
     ]
    },
    {
     "name": "stderr",
     "output_type": "stream",
     "text": [
      "Traceback (most recent call last):\n",
      "  File \"C:\\Users\\mbore\\AppData\\Local\\Temp\\ipykernel_18216\\1813308146.py\", line 37, in <module>\n",
      "    city_lat = city_weather[\"coord\"][\"lat\"]\n",
      "KeyError: 'coord'\n"
     ]
    },
    {
     "name": "stdout",
     "output_type": "stream",
     "text": [
      "Processing Record 27 of Set 4 | rabo de peixe\n",
      "Processing Record 28 of Set 4 | moulmeingyun\n",
      "City not found. Skipping...\n",
      "Processing Record 29 of Set 4 | makakilo city\n"
     ]
    },
    {
     "name": "stderr",
     "output_type": "stream",
     "text": [
      "Traceback (most recent call last):\n",
      "  File \"C:\\Users\\mbore\\AppData\\Local\\Temp\\ipykernel_18216\\1813308146.py\", line 37, in <module>\n",
      "    city_lat = city_weather[\"coord\"][\"lat\"]\n",
      "KeyError: 'coord'\n"
     ]
    },
    {
     "name": "stdout",
     "output_type": "stream",
     "text": [
      "Processing Record 30 of Set 4 | mahadday weyne\n",
      "City not found. Skipping...\n",
      "Processing Record 31 of Set 4 | carnarvon\n",
      "Processing Record 32 of Set 4 | vanimo\n"
     ]
    },
    {
     "name": "stderr",
     "output_type": "stream",
     "text": [
      "Traceback (most recent call last):\n",
      "  File \"C:\\Users\\mbore\\AppData\\Local\\Temp\\ipykernel_18216\\1813308146.py\", line 37, in <module>\n",
      "    city_lat = city_weather[\"coord\"][\"lat\"]\n",
      "KeyError: 'coord'\n"
     ]
    },
    {
     "name": "stdout",
     "output_type": "stream",
     "text": [
      "Processing Record 33 of Set 4 | palafrugell\n",
      "Processing Record 34 of Set 4 | coari\n",
      "Processing Record 35 of Set 4 | bansang\n",
      "Processing Record 36 of Set 4 | ilulissat\n",
      "Processing Record 37 of Set 4 | chardara\n",
      "Processing Record 38 of Set 4 | kushima\n",
      "Processing Record 39 of Set 4 | cherskiy\n",
      "Processing Record 40 of Set 4 | mar del plata\n",
      "Processing Record 41 of Set 4 | mnogovershinnyy\n",
      "Processing Record 42 of Set 4 | kaitangata\n",
      "Processing Record 43 of Set 4 | barrow\n",
      "Processing Record 44 of Set 4 | east london\n",
      "Processing Record 45 of Set 4 | ahipara\n",
      "Processing Record 46 of Set 4 | san patricio\n",
      "Processing Record 47 of Set 4 | bernay\n",
      "Processing Record 48 of Set 4 | ixtapa\n",
      "Processing Record 49 of Set 4 | samusu\n",
      "City not found. Skipping...\n",
      "Processing Record 50 of Set 4 | slave lake\n"
     ]
    },
    {
     "name": "stderr",
     "output_type": "stream",
     "text": [
      "Traceback (most recent call last):\n",
      "  File \"C:\\Users\\mbore\\AppData\\Local\\Temp\\ipykernel_18216\\1813308146.py\", line 37, in <module>\n",
      "    city_lat = city_weather[\"coord\"][\"lat\"]\n",
      "KeyError: 'coord'\n"
     ]
    },
    {
     "name": "stdout",
     "output_type": "stream",
     "text": [
      "Processing Record 1 of Set 5 | bubaque\n",
      "Processing Record 2 of Set 5 | zhigansk\n",
      "Processing Record 3 of Set 5 | minbu\n",
      "Processing Record 4 of Set 5 | novobirilyussy\n",
      "Processing Record 5 of Set 5 | meyungs\n",
      "City not found. Skipping...\n"
     ]
    },
    {
     "name": "stderr",
     "output_type": "stream",
     "text": [
      "Traceback (most recent call last):\n",
      "  File \"C:\\Users\\mbore\\AppData\\Local\\Temp\\ipykernel_18216\\1813308146.py\", line 37, in <module>\n",
      "    city_lat = city_weather[\"coord\"][\"lat\"]\n",
      "KeyError: 'coord'\n"
     ]
    },
    {
     "name": "stdout",
     "output_type": "stream",
     "text": [
      "Processing Record 6 of Set 5 | verkh-usugli\n",
      "Processing Record 7 of Set 5 | waspan\n",
      "Processing Record 8 of Set 5 | poum\n",
      "Processing Record 9 of Set 5 | warrnambool\n",
      "Processing Record 10 of Set 5 | dori\n",
      "Processing Record 11 of Set 5 | magistralnyy\n",
      "Processing Record 12 of Set 5 | pierre\n",
      "Processing Record 13 of Set 5 | naron\n",
      "Processing Record 14 of Set 5 | porto torres\n",
      "Processing Record 15 of Set 5 | estelle\n",
      "Processing Record 16 of Set 5 | antsla\n",
      "Processing Record 17 of Set 5 | arraial do cabo\n",
      "Processing Record 18 of Set 5 | baiyin\n",
      "Processing Record 19 of Set 5 | narsaq\n",
      "Processing Record 20 of Set 5 | bay roberts\n",
      "Processing Record 21 of Set 5 | lam luk ka\n",
      "Processing Record 22 of Set 5 | bethel\n",
      "Processing Record 23 of Set 5 | artyk\n",
      "City not found. Skipping...\n",
      "Processing Record 24 of Set 5 | nome\n"
     ]
    },
    {
     "name": "stderr",
     "output_type": "stream",
     "text": [
      "Traceback (most recent call last):\n",
      "  File \"C:\\Users\\mbore\\AppData\\Local\\Temp\\ipykernel_18216\\1813308146.py\", line 37, in <module>\n",
      "    city_lat = city_weather[\"coord\"][\"lat\"]\n",
      "KeyError: 'coord'\n"
     ]
    },
    {
     "name": "stdout",
     "output_type": "stream",
     "text": [
      "Processing Record 25 of Set 5 | teeli\n",
      "Processing Record 26 of Set 5 | togur\n",
      "Processing Record 27 of Set 5 | along\n",
      "Processing Record 28 of Set 5 | sao filipe\n",
      "Processing Record 29 of Set 5 | juneau\n",
      "Processing Record 30 of Set 5 | bandarbeyla\n",
      "Processing Record 31 of Set 5 | kamaishi\n",
      "Processing Record 32 of Set 5 | inhambane\n",
      "Processing Record 33 of Set 5 | sao joao da barra\n",
      "Processing Record 34 of Set 5 | nizhneyansk\n",
      "City not found. Skipping...\n",
      "Processing Record 35 of Set 5 | souillac\n",
      "Processing Record 36 of Set 5 | riyadh\n"
     ]
    },
    {
     "name": "stderr",
     "output_type": "stream",
     "text": [
      "Traceback (most recent call last):\n",
      "  File \"C:\\Users\\mbore\\AppData\\Local\\Temp\\ipykernel_18216\\1813308146.py\", line 37, in <module>\n",
      "    city_lat = city_weather[\"coord\"][\"lat\"]\n",
      "KeyError: 'coord'\n"
     ]
    },
    {
     "name": "stdout",
     "output_type": "stream",
     "text": [
      "Processing Record 37 of Set 5 | taoudenni\n",
      "Processing Record 38 of Set 5 | soyo\n",
      "Processing Record 39 of Set 5 | la asuncion\n",
      "Processing Record 40 of Set 5 | the pas\n",
      "Processing Record 41 of Set 5 | quatre cocos\n",
      "Processing Record 42 of Set 5 | khatanga\n",
      "Processing Record 43 of Set 5 | alice springs\n",
      "Processing Record 44 of Set 5 | teno\n",
      "Processing Record 45 of Set 5 | sorvag\n",
      "City not found. Skipping...\n",
      "Processing Record 46 of Set 5 | port augusta\n"
     ]
    },
    {
     "name": "stderr",
     "output_type": "stream",
     "text": [
      "Traceback (most recent call last):\n",
      "  File \"C:\\Users\\mbore\\AppData\\Local\\Temp\\ipykernel_18216\\1813308146.py\", line 37, in <module>\n",
      "    city_lat = city_weather[\"coord\"][\"lat\"]\n",
      "KeyError: 'coord'\n"
     ]
    },
    {
     "name": "stdout",
     "output_type": "stream",
     "text": [
      "Processing Record 47 of Set 5 | abulug\n",
      "Processing Record 48 of Set 5 | sabzevar\n",
      "Processing Record 49 of Set 5 | samalaeulu\n",
      "City not found. Skipping...\n"
     ]
    },
    {
     "name": "stderr",
     "output_type": "stream",
     "text": [
      "Traceback (most recent call last):\n",
      "  File \"C:\\Users\\mbore\\AppData\\Local\\Temp\\ipykernel_18216\\1813308146.py\", line 37, in <module>\n",
      "    city_lat = city_weather[\"coord\"][\"lat\"]\n",
      "KeyError: 'coord'\n"
     ]
    },
    {
     "name": "stdout",
     "output_type": "stream",
     "text": [
      "Processing Record 50 of Set 5 | sioux lookout\n",
      "Processing Record 1 of Set 6 | moron\n",
      "Processing Record 2 of Set 6 | namibe\n",
      "Processing Record 3 of Set 6 | maragogi\n",
      "Processing Record 4 of Set 6 | lasa\n",
      "Processing Record 5 of Set 6 | peace river\n",
      "Processing Record 6 of Set 6 | jorochito\n",
      "Processing Record 7 of Set 6 | pampa\n",
      "Processing Record 8 of Set 6 | nador\n",
      "Processing Record 9 of Set 6 | victoria\n",
      "Processing Record 10 of Set 6 | kolhapur\n",
      "Processing Record 11 of Set 6 | bakhmach\n",
      "Processing Record 12 of Set 6 | kununurra\n",
      "Processing Record 13 of Set 6 | hambantota\n",
      "Processing Record 14 of Set 6 | sampit\n",
      "Processing Record 15 of Set 6 | rungata\n",
      "City not found. Skipping...\n"
     ]
    },
    {
     "name": "stderr",
     "output_type": "stream",
     "text": [
      "Traceback (most recent call last):\n",
      "  File \"C:\\Users\\mbore\\AppData\\Local\\Temp\\ipykernel_18216\\1813308146.py\", line 37, in <module>\n",
      "    city_lat = city_weather[\"coord\"][\"lat\"]\n",
      "KeyError: 'coord'\n"
     ]
    },
    {
     "name": "stdout",
     "output_type": "stream",
     "text": [
      "Processing Record 16 of Set 6 | sao domingos do maranhao\n",
      "Processing Record 17 of Set 6 | komsomolskiy\n",
      "Processing Record 18 of Set 6 | rio grande\n",
      "Processing Record 19 of Set 6 | kanniyakumari\n",
      "Processing Record 20 of Set 6 | bida\n",
      "Processing Record 21 of Set 6 | thanh hoa\n",
      "Processing Record 22 of Set 6 | waipawa\n",
      "Processing Record 23 of Set 6 | cidreira\n",
      "Processing Record 24 of Set 6 | dubai\n",
      "Processing Record 25 of Set 6 | tuktoyaktuk\n",
      "Processing Record 26 of Set 6 | heihe\n",
      "Processing Record 27 of Set 6 | kruisfontein\n",
      "Processing Record 28 of Set 6 | progreso\n",
      "Processing Record 29 of Set 6 | louisbourg\n",
      "City not found. Skipping...\n",
      "Processing Record 30 of Set 6 | lakes entrance\n"
     ]
    },
    {
     "name": "stderr",
     "output_type": "stream",
     "text": [
      "Traceback (most recent call last):\n",
      "  File \"C:\\Users\\mbore\\AppData\\Local\\Temp\\ipykernel_18216\\1813308146.py\", line 37, in <module>\n",
      "    city_lat = city_weather[\"coord\"][\"lat\"]\n",
      "KeyError: 'coord'\n"
     ]
    },
    {
     "name": "stdout",
     "output_type": "stream",
     "text": [
      "Processing Record 31 of Set 6 | atambua\n",
      "Processing Record 32 of Set 6 | atar\n",
      "Processing Record 33 of Set 6 | bam\n",
      "Processing Record 34 of Set 6 | yatou\n",
      "Processing Record 35 of Set 6 | imbituba\n",
      "Processing Record 36 of Set 6 | khorixas\n",
      "Processing Record 37 of Set 6 | martuni\n",
      "Processing Record 38 of Set 6 | harper\n",
      "Processing Record 39 of Set 6 | lata\n",
      "Processing Record 40 of Set 6 | chernyshevskiy\n",
      "Processing Record 41 of Set 6 | beringovskiy\n",
      "Processing Record 42 of Set 6 | velika gorica\n",
      "Processing Record 43 of Set 6 | kodinar\n",
      "Processing Record 44 of Set 6 | isangel\n",
      "Processing Record 45 of Set 6 | illoqqortoormiut\n",
      "City not found. Skipping...\n",
      "Processing Record 46 of Set 6 | attawapiskat\n"
     ]
    },
    {
     "name": "stderr",
     "output_type": "stream",
     "text": [
      "Traceback (most recent call last):\n",
      "  File \"C:\\Users\\mbore\\AppData\\Local\\Temp\\ipykernel_18216\\1813308146.py\", line 37, in <module>\n",
      "    city_lat = city_weather[\"coord\"][\"lat\"]\n",
      "KeyError: 'coord'\n"
     ]
    },
    {
     "name": "stdout",
     "output_type": "stream",
     "text": [
      "City not found. Skipping...\n",
      "Processing Record 47 of Set 6 | hami\n"
     ]
    },
    {
     "name": "stderr",
     "output_type": "stream",
     "text": [
      "Traceback (most recent call last):\n",
      "  File \"C:\\Users\\mbore\\AppData\\Local\\Temp\\ipykernel_18216\\1813308146.py\", line 37, in <module>\n",
      "    city_lat = city_weather[\"coord\"][\"lat\"]\n",
      "KeyError: 'coord'\n"
     ]
    },
    {
     "name": "stdout",
     "output_type": "stream",
     "text": [
      "Processing Record 48 of Set 6 | stolin\n",
      "Processing Record 49 of Set 6 | bilibino\n",
      "Processing Record 50 of Set 6 | pacific grove\n",
      "Processing Record 1 of Set 7 | asau\n",
      "Processing Record 2 of Set 7 | carutapera\n",
      "Processing Record 3 of Set 7 | machinga\n",
      "Processing Record 4 of Set 7 | lompoc\n",
      "Processing Record 5 of Set 7 | hailar\n",
      "Processing Record 6 of Set 7 | gamba\n",
      "Processing Record 7 of Set 7 | labuhan\n",
      "Processing Record 8 of Set 7 | puerto baquerizo moreno\n",
      "Processing Record 9 of Set 7 | cayenne\n",
      "Processing Record 10 of Set 7 | laredo\n",
      "Processing Record 11 of Set 7 | torbay\n",
      "Processing Record 12 of Set 7 | talnakh\n",
      "Processing Record 13 of Set 7 | ranikhet\n",
      "Processing Record 14 of Set 7 | kawalu\n",
      "Processing Record 15 of Set 7 | bargal\n",
      "City not found. Skipping...\n"
     ]
    },
    {
     "name": "stderr",
     "output_type": "stream",
     "text": [
      "Traceback (most recent call last):\n",
      "  File \"C:\\Users\\mbore\\AppData\\Local\\Temp\\ipykernel_18216\\1813308146.py\", line 37, in <module>\n",
      "    city_lat = city_weather[\"coord\"][\"lat\"]\n",
      "KeyError: 'coord'\n"
     ]
    },
    {
     "name": "stdout",
     "output_type": "stream",
     "text": [
      "Processing Record 16 of Set 7 | labuan\n",
      "Processing Record 17 of Set 7 | barra do garcas\n",
      "Processing Record 18 of Set 7 | otane\n",
      "Processing Record 19 of Set 7 | ust-ilimsk\n",
      "Processing Record 20 of Set 7 | barahona\n",
      "Processing Record 21 of Set 7 | kijang\n",
      "Processing Record 22 of Set 7 | mrirt\n",
      "City not found. Skipping...\n",
      "Processing Record 23 of Set 7 | ossora\n"
     ]
    },
    {
     "name": "stderr",
     "output_type": "stream",
     "text": [
      "Traceback (most recent call last):\n",
      "  File \"C:\\Users\\mbore\\AppData\\Local\\Temp\\ipykernel_18216\\1813308146.py\", line 37, in <module>\n",
      "    city_lat = city_weather[\"coord\"][\"lat\"]\n",
      "KeyError: 'coord'\n"
     ]
    },
    {
     "name": "stdout",
     "output_type": "stream",
     "text": [
      "Processing Record 24 of Set 7 | hokitika\n",
      "Processing Record 25 of Set 7 | qaqortoq\n",
      "Processing Record 26 of Set 7 | rurrenabaque\n",
      "Processing Record 27 of Set 7 | jamsa\n",
      "Processing Record 28 of Set 7 | chilca\n",
      "Processing Record 29 of Set 7 | luanda\n",
      "Processing Record 30 of Set 7 | sitka\n",
      "Processing Record 31 of Set 7 | mazatlan\n",
      "Processing Record 32 of Set 7 | pavlohrad\n",
      "Processing Record 33 of Set 7 | sars\n",
      "Processing Record 34 of Set 7 | toamasina\n",
      "Processing Record 35 of Set 7 | mamallapuram\n",
      "Processing Record 36 of Set 7 | romitan\n",
      "Processing Record 37 of Set 7 | eenhana\n",
      "Processing Record 38 of Set 7 | beloha\n",
      "Processing Record 39 of Set 7 | tezu\n",
      "Processing Record 40 of Set 7 | rumford\n",
      "Processing Record 41 of Set 7 | flinders\n",
      "Processing Record 42 of Set 7 | albanel\n",
      "Processing Record 43 of Set 7 | birjand\n",
      "Processing Record 44 of Set 7 | hithadhoo\n",
      "Processing Record 45 of Set 7 | sioux falls\n",
      "Processing Record 46 of Set 7 | isla mujeres\n",
      "Processing Record 47 of Set 7 | boca do acre\n",
      "Processing Record 48 of Set 7 | itaituba\n",
      "Processing Record 49 of Set 7 | aguimes\n",
      "Processing Record 50 of Set 7 | swellendam\n",
      "Processing Record 1 of Set 8 | palmas\n",
      "Processing Record 2 of Set 8 | kloulklubed\n",
      "Processing Record 3 of Set 8 | rock sound\n",
      "Processing Record 4 of Set 8 | mkushi\n",
      "City not found. Skipping...\n",
      "Processing Record 5 of Set 8 | bengkulu\n"
     ]
    },
    {
     "name": "stderr",
     "output_type": "stream",
     "text": [
      "Traceback (most recent call last):\n",
      "  File \"C:\\Users\\mbore\\Anaconda3\\envs\\PythonData\\lib\\site-packages\\urllib3\\connectionpool.py\", line 710, in urlopen\n",
      "    chunked=chunked,\n",
      "  File \"C:\\Users\\mbore\\Anaconda3\\envs\\PythonData\\lib\\site-packages\\urllib3\\connectionpool.py\", line 449, in _make_request\n",
      "    six.raise_from(e, None)\n",
      "  File \"<string>\", line 3, in raise_from\n",
      "  File \"C:\\Users\\mbore\\Anaconda3\\envs\\PythonData\\lib\\site-packages\\urllib3\\connectionpool.py\", line 444, in _make_request\n",
      "    httplib_response = conn.getresponse()\n",
      "  File \"C:\\Users\\mbore\\Anaconda3\\envs\\PythonData\\lib\\http\\client.py\", line 1373, in getresponse\n",
      "    response.begin()\n",
      "  File \"C:\\Users\\mbore\\Anaconda3\\envs\\PythonData\\lib\\http\\client.py\", line 319, in begin\n",
      "    version, status, reason = self._read_status()\n",
      "  File \"C:\\Users\\mbore\\Anaconda3\\envs\\PythonData\\lib\\http\\client.py\", line 288, in _read_status\n",
      "    raise RemoteDisconnected(\"Remote end closed connection without\"\n",
      "http.client.RemoteDisconnected: Remote end closed connection without response\n",
      "\n",
      "During handling of the above exception, another exception occurred:\n",
      "\n",
      "Traceback (most recent call last):\n",
      "  File \"C:\\Users\\mbore\\Anaconda3\\envs\\PythonData\\lib\\site-packages\\requests\\adapters.py\", line 450, in send\n",
      "    timeout=timeout\n",
      "  File \"C:\\Users\\mbore\\Anaconda3\\envs\\PythonData\\lib\\site-packages\\urllib3\\connectionpool.py\", line 786, in urlopen\n",
      "    method, url, error=e, _pool=self, _stacktrace=sys.exc_info()[2]\n",
      "  File \"C:\\Users\\mbore\\Anaconda3\\envs\\PythonData\\lib\\site-packages\\urllib3\\util\\retry.py\", line 550, in increment\n",
      "    raise six.reraise(type(error), error, _stacktrace)\n",
      "  File \"C:\\Users\\mbore\\Anaconda3\\envs\\PythonData\\lib\\site-packages\\urllib3\\packages\\six.py\", line 769, in reraise\n",
      "    raise value.with_traceback(tb)\n",
      "  File \"C:\\Users\\mbore\\Anaconda3\\envs\\PythonData\\lib\\site-packages\\urllib3\\connectionpool.py\", line 710, in urlopen\n",
      "    chunked=chunked,\n",
      "  File \"C:\\Users\\mbore\\Anaconda3\\envs\\PythonData\\lib\\site-packages\\urllib3\\connectionpool.py\", line 449, in _make_request\n",
      "    six.raise_from(e, None)\n",
      "  File \"<string>\", line 3, in raise_from\n",
      "  File \"C:\\Users\\mbore\\Anaconda3\\envs\\PythonData\\lib\\site-packages\\urllib3\\connectionpool.py\", line 444, in _make_request\n",
      "    httplib_response = conn.getresponse()\n",
      "  File \"C:\\Users\\mbore\\Anaconda3\\envs\\PythonData\\lib\\http\\client.py\", line 1373, in getresponse\n",
      "    response.begin()\n",
      "  File \"C:\\Users\\mbore\\Anaconda3\\envs\\PythonData\\lib\\http\\client.py\", line 319, in begin\n",
      "    version, status, reason = self._read_status()\n",
      "  File \"C:\\Users\\mbore\\Anaconda3\\envs\\PythonData\\lib\\http\\client.py\", line 288, in _read_status\n",
      "    raise RemoteDisconnected(\"Remote end closed connection without\"\n",
      "urllib3.exceptions.ProtocolError: ('Connection aborted.', RemoteDisconnected('Remote end closed connection without response'))\n",
      "\n",
      "During handling of the above exception, another exception occurred:\n",
      "\n",
      "Traceback (most recent call last):\n",
      "  File \"C:\\Users\\mbore\\AppData\\Local\\Temp\\ipykernel_18216\\1813308146.py\", line 35, in <module>\n",
      "    city_weather = requests.get(city_url).json()\n",
      "  File \"C:\\Users\\mbore\\Anaconda3\\envs\\PythonData\\lib\\site-packages\\requests\\api.py\", line 75, in get\n",
      "    return request('get', url, params=params, **kwargs)\n",
      "  File \"C:\\Users\\mbore\\Anaconda3\\envs\\PythonData\\lib\\site-packages\\requests\\api.py\", line 61, in request\n",
      "    return session.request(method=method, url=url, **kwargs)\n",
      "  File \"C:\\Users\\mbore\\Anaconda3\\envs\\PythonData\\lib\\site-packages\\requests\\sessions.py\", line 529, in request\n",
      "    resp = self.send(prep, **send_kwargs)\n",
      "  File \"C:\\Users\\mbore\\Anaconda3\\envs\\PythonData\\lib\\site-packages\\requests\\sessions.py\", line 645, in send\n",
      "    r = adapter.send(request, **kwargs)\n",
      "  File \"C:\\Users\\mbore\\Anaconda3\\envs\\PythonData\\lib\\site-packages\\requests\\adapters.py\", line 501, in send\n",
      "    raise ConnectionError(err, request=request)\n",
      "requests.exceptions.ConnectionError: ('Connection aborted.', RemoteDisconnected('Remote end closed connection without response'))\n"
     ]
    },
    {
     "name": "stdout",
     "output_type": "stream",
     "text": [
      "Processing Record 6 of Set 8 | phangnga\n",
      "Processing Record 7 of Set 8 | yar-sale\n",
      "Processing Record 8 of Set 8 | bairiki\n",
      "Processing Record 9 of Set 8 | media luna\n",
      "Processing Record 10 of Set 8 | dasoguz\n",
      "Processing Record 11 of Set 8 | coihaique\n",
      "Processing Record 12 of Set 8 | touba\n",
      "Processing Record 13 of Set 8 | vestmanna\n",
      "Processing Record 14 of Set 8 | kodiak\n",
      "Processing Record 15 of Set 8 | noyabrsk\n",
      "Processing Record 16 of Set 8 | vila velha\n",
      "Processing Record 17 of Set 8 | tuatapere\n",
      "Processing Record 18 of Set 8 | moses lake\n",
      "Processing Record 19 of Set 8 | bonthe\n",
      "Processing Record 20 of Set 8 | gubkinskiy\n",
      "Processing Record 21 of Set 8 | suzun\n",
      "Processing Record 22 of Set 8 | severo-kurilsk\n",
      "Processing Record 23 of Set 8 | victoria falls\n",
      "Processing Record 24 of Set 8 | casa grande\n",
      "Processing Record 25 of Set 8 | el alto\n",
      "Processing Record 26 of Set 8 | provideniya\n",
      "Processing Record 27 of Set 8 | namatanai\n",
      "Processing Record 28 of Set 8 | saint-pierre\n",
      "Processing Record 29 of Set 8 | iqaluit\n",
      "Processing Record 30 of Set 8 | kahului\n",
      "Processing Record 31 of Set 8 | el faiyum\n",
      "City not found. Skipping...\n"
     ]
    },
    {
     "name": "stderr",
     "output_type": "stream",
     "text": [
      "Traceback (most recent call last):\n",
      "  File \"C:\\Users\\mbore\\AppData\\Local\\Temp\\ipykernel_18216\\1813308146.py\", line 37, in <module>\n",
      "    city_lat = city_weather[\"coord\"][\"lat\"]\n",
      "KeyError: 'coord'\n"
     ]
    },
    {
     "name": "stdout",
     "output_type": "stream",
     "text": [
      "Processing Record 32 of Set 8 | bulgan\n",
      "Processing Record 33 of Set 8 | baoding\n",
      "Processing Record 34 of Set 8 | bambanglipuro\n",
      "Processing Record 35 of Set 8 | sakakah\n",
      "Processing Record 36 of Set 8 | lavrentiya\n",
      "Processing Record 37 of Set 8 | tajumulco\n",
      "Processing Record 38 of Set 8 | bonavista\n",
      "Processing Record 39 of Set 8 | moree\n",
      "Processing Record 40 of Set 8 | umzimvubu\n",
      "City not found. Skipping...\n"
     ]
    },
    {
     "name": "stderr",
     "output_type": "stream",
     "text": [
      "Traceback (most recent call last):\n",
      "  File \"C:\\Users\\mbore\\AppData\\Local\\Temp\\ipykernel_18216\\1813308146.py\", line 37, in <module>\n",
      "    city_lat = city_weather[\"coord\"][\"lat\"]\n",
      "KeyError: 'coord'\n"
     ]
    },
    {
     "name": "stdout",
     "output_type": "stream",
     "text": [
      "Processing Record 41 of Set 8 | amahai\n",
      "Processing Record 42 of Set 8 | naziya\n",
      "Processing Record 43 of Set 8 | port-gentil\n",
      "Processing Record 44 of Set 8 | oskarshamn\n",
      "Processing Record 45 of Set 8 | hualmay\n",
      "Processing Record 46 of Set 8 | kamenka\n",
      "Processing Record 47 of Set 8 | merauke\n",
      "Processing Record 48 of Set 8 | hendek\n",
      "Processing Record 49 of Set 8 | olinda\n",
      "Processing Record 50 of Set 8 | bur gabo\n",
      "City not found. Skipping...\n"
     ]
    },
    {
     "name": "stderr",
     "output_type": "stream",
     "text": [
      "Traceback (most recent call last):\n",
      "  File \"C:\\Users\\mbore\\AppData\\Local\\Temp\\ipykernel_18216\\1813308146.py\", line 37, in <module>\n",
      "    city_lat = city_weather[\"coord\"][\"lat\"]\n",
      "KeyError: 'coord'\n"
     ]
    },
    {
     "name": "stdout",
     "output_type": "stream",
     "text": [
      "Processing Record 1 of Set 9 | pafos\n",
      "Processing Record 2 of Set 9 | saint anthony\n",
      "Processing Record 3 of Set 9 | natal\n",
      "Processing Record 4 of Set 9 | angoram\n",
      "Processing Record 5 of Set 9 | tura\n",
      "Processing Record 6 of Set 9 | udachnyy\n",
      "Processing Record 7 of Set 9 | painesville\n",
      "Processing Record 8 of Set 9 | camana\n",
      "Processing Record 9 of Set 9 | rieti\n",
      "Processing Record 10 of Set 9 | nara\n",
      "Processing Record 11 of Set 9 | caravelas\n",
      "Processing Record 12 of Set 9 | novyy urgal\n",
      "Processing Record 13 of Set 9 | pokhara\n",
      "Processing Record 14 of Set 9 | nouadhibou\n",
      "Processing Record 15 of Set 9 | marawi\n",
      "Processing Record 16 of Set 9 | srbobran\n",
      "Processing Record 17 of Set 9 | jablah\n",
      "Processing Record 18 of Set 9 | auki\n",
      "Processing Record 19 of Set 9 | qui nhon\n",
      "Processing Record 20 of Set 9 | pak phanang\n",
      "Processing Record 21 of Set 9 | lagoa\n",
      "Processing Record 22 of Set 9 | hwange\n",
      "Processing Record 23 of Set 9 | rio gallegos\n",
      "Processing Record 24 of Set 9 | chimbarongo\n",
      "Processing Record 25 of Set 9 | atasu\n",
      "Processing Record 26 of Set 9 | basco\n",
      "Processing Record 27 of Set 9 | klaebu\n",
      "Processing Record 28 of Set 9 | santa helena\n",
      "Processing Record 29 of Set 9 | ferrol\n",
      "Processing Record 30 of Set 9 | kaeo\n",
      "Processing Record 31 of Set 9 | maltahohe\n",
      "Processing Record 32 of Set 9 | trapani\n",
      "Processing Record 33 of Set 9 | porto real\n",
      "Processing Record 34 of Set 9 | naze\n",
      "Processing Record 35 of Set 9 | dapaong\n",
      "Processing Record 36 of Set 9 | ulety\n",
      "Processing Record 37 of Set 9 | tiznit\n",
      "Processing Record 38 of Set 9 | dovolnoye\n",
      "Processing Record 39 of Set 9 | marzuq\n",
      "Processing Record 40 of Set 9 | iracoubo\n",
      "Processing Record 41 of Set 9 | ugra\n",
      "Processing Record 42 of Set 9 | vilyuysk\n",
      "Processing Record 43 of Set 9 | faanui\n",
      "Processing Record 44 of Set 9 | erzin\n",
      "Processing Record 45 of Set 9 | san jose\n",
      "Processing Record 46 of Set 9 | morondava\n",
      "Processing Record 47 of Set 9 | tokoroa\n",
      "Processing Record 48 of Set 9 | cap malheureux\n",
      "Processing Record 49 of Set 9 | umm lajj\n",
      "Processing Record 50 of Set 9 | biak\n",
      "Processing Record 1 of Set 10 | kalmunai\n",
      "Processing Record 2 of Set 10 | mount gambier\n",
      "Processing Record 3 of Set 10 | talcahuano\n",
      "Processing Record 4 of Set 10 | aksu\n",
      "Processing Record 5 of Set 10 | tianpeng\n",
      "Processing Record 6 of Set 10 | orlik\n",
      "Processing Record 7 of Set 10 | clyde river\n",
      "Processing Record 8 of Set 10 | fujinomiya\n",
      "Processing Record 9 of Set 10 | vrangel\n",
      "Processing Record 10 of Set 10 | praia da vitoria\n",
      "Processing Record 11 of Set 10 | goure\n",
      "Processing Record 12 of Set 10 | wanaka\n",
      "Processing Record 13 of Set 10 | riviere-au-renard\n",
      "Processing Record 14 of Set 10 | matara\n",
      "Processing Record 15 of Set 10 | petropavlovsk-kamchatskiy\n",
      "Processing Record 16 of Set 10 | palabuhanratu\n",
      "City not found. Skipping...\n"
     ]
    },
    {
     "name": "stderr",
     "output_type": "stream",
     "text": [
      "Traceback (most recent call last):\n",
      "  File \"C:\\Users\\mbore\\AppData\\Local\\Temp\\ipykernel_18216\\1813308146.py\", line 37, in <module>\n",
      "    city_lat = city_weather[\"coord\"][\"lat\"]\n",
      "KeyError: 'coord'\n"
     ]
    },
    {
     "name": "stdout",
     "output_type": "stream",
     "text": [
      "Processing Record 17 of Set 10 | esil\n",
      "Processing Record 18 of Set 10 | vitoria do mearim\n",
      "Processing Record 19 of Set 10 | wellington\n",
      "Processing Record 20 of Set 10 | buala\n",
      "Processing Record 21 of Set 10 | berezovyy\n",
      "Processing Record 22 of Set 10 | loa janan\n",
      "Processing Record 23 of Set 10 | kavaratti\n",
      "Processing Record 24 of Set 10 | hauterive\n",
      "Processing Record 25 of Set 10 | manggar\n",
      "Processing Record 26 of Set 10 | esperance\n",
      "Processing Record 27 of Set 10 | sambava\n",
      "Processing Record 28 of Set 10 | norrtalje\n",
      "Processing Record 29 of Set 10 | berlevag\n",
      "Processing Record 30 of Set 10 | balsas\n",
      "Processing Record 31 of Set 10 | port hedland\n",
      "Processing Record 32 of Set 10 | saldanha\n",
      "Processing Record 33 of Set 10 | ishigaki\n",
      "Processing Record 34 of Set 10 | copacabana\n",
      "Processing Record 35 of Set 10 | hirara\n",
      "Processing Record 36 of Set 10 | ostrov\n",
      "Processing Record 37 of Set 10 | lagos\n",
      "Processing Record 38 of Set 10 | asfi\n",
      "Processing Record 39 of Set 10 | tarudant\n",
      "City not found. Skipping...\n",
      "Processing Record 40 of Set 10 | goderich\n"
     ]
    },
    {
     "name": "stderr",
     "output_type": "stream",
     "text": [
      "Traceback (most recent call last):\n",
      "  File \"C:\\Users\\mbore\\AppData\\Local\\Temp\\ipykernel_18216\\1813308146.py\", line 37, in <module>\n",
      "    city_lat = city_weather[\"coord\"][\"lat\"]\n",
      "KeyError: 'coord'\n"
     ]
    },
    {
     "name": "stdout",
     "output_type": "stream",
     "text": [
      "Processing Record 41 of Set 10 | pangody\n",
      "Processing Record 42 of Set 10 | diosjeno\n",
      "Processing Record 43 of Set 10 | grand gaube\n",
      "Processing Record 44 of Set 10 | vila franca do campo\n",
      "Processing Record 45 of Set 10 | san andres\n",
      "Processing Record 46 of Set 10 | westport\n",
      "Processing Record 47 of Set 10 | arrecife\n",
      "Processing Record 48 of Set 10 | mount pleasant\n",
      "Processing Record 49 of Set 10 | luena\n",
      "Processing Record 50 of Set 10 | bulolo\n",
      "Processing Record 1 of Set 11 | banda aceh\n",
      "Processing Record 2 of Set 11 | wakkanai\n",
      "Processing Record 3 of Set 11 | saint george\n",
      "Processing Record 4 of Set 11 | santa maria da vitoria\n",
      "Processing Record 5 of Set 11 | booue\n",
      "Processing Record 6 of Set 11 | surt\n",
      "Processing Record 7 of Set 11 | novyy urengoy\n",
      "Processing Record 8 of Set 11 | tigil\n",
      "Processing Record 9 of Set 11 | payson\n",
      "Processing Record 10 of Set 11 | marcona\n",
      "City not found. Skipping...\n",
      "Processing Record 11 of Set 11 | paamiut\n"
     ]
    },
    {
     "name": "stderr",
     "output_type": "stream",
     "text": [
      "Traceback (most recent call last):\n",
      "  File \"C:\\Users\\mbore\\AppData\\Local\\Temp\\ipykernel_18216\\1813308146.py\", line 37, in <module>\n",
      "    city_lat = city_weather[\"coord\"][\"lat\"]\n",
      "KeyError: 'coord'\n"
     ]
    },
    {
     "name": "stdout",
     "output_type": "stream",
     "text": [
      "Processing Record 12 of Set 11 | mumford\n",
      "Processing Record 13 of Set 11 | zhob\n",
      "Processing Record 14 of Set 11 | cortez\n",
      "Processing Record 15 of Set 11 | eureka\n",
      "Processing Record 16 of Set 11 | buta\n",
      "Processing Record 17 of Set 11 | adrar\n",
      "Processing Record 18 of Set 11 | mayo\n",
      "Processing Record 19 of Set 11 | kochinda\n",
      "Processing Record 20 of Set 11 | khonuu\n",
      "City not found. Skipping...\n",
      "Processing Record 21 of Set 11 | bemidji\n"
     ]
    },
    {
     "name": "stderr",
     "output_type": "stream",
     "text": [
      "Traceback (most recent call last):\n",
      "  File \"C:\\Users\\mbore\\AppData\\Local\\Temp\\ipykernel_18216\\1813308146.py\", line 37, in <module>\n",
      "    city_lat = city_weather[\"coord\"][\"lat\"]\n",
      "KeyError: 'coord'\n"
     ]
    },
    {
     "name": "stdout",
     "output_type": "stream",
     "text": [
      "Processing Record 22 of Set 11 | deputatskiy\n",
      "Processing Record 23 of Set 11 | sao joao dos patos\n",
      "Processing Record 24 of Set 11 | xixiang\n",
      "Processing Record 25 of Set 11 | seda\n",
      "Processing Record 26 of Set 11 | pekalongan\n",
      "Processing Record 27 of Set 11 | prainha\n",
      "Processing Record 28 of Set 11 | meulaboh\n",
      "Processing Record 29 of Set 11 | virginia beach\n",
      "Processing Record 30 of Set 11 | parchim\n",
      "Processing Record 31 of Set 11 | half moon bay\n",
      "Processing Record 32 of Set 11 | bull savanna\n",
      "Processing Record 33 of Set 11 | baneh\n",
      "Processing Record 34 of Set 11 | olavarria\n",
      "Processing Record 35 of Set 11 | renqiu\n",
      "Processing Record 36 of Set 11 | yangjiang\n",
      "Processing Record 37 of Set 11 | tanout\n",
      "Processing Record 38 of Set 11 | fez\n",
      "Processing Record 39 of Set 11 | santa cruz de la palma\n",
      "Processing Record 40 of Set 11 | algiers\n",
      "Processing Record 41 of Set 11 | billings\n",
      "Processing Record 42 of Set 11 | batemans bay\n",
      "Processing Record 43 of Set 11 | ban tak\n",
      "Processing Record 44 of Set 11 | mandalgovi\n",
      "Processing Record 45 of Set 11 | puerto escondido\n",
      "Processing Record 46 of Set 11 | flin flon\n",
      "Processing Record 47 of Set 11 | kungurtug\n",
      "Processing Record 48 of Set 11 | emerald\n",
      "Processing Record 49 of Set 11 | teguldet\n",
      "Processing Record 50 of Set 11 | svetlyy\n",
      "Processing Record 1 of Set 12 | tutoia\n",
      "Processing Record 2 of Set 12 | sechura\n",
      "Processing Record 3 of Set 12 | dwarka\n",
      "Processing Record 4 of Set 12 | ca mau\n",
      "Processing Record 5 of Set 12 | dzerzhinsk\n",
      "Processing Record 6 of Set 12 | zeya\n",
      "Processing Record 7 of Set 12 | perpignan\n",
      "Processing Record 8 of Set 12 | moose factory\n",
      "Processing Record 9 of Set 12 | hovd\n",
      "Processing Record 10 of Set 12 | boa vista\n",
      "Processing Record 11 of Set 12 | karkaralinsk\n",
      "City not found. Skipping...\n",
      "Processing Record 12 of Set 12 | pangai\n"
     ]
    },
    {
     "name": "stderr",
     "output_type": "stream",
     "text": [
      "Traceback (most recent call last):\n",
      "  File \"C:\\Users\\mbore\\AppData\\Local\\Temp\\ipykernel_18216\\1813308146.py\", line 37, in <module>\n",
      "    city_lat = city_weather[\"coord\"][\"lat\"]\n",
      "KeyError: 'coord'\n"
     ]
    },
    {
     "name": "stdout",
     "output_type": "stream",
     "text": [
      "Processing Record 13 of Set 12 | colatina\n",
      "Processing Record 14 of Set 12 | leningradskiy\n",
      "Processing Record 15 of Set 12 | chimbote\n",
      "Processing Record 16 of Set 12 | ijaki\n",
      "City not found. Skipping...\n",
      "Processing Record 17 of Set 12 | port lincoln\n"
     ]
    },
    {
     "name": "stderr",
     "output_type": "stream",
     "text": [
      "Traceback (most recent call last):\n",
      "  File \"C:\\Users\\mbore\\AppData\\Local\\Temp\\ipykernel_18216\\1813308146.py\", line 37, in <module>\n",
      "    city_lat = city_weather[\"coord\"][\"lat\"]\n",
      "KeyError: 'coord'\n"
     ]
    },
    {
     "name": "stdout",
     "output_type": "stream",
     "text": [
      "Processing Record 18 of Set 12 | glendive\n",
      "Processing Record 19 of Set 12 | marquette\n",
      "Processing Record 20 of Set 12 | nishihara\n",
      "Processing Record 21 of Set 12 | kochi\n",
      "Processing Record 22 of Set 12 | chapais\n",
      "Processing Record 23 of Set 12 | karratha\n",
      "Processing Record 24 of Set 12 | tazovskiy\n",
      "Processing Record 25 of Set 12 | kaniama\n",
      "Processing Record 26 of Set 12 | laguna\n",
      "Processing Record 27 of Set 12 | sanand\n",
      "Processing Record 28 of Set 12 | ekibastuz\n",
      "Processing Record 29 of Set 12 | meppel\n",
      "Processing Record 30 of Set 12 | roma\n",
      "Processing Record 31 of Set 12 | pudozh\n",
      "Processing Record 32 of Set 12 | saint-louis\n",
      "Processing Record 33 of Set 12 | singkang\n",
      "Processing Record 34 of Set 12 | sorrento\n",
      "Processing Record 35 of Set 12 | redmond\n",
      "Processing Record 36 of Set 12 | nhulunbuy\n",
      "Processing Record 37 of Set 12 | manono\n",
      "Processing Record 38 of Set 12 | fort nelson\n",
      "Processing Record 39 of Set 12 | saint-augustin\n",
      "Processing Record 40 of Set 12 | sangar\n",
      "Processing Record 41 of Set 12 | sarmanovo\n",
      "Processing Record 42 of Set 12 | daru\n",
      "Processing Record 43 of Set 12 | mitu\n",
      "Processing Record 44 of Set 12 | framingham\n",
      "Processing Record 45 of Set 12 | la palma\n",
      "Processing Record 46 of Set 12 | khani\n",
      "Processing Record 47 of Set 12 | road town\n",
      "Processing Record 48 of Set 12 | aswan\n",
      "Processing Record 49 of Set 12 | sorong\n",
      "Processing Record 50 of Set 12 | larsnes\n",
      "Processing Record 1 of Set 13 | fasa\n",
      "Processing Record 2 of Set 13 | tolbazy\n",
      "Processing Record 3 of Set 13 | byron bay\n",
      "Processing Record 4 of Set 13 | chadan\n",
      "Processing Record 5 of Set 13 | tabiauea\n",
      "City not found. Skipping...\n",
      "Processing Record 6 of Set 13 | wuan\n"
     ]
    },
    {
     "name": "stderr",
     "output_type": "stream",
     "text": [
      "Traceback (most recent call last):\n",
      "  File \"C:\\Users\\mbore\\AppData\\Local\\Temp\\ipykernel_18216\\1813308146.py\", line 37, in <module>\n",
      "    city_lat = city_weather[\"coord\"][\"lat\"]\n",
      "KeyError: 'coord'\n"
     ]
    },
    {
     "name": "stdout",
     "output_type": "stream",
     "text": [
      "Processing Record 7 of Set 13 | mongomo\n",
      "-----------------------------\n",
      "Data Retrieval Complete      \n",
      "-----------------------------\n"
     ]
    }
   ],
   "source": [
    "# Create an empty list to hold the weather data.\n",
    "city_data = []\n",
    "\n",
    "# Print the beginning of the logging.\n",
    "print(\"Beginning Data Retrieval     \")\n",
    "print(\"-----------------------------\")\n",
    "\n",
    "# Create counters.\n",
    "record_count = 1\n",
    "set_count = 1\n",
    "\n",
    "# Starting URL for Weather Map API Call.\n",
    "url = \"http://api.openweathermap.org/data/2.5/weather?units=Imperial&APPID=\" + weather_api_key\n",
    "\n",
    "# Loop through all the cities in our list.\n",
    "for i, city in enumerate(cities):\n",
    "\n",
    "    # Group cities in sets of 50 for logging purposes.\n",
    "    if (i % 50 == 0 and i >= 50):\n",
    "        set_count += 1\n",
    "        record_count = 1\n",
    "        time.sleep(60)\n",
    "\n",
    "    # Create endpoint URL with each city.\n",
    "    city_url = url + \"&q=\" + city.replace(\" \",\"+\")\n",
    "    \n",
    "    # Log the URL, record, and set numbers and the city.\n",
    "    print(f\"Processing Record {record_count} of Set {set_count} | {city}\")\n",
    "    # Add 1 to the record count.\n",
    "    record_count += 1\n",
    "    \n",
    "    # Run an API request for each of the cities.\n",
    "    try:\n",
    "        # Parse the JSON and retrieve data.\n",
    "        city_weather = requests.get(city_url).json()\n",
    "        # Parse out the needed data.\n",
    "        city_lat = city_weather[\"coord\"][\"lat\"]\n",
    "        city_lng = city_weather[\"coord\"][\"lon\"]\n",
    "        city_max_temp = city_weather[\"main\"][\"temp_max\"]\n",
    "        city_humidity = city_weather[\"main\"][\"humidity\"]\n",
    "        city_clouds = city_weather[\"clouds\"][\"all\"]\n",
    "        city_wind = city_weather[\"wind\"][\"speed\"]\n",
    "        city_country = city_weather[\"sys\"][\"country\"]\n",
    "        # Convert the date to ISO standard.\n",
    "        city_date = datetime.utcfromtimestamp(city_weather[\"dt\"]).strftime('%Y-%m-%d %H:%M:%S')\n",
    "        # Append the city information into city_data list.\n",
    "        city_data.append({\"City\": city.title(),\n",
    "                          \"Lat\": city_lat,\n",
    "                          \"Lng\": city_lng,\n",
    "                          \"Max Temp\": city_max_temp,\n",
    "                          \"Humidity\": city_humidity,\n",
    "                          \"Cloudiness\": city_clouds,\n",
    "                          \"Wind Speed\": city_wind,\n",
    "                          \"Country\": city_country,\n",
    "                          \"Date\": city_date})\n",
    "\n",
    "# If an error is experienced, skip the city.\n",
    "    except Exception:\n",
    "        print(\"City not found. Skipping...\")\n",
    "        traceback.print_exc()\n",
    "        pass\n",
    "\n",
    "# Indicate that Data Loading is complete.\n",
    "print(\"-----------------------------\")\n",
    "print(\"Data Retrieval Complete      \")\n",
    "print(\"-----------------------------\")"
   ]
  },
  {
   "cell_type": "code",
   "execution_count": 10,
   "id": "cdadff9c",
   "metadata": {},
   "outputs": [
    {
     "data": {
      "text/plain": [
       "570"
      ]
     },
     "execution_count": 10,
     "metadata": {},
     "output_type": "execute_result"
    }
   ],
   "source": [
    "len(city_data)"
   ]
  },
  {
   "cell_type": "code",
   "execution_count": 11,
   "id": "4c125845",
   "metadata": {},
   "outputs": [
    {
     "data": {
      "text/html": [
       "<div>\n",
       "<style scoped>\n",
       "    .dataframe tbody tr th:only-of-type {\n",
       "        vertical-align: middle;\n",
       "    }\n",
       "\n",
       "    .dataframe tbody tr th {\n",
       "        vertical-align: top;\n",
       "    }\n",
       "\n",
       "    .dataframe thead th {\n",
       "        text-align: right;\n",
       "    }\n",
       "</style>\n",
       "<table border=\"1\" class=\"dataframe\">\n",
       "  <thead>\n",
       "    <tr style=\"text-align: right;\">\n",
       "      <th></th>\n",
       "      <th>City</th>\n",
       "      <th>Lat</th>\n",
       "      <th>Lng</th>\n",
       "      <th>Max Temp</th>\n",
       "      <th>Humidity</th>\n",
       "      <th>Cloudiness</th>\n",
       "      <th>Wind Speed</th>\n",
       "      <th>Country</th>\n",
       "      <th>Date</th>\n",
       "    </tr>\n",
       "  </thead>\n",
       "  <tbody>\n",
       "    <tr>\n",
       "      <th>0</th>\n",
       "      <td>Avarua</td>\n",
       "      <td>-21.2078</td>\n",
       "      <td>-159.7750</td>\n",
       "      <td>71.65</td>\n",
       "      <td>60</td>\n",
       "      <td>100</td>\n",
       "      <td>6.91</td>\n",
       "      <td>CK</td>\n",
       "      <td>2022-07-06 16:55:36</td>\n",
       "    </tr>\n",
       "    <tr>\n",
       "      <th>1</th>\n",
       "      <td>Horta</td>\n",
       "      <td>38.5333</td>\n",
       "      <td>-28.6333</td>\n",
       "      <td>67.64</td>\n",
       "      <td>77</td>\n",
       "      <td>75</td>\n",
       "      <td>5.75</td>\n",
       "      <td>PT</td>\n",
       "      <td>2022-07-06 16:55:36</td>\n",
       "    </tr>\n",
       "    <tr>\n",
       "      <th>2</th>\n",
       "      <td>Bambous Virieux</td>\n",
       "      <td>-20.3428</td>\n",
       "      <td>57.7575</td>\n",
       "      <td>70.05</td>\n",
       "      <td>60</td>\n",
       "      <td>75</td>\n",
       "      <td>10.36</td>\n",
       "      <td>MU</td>\n",
       "      <td>2022-07-06 16:55:37</td>\n",
       "    </tr>\n",
       "    <tr>\n",
       "      <th>3</th>\n",
       "      <td>Jiexiu</td>\n",
       "      <td>37.0244</td>\n",
       "      <td>111.9125</td>\n",
       "      <td>77.56</td>\n",
       "      <td>31</td>\n",
       "      <td>0</td>\n",
       "      <td>2.93</td>\n",
       "      <td>CN</td>\n",
       "      <td>2022-07-06 16:55:37</td>\n",
       "    </tr>\n",
       "    <tr>\n",
       "      <th>4</th>\n",
       "      <td>Kshenskiy</td>\n",
       "      <td>51.8408</td>\n",
       "      <td>37.7136</td>\n",
       "      <td>74.93</td>\n",
       "      <td>66</td>\n",
       "      <td>99</td>\n",
       "      <td>6.93</td>\n",
       "      <td>RU</td>\n",
       "      <td>2022-07-06 16:55:37</td>\n",
       "    </tr>\n",
       "    <tr>\n",
       "      <th>5</th>\n",
       "      <td>Castro</td>\n",
       "      <td>-24.7911</td>\n",
       "      <td>-50.0119</td>\n",
       "      <td>70.38</td>\n",
       "      <td>40</td>\n",
       "      <td>100</td>\n",
       "      <td>7.76</td>\n",
       "      <td>BR</td>\n",
       "      <td>2022-07-06 16:55:38</td>\n",
       "    </tr>\n",
       "    <tr>\n",
       "      <th>6</th>\n",
       "      <td>Saint-Philippe</td>\n",
       "      <td>-21.3585</td>\n",
       "      <td>55.7679</td>\n",
       "      <td>67.59</td>\n",
       "      <td>75</td>\n",
       "      <td>70</td>\n",
       "      <td>11.88</td>\n",
       "      <td>RE</td>\n",
       "      <td>2022-07-06 16:55:38</td>\n",
       "    </tr>\n",
       "    <tr>\n",
       "      <th>7</th>\n",
       "      <td>Bredasdorp</td>\n",
       "      <td>-34.5322</td>\n",
       "      <td>20.0403</td>\n",
       "      <td>49.50</td>\n",
       "      <td>83</td>\n",
       "      <td>11</td>\n",
       "      <td>2.04</td>\n",
       "      <td>ZA</td>\n",
       "      <td>2022-07-06 16:55:39</td>\n",
       "    </tr>\n",
       "    <tr>\n",
       "      <th>8</th>\n",
       "      <td>Ntungamo</td>\n",
       "      <td>-0.8833</td>\n",
       "      <td>29.6500</td>\n",
       "      <td>71.87</td>\n",
       "      <td>51</td>\n",
       "      <td>19</td>\n",
       "      <td>2.98</td>\n",
       "      <td>UG</td>\n",
       "      <td>2022-07-06 16:55:39</td>\n",
       "    </tr>\n",
       "    <tr>\n",
       "      <th>9</th>\n",
       "      <td>Alhandra</td>\n",
       "      <td>-7.4386</td>\n",
       "      <td>-34.9144</td>\n",
       "      <td>84.42</td>\n",
       "      <td>68</td>\n",
       "      <td>6</td>\n",
       "      <td>12.50</td>\n",
       "      <td>BR</td>\n",
       "      <td>2022-07-06 16:55:39</td>\n",
       "    </tr>\n",
       "  </tbody>\n",
       "</table>\n",
       "</div>"
      ],
      "text/plain": [
       "              City      Lat       Lng  Max Temp  Humidity  Cloudiness  \\\n",
       "0           Avarua -21.2078 -159.7750     71.65        60         100   \n",
       "1            Horta  38.5333  -28.6333     67.64        77          75   \n",
       "2  Bambous Virieux -20.3428   57.7575     70.05        60          75   \n",
       "3           Jiexiu  37.0244  111.9125     77.56        31           0   \n",
       "4        Kshenskiy  51.8408   37.7136     74.93        66          99   \n",
       "5           Castro -24.7911  -50.0119     70.38        40         100   \n",
       "6   Saint-Philippe -21.3585   55.7679     67.59        75          70   \n",
       "7       Bredasdorp -34.5322   20.0403     49.50        83          11   \n",
       "8         Ntungamo  -0.8833   29.6500     71.87        51          19   \n",
       "9         Alhandra  -7.4386  -34.9144     84.42        68           6   \n",
       "\n",
       "   Wind Speed Country                 Date  \n",
       "0        6.91      CK  2022-07-06 16:55:36  \n",
       "1        5.75      PT  2022-07-06 16:55:36  \n",
       "2       10.36      MU  2022-07-06 16:55:37  \n",
       "3        2.93      CN  2022-07-06 16:55:37  \n",
       "4        6.93      RU  2022-07-06 16:55:37  \n",
       "5        7.76      BR  2022-07-06 16:55:38  \n",
       "6       11.88      RE  2022-07-06 16:55:38  \n",
       "7        2.04      ZA  2022-07-06 16:55:39  \n",
       "8        2.98      UG  2022-07-06 16:55:39  \n",
       "9       12.50      BR  2022-07-06 16:55:39  "
      ]
     },
     "execution_count": 11,
     "metadata": {},
     "output_type": "execute_result"
    }
   ],
   "source": [
    "# Covert the array of dictionaries to a Pandas DataFrame\n",
    "city_data_df = pd.DataFrame(city_data)\n",
    "city_data_df.head(10)"
   ]
  },
  {
   "cell_type": "code",
   "execution_count": 14,
   "id": "8e6ca1e2",
   "metadata": {},
   "outputs": [
    {
     "data": {
      "text/html": [
       "<div>\n",
       "<style scoped>\n",
       "    .dataframe tbody tr th:only-of-type {\n",
       "        vertical-align: middle;\n",
       "    }\n",
       "\n",
       "    .dataframe tbody tr th {\n",
       "        vertical-align: top;\n",
       "    }\n",
       "\n",
       "    .dataframe thead th {\n",
       "        text-align: right;\n",
       "    }\n",
       "</style>\n",
       "<table border=\"1\" class=\"dataframe\">\n",
       "  <thead>\n",
       "    <tr style=\"text-align: right;\">\n",
       "      <th></th>\n",
       "      <th>City</th>\n",
       "      <th>Country</th>\n",
       "      <th>Date</th>\n",
       "      <th>Lat</th>\n",
       "      <th>Lng</th>\n",
       "      <th>Max Temp</th>\n",
       "      <th>Humidity</th>\n",
       "      <th>Cloudiness</th>\n",
       "      <th>Wind Speed</th>\n",
       "    </tr>\n",
       "  </thead>\n",
       "  <tbody>\n",
       "    <tr>\n",
       "      <th>0</th>\n",
       "      <td>Avarua</td>\n",
       "      <td>CK</td>\n",
       "      <td>2022-07-06 16:55:36</td>\n",
       "      <td>-21.2078</td>\n",
       "      <td>-159.7750</td>\n",
       "      <td>71.65</td>\n",
       "      <td>60</td>\n",
       "      <td>100</td>\n",
       "      <td>6.91</td>\n",
       "    </tr>\n",
       "    <tr>\n",
       "      <th>1</th>\n",
       "      <td>Horta</td>\n",
       "      <td>PT</td>\n",
       "      <td>2022-07-06 16:55:36</td>\n",
       "      <td>38.5333</td>\n",
       "      <td>-28.6333</td>\n",
       "      <td>67.64</td>\n",
       "      <td>77</td>\n",
       "      <td>75</td>\n",
       "      <td>5.75</td>\n",
       "    </tr>\n",
       "    <tr>\n",
       "      <th>2</th>\n",
       "      <td>Bambous Virieux</td>\n",
       "      <td>MU</td>\n",
       "      <td>2022-07-06 16:55:37</td>\n",
       "      <td>-20.3428</td>\n",
       "      <td>57.7575</td>\n",
       "      <td>70.05</td>\n",
       "      <td>60</td>\n",
       "      <td>75</td>\n",
       "      <td>10.36</td>\n",
       "    </tr>\n",
       "    <tr>\n",
       "      <th>3</th>\n",
       "      <td>Jiexiu</td>\n",
       "      <td>CN</td>\n",
       "      <td>2022-07-06 16:55:37</td>\n",
       "      <td>37.0244</td>\n",
       "      <td>111.9125</td>\n",
       "      <td>77.56</td>\n",
       "      <td>31</td>\n",
       "      <td>0</td>\n",
       "      <td>2.93</td>\n",
       "    </tr>\n",
       "    <tr>\n",
       "      <th>4</th>\n",
       "      <td>Kshenskiy</td>\n",
       "      <td>RU</td>\n",
       "      <td>2022-07-06 16:55:37</td>\n",
       "      <td>51.8408</td>\n",
       "      <td>37.7136</td>\n",
       "      <td>74.93</td>\n",
       "      <td>66</td>\n",
       "      <td>99</td>\n",
       "      <td>6.93</td>\n",
       "    </tr>\n",
       "    <tr>\n",
       "      <th>5</th>\n",
       "      <td>Castro</td>\n",
       "      <td>BR</td>\n",
       "      <td>2022-07-06 16:55:38</td>\n",
       "      <td>-24.7911</td>\n",
       "      <td>-50.0119</td>\n",
       "      <td>70.38</td>\n",
       "      <td>40</td>\n",
       "      <td>100</td>\n",
       "      <td>7.76</td>\n",
       "    </tr>\n",
       "    <tr>\n",
       "      <th>6</th>\n",
       "      <td>Saint-Philippe</td>\n",
       "      <td>RE</td>\n",
       "      <td>2022-07-06 16:55:38</td>\n",
       "      <td>-21.3585</td>\n",
       "      <td>55.7679</td>\n",
       "      <td>67.59</td>\n",
       "      <td>75</td>\n",
       "      <td>70</td>\n",
       "      <td>11.88</td>\n",
       "    </tr>\n",
       "    <tr>\n",
       "      <th>7</th>\n",
       "      <td>Bredasdorp</td>\n",
       "      <td>ZA</td>\n",
       "      <td>2022-07-06 16:55:39</td>\n",
       "      <td>-34.5322</td>\n",
       "      <td>20.0403</td>\n",
       "      <td>49.50</td>\n",
       "      <td>83</td>\n",
       "      <td>11</td>\n",
       "      <td>2.04</td>\n",
       "    </tr>\n",
       "    <tr>\n",
       "      <th>8</th>\n",
       "      <td>Ntungamo</td>\n",
       "      <td>UG</td>\n",
       "      <td>2022-07-06 16:55:39</td>\n",
       "      <td>-0.8833</td>\n",
       "      <td>29.6500</td>\n",
       "      <td>71.87</td>\n",
       "      <td>51</td>\n",
       "      <td>19</td>\n",
       "      <td>2.98</td>\n",
       "    </tr>\n",
       "    <tr>\n",
       "      <th>9</th>\n",
       "      <td>Alhandra</td>\n",
       "      <td>BR</td>\n",
       "      <td>2022-07-06 16:55:39</td>\n",
       "      <td>-7.4386</td>\n",
       "      <td>-34.9144</td>\n",
       "      <td>84.42</td>\n",
       "      <td>68</td>\n",
       "      <td>6</td>\n",
       "      <td>12.50</td>\n",
       "    </tr>\n",
       "  </tbody>\n",
       "</table>\n",
       "</div>"
      ],
      "text/plain": [
       "              City Country                 Date      Lat       Lng  Max Temp  \\\n",
       "0           Avarua      CK  2022-07-06 16:55:36 -21.2078 -159.7750     71.65   \n",
       "1            Horta      PT  2022-07-06 16:55:36  38.5333  -28.6333     67.64   \n",
       "2  Bambous Virieux      MU  2022-07-06 16:55:37 -20.3428   57.7575     70.05   \n",
       "3           Jiexiu      CN  2022-07-06 16:55:37  37.0244  111.9125     77.56   \n",
       "4        Kshenskiy      RU  2022-07-06 16:55:37  51.8408   37.7136     74.93   \n",
       "5           Castro      BR  2022-07-06 16:55:38 -24.7911  -50.0119     70.38   \n",
       "6   Saint-Philippe      RE  2022-07-06 16:55:38 -21.3585   55.7679     67.59   \n",
       "7       Bredasdorp      ZA  2022-07-06 16:55:39 -34.5322   20.0403     49.50   \n",
       "8         Ntungamo      UG  2022-07-06 16:55:39  -0.8833   29.6500     71.87   \n",
       "9         Alhandra      BR  2022-07-06 16:55:39  -7.4386  -34.9144     84.42   \n",
       "\n",
       "   Humidity  Cloudiness  Wind Speed  \n",
       "0        60         100        6.91  \n",
       "1        77          75        5.75  \n",
       "2        60          75       10.36  \n",
       "3        31           0        2.93  \n",
       "4        66          99        6.93  \n",
       "5        40         100        7.76  \n",
       "6        75          70       11.88  \n",
       "7        83          11        2.04  \n",
       "8        51          19        2.98  \n",
       "9        68           6       12.50  "
      ]
     },
     "execution_count": 14,
     "metadata": {},
     "output_type": "execute_result"
    }
   ],
   "source": [
    "# Reorder columns of city DataFrame\n",
    "new_column_order = [\"City\", \"Country\", \"Date\", \"Lat\", \"Lng\", \"Max Temp\", \"Humidity\", \"Cloudiness\", \"Wind Speed\"]\n",
    "city_data_df = city_data_df[new_column_order]\n",
    "city_data_df.head(10)"
   ]
  },
  {
   "cell_type": "code",
   "execution_count": 15,
   "id": "b497a950",
   "metadata": {},
   "outputs": [],
   "source": [
    "# Create the output file (csv).\n",
    "output_data_file = \"weather_data/cities.csv\"\n",
    "\n",
    "# Export the city_data into a csv\n",
    "city_data_df.to_csv(output_data_file, index_label = \"City_ID\")"
   ]
  },
  {
   "cell_type": "code",
   "execution_count": 17,
   "id": "6b141e5a",
   "metadata": {},
   "outputs": [],
   "source": [
    "# Extract relevant fields from the DataFrame for plotting.\n",
    "lats = city_data_df[\"Lat\"]\n",
    "max_temps = city_data_df[\"Max Temp\"]\n",
    "humidity = city_data_df[\"Humidity\"]\n",
    "cloudiness = city_data_df[\"Cloudiness\"]\n",
    "wind_speed = city_data_df[\"Wind Speed\"]"
   ]
  },
  {
   "cell_type": "code",
   "execution_count": 23,
   "id": "1f2af900",
   "metadata": {},
   "outputs": [
    {
     "data": {
      "image/png": "[encoded data removed]",
      "text/plain": [
       "<Figure size 432x288 with 1 Axes>"
      ]
     },
     "metadata": {
      "needs_background": "light"
     },
     "output_type": "display_data"
    }
   ],
   "source": [
    "# Import the time module\n",
    "import time\n",
    "\n",
    "# Build the scatter plot for latitude vs max temperature\n",
    "plt.scatter(lats,\n",
    "            max_temps,\n",
    "            edgecolor = \"black\", linewidths = 1, marker = \"o\",\n",
    "            alpha = 0.8, label = \"Cities\")\n",
    "    \n",
    "# Incorporate the other graph properties.\n",
    "plt.title(f\"City Latitude vs Max Temperature\"+time.strftime(\"%x\"))\n",
    "plt.ylabel(\"Max Temperaure (F)\")\n",
    "plt.xlabel(\"Latitude\")\n",
    "plt.grid(True)\n",
    "\n",
    "# Save the figure\n",
    "plt.savefig(\"weather_data/Fig1.png\")\n",
    "\n",
    "# Show plot\n",
    "plt.show()"
   ]
  },
  {
   "cell_type": "code",
   "execution_count": 26,
   "id": "aa87629d",
   "metadata": {},
   "outputs": [
    {
     "data": {
      "image/png": "[encoded data removed]",
      "text/plain": [
       "<Figure size 432x288 with 1 Axes>"
      ]
     },
     "metadata": {
      "needs_background": "light"
     },
     "output_type": "display_data"
    }
   ],
   "source": [
    "# Build the scatter plot for humidity vs max temperature\n",
    "plt.scatter(lats,\n",
    "            humidity,\n",
    "            edgecolor = \"black\", linewidths = 1, marker = \"o\",\n",
    "            alpha = 0.8, label = \"Cities\")\n",
    "    \n",
    "# Incorporate the other graph properties.\n",
    "plt.title(f\"City Latitude vs Max Temperature\"+time.strftime(\"%x\"))\n",
    "plt.ylabel(\"Humidity (%)\")\n",
    "plt.xlabel(\"Latitude\")\n",
    "plt.grid(True)\n",
    "\n",
    "# Save the figure\n",
    "plt.savefig(\"weather_data/Fig2.png\")\n",
    "\n",
    "# Show plot\n",
    "plt.show()"
   ]
  },
  {
   "cell_type": "code",
   "execution_count": 27,
   "id": "a43440af",
   "metadata": {},
   "outputs": [
    {
     "data": {
      "image/png": "[encoded data removed]",
      "text/plain": [
       "<Figure size 432x288 with 1 Axes>"
      ]
     },
     "metadata": {
      "needs_background": "light"
     },
     "output_type": "display_data"
    }
   ],
   "source": [
    "# Build the scatter plot for cloudiness vs max temperature\n",
    "plt.scatter(lats,\n",
    "            cloudiness,\n",
    "            edgecolor = \"black\", linewidths = 1, marker = \"o\",\n",
    "            alpha = 0.8, label = \"Cities\")\n",
    "    \n",
    "# Incorporate the other graph properties.\n",
    "plt.title(f\"City Latitude vs Max Temperature\"+time.strftime(\"%x\"))\n",
    "plt.ylabel(\"Cloudiness (%)\")\n",
    "plt.xlabel(\"Latitude\")\n",
    "plt.grid(True)\n",
    "\n",
    "# Save the figure\n",
    "plt.savefig(\"weather_data/Fig3.png\")\n",
    "\n",
    "# Show plot\n",
    "plt.show()"
   ]
  },
  {
   "cell_type": "code",
   "execution_count": 29,
   "id": "04d994ab",
   "metadata": {},
   "outputs": [
    {
     "data": {
      "image/png": "[encoded data removed]",
      "text/plain": [
       "<Figure size 432x288 with 1 Axes>"
      ]
     },
     "metadata": {
      "needs_background": "light"
     },
     "output_type": "display_data"
    }
   ],
   "source": [
    "# Build the scatter plot for latitude vs max temperature\n",
    "plt.scatter(lats,\n",
    "            wind_speed,\n",
    "            edgecolor = \"black\", linewidths = 1, marker = \"o\",\n",
    "            alpha = 0.8, label = \"Cities\")\n",
    "    \n",
    "# Incorporate the other graph properties.\n",
    "plt.title(f\"City Latitude vs Max Temperature\"+time.strftime(\"%x\"))\n",
    "plt.ylabel(\"Wind Speed (mph)\")\n",
    "plt.xlabel(\"Latitude\")\n",
    "plt.grid(True)\n",
    "\n",
    "# Save the figure\n",
    "plt.savefig(\"weather_data/Fig4.png\")\n",
    "\n",
    "# Show plot\n",
    "plt.show()"
   ]
  },
  {
   "cell_type": "code",
   "execution_count": null,
   "id": "ac3cd8aa",
   "metadata": {},
   "outputs": [],
   "source": []
  }
 ],
 "metadata": {
  "kernelspec": {
   "display_name": "PythonData",
   "language": "python",
   "name": "pythondata"
  },
  "language_info": {
   "codemirror_mode": {
    "name": "ipython",
    "version": 3
   },
   "file_extension": ".py",
   "mimetype": "text/x-python",
   "name": "python",
   "nbconvert_exporter": "python",
   "pygments_lexer": "ipython3",
   "version": "3.7.13"
  }
 },
 "nbformat": 4,
 "nbformat_minor": 5
}
